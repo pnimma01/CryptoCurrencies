{
 "cells": [
  {
   "cell_type": "markdown",
   "metadata": {},
   "source": [
    "# Clustering Crypto"
   ]
  },
  {
   "cell_type": "code",
   "execution_count": 7,
   "metadata": {},
   "outputs": [],
   "source": [
    "# Initial imports\n",
    "import pandas as pd\n",
    "import hvplot.pandas\n",
    "from path import Path\n",
    "import plotly.express as px\n",
    "from sklearn.preprocessing import StandardScaler, MinMaxScaler\n",
    "from sklearn.decomposition import PCA\n",
    "from sklearn.cluster import KMeans\n"
   ]
  },
  {
   "cell_type": "markdown",
   "metadata": {},
   "source": [
    "### Deliverable 1: Preprocessing the Data for PCA"
   ]
  },
  {
   "cell_type": "code",
   "execution_count": 8,
   "metadata": {},
   "outputs": [
    {
     "data": {
      "text/html": [
       "<div>\n",
       "<style scoped>\n",
       "    .dataframe tbody tr th:only-of-type {\n",
       "        vertical-align: middle;\n",
       "    }\n",
       "\n",
       "    .dataframe tbody tr th {\n",
       "        vertical-align: top;\n",
       "    }\n",
       "\n",
       "    .dataframe thead th {\n",
       "        text-align: right;\n",
       "    }\n",
       "</style>\n",
       "<table border=\"1\" class=\"dataframe\">\n",
       "  <thead>\n",
       "    <tr style=\"text-align: right;\">\n",
       "      <th></th>\n",
       "      <th>Unnamed: 0</th>\n",
       "      <th>CoinName</th>\n",
       "      <th>Algorithm</th>\n",
       "      <th>IsTrading</th>\n",
       "      <th>ProofType</th>\n",
       "      <th>TotalCoinsMined</th>\n",
       "      <th>TotalCoinSupply</th>\n",
       "    </tr>\n",
       "  </thead>\n",
       "  <tbody>\n",
       "    <tr>\n",
       "      <th>0</th>\n",
       "      <td>42</td>\n",
       "      <td>42 Coin</td>\n",
       "      <td>Scrypt</td>\n",
       "      <td>True</td>\n",
       "      <td>PoW/PoS</td>\n",
       "      <td>4.199995e+01</td>\n",
       "      <td>42</td>\n",
       "    </tr>\n",
       "    <tr>\n",
       "      <th>1</th>\n",
       "      <td>365</td>\n",
       "      <td>365Coin</td>\n",
       "      <td>X11</td>\n",
       "      <td>True</td>\n",
       "      <td>PoW/PoS</td>\n",
       "      <td>NaN</td>\n",
       "      <td>2300000000</td>\n",
       "    </tr>\n",
       "    <tr>\n",
       "      <th>2</th>\n",
       "      <td>404</td>\n",
       "      <td>404Coin</td>\n",
       "      <td>Scrypt</td>\n",
       "      <td>True</td>\n",
       "      <td>PoW/PoS</td>\n",
       "      <td>1.055185e+09</td>\n",
       "      <td>532000000</td>\n",
       "    </tr>\n",
       "    <tr>\n",
       "      <th>3</th>\n",
       "      <td>611</td>\n",
       "      <td>SixEleven</td>\n",
       "      <td>SHA-256</td>\n",
       "      <td>True</td>\n",
       "      <td>PoW</td>\n",
       "      <td>NaN</td>\n",
       "      <td>611000</td>\n",
       "    </tr>\n",
       "    <tr>\n",
       "      <th>4</th>\n",
       "      <td>808</td>\n",
       "      <td>808</td>\n",
       "      <td>SHA-256</td>\n",
       "      <td>True</td>\n",
       "      <td>PoW/PoS</td>\n",
       "      <td>0.000000e+00</td>\n",
       "      <td>0</td>\n",
       "    </tr>\n",
       "  </tbody>\n",
       "</table>\n",
       "</div>"
      ],
      "text/plain": [
       "  Unnamed: 0   CoinName Algorithm  IsTrading ProofType  TotalCoinsMined  \\\n",
       "0         42    42 Coin    Scrypt       True   PoW/PoS     4.199995e+01   \n",
       "1        365    365Coin       X11       True   PoW/PoS              NaN   \n",
       "2        404    404Coin    Scrypt       True   PoW/PoS     1.055185e+09   \n",
       "3        611  SixEleven   SHA-256       True       PoW              NaN   \n",
       "4        808        808   SHA-256       True   PoW/PoS     0.000000e+00   \n",
       "\n",
       "  TotalCoinSupply  \n",
       "0              42  \n",
       "1      2300000000  \n",
       "2       532000000  \n",
       "3          611000  \n",
       "4               0  "
      ]
     },
     "execution_count": 8,
     "metadata": {},
     "output_type": "execute_result"
    }
   ],
   "source": [
    "# Load the crypto_data.csv dataset.\n",
    "crypto_df = pd.read_csv(\"./resources/crypto_data.csv\")\n",
    "crypto_df.head()"
   ]
  },
  {
   "cell_type": "code",
   "execution_count": 9,
   "metadata": {},
   "outputs": [
    {
     "name": "stdout",
     "output_type": "stream",
     "text": [
      "(1144, 6)\n"
     ]
    },
    {
     "data": {
      "text/html": [
       "<div>\n",
       "<style scoped>\n",
       "    .dataframe tbody tr th:only-of-type {\n",
       "        vertical-align: middle;\n",
       "    }\n",
       "\n",
       "    .dataframe tbody tr th {\n",
       "        vertical-align: top;\n",
       "    }\n",
       "\n",
       "    .dataframe thead th {\n",
       "        text-align: right;\n",
       "    }\n",
       "</style>\n",
       "<table border=\"1\" class=\"dataframe\">\n",
       "  <thead>\n",
       "    <tr style=\"text-align: right;\">\n",
       "      <th></th>\n",
       "      <th>CoinName</th>\n",
       "      <th>Algorithm</th>\n",
       "      <th>IsTrading</th>\n",
       "      <th>ProofType</th>\n",
       "      <th>TotalCoinsMined</th>\n",
       "      <th>TotalCoinSupply</th>\n",
       "    </tr>\n",
       "    <tr>\n",
       "      <th>Unnamed: 0</th>\n",
       "      <th></th>\n",
       "      <th></th>\n",
       "      <th></th>\n",
       "      <th></th>\n",
       "      <th></th>\n",
       "      <th></th>\n",
       "    </tr>\n",
       "  </thead>\n",
       "  <tbody>\n",
       "    <tr>\n",
       "      <th>42</th>\n",
       "      <td>42 Coin</td>\n",
       "      <td>Scrypt</td>\n",
       "      <td>True</td>\n",
       "      <td>PoW/PoS</td>\n",
       "      <td>4.199995e+01</td>\n",
       "      <td>42</td>\n",
       "    </tr>\n",
       "    <tr>\n",
       "      <th>365</th>\n",
       "      <td>365Coin</td>\n",
       "      <td>X11</td>\n",
       "      <td>True</td>\n",
       "      <td>PoW/PoS</td>\n",
       "      <td>NaN</td>\n",
       "      <td>2300000000</td>\n",
       "    </tr>\n",
       "    <tr>\n",
       "      <th>404</th>\n",
       "      <td>404Coin</td>\n",
       "      <td>Scrypt</td>\n",
       "      <td>True</td>\n",
       "      <td>PoW/PoS</td>\n",
       "      <td>1.055185e+09</td>\n",
       "      <td>532000000</td>\n",
       "    </tr>\n",
       "    <tr>\n",
       "      <th>611</th>\n",
       "      <td>SixEleven</td>\n",
       "      <td>SHA-256</td>\n",
       "      <td>True</td>\n",
       "      <td>PoW</td>\n",
       "      <td>NaN</td>\n",
       "      <td>611000</td>\n",
       "    </tr>\n",
       "    <tr>\n",
       "      <th>808</th>\n",
       "      <td>808</td>\n",
       "      <td>SHA-256</td>\n",
       "      <td>True</td>\n",
       "      <td>PoW/PoS</td>\n",
       "      <td>0.000000e+00</td>\n",
       "      <td>0</td>\n",
       "    </tr>\n",
       "    <tr>\n",
       "      <th>1337</th>\n",
       "      <td>EliteCoin</td>\n",
       "      <td>X13</td>\n",
       "      <td>True</td>\n",
       "      <td>PoW/PoS</td>\n",
       "      <td>2.927942e+10</td>\n",
       "      <td>314159265359</td>\n",
       "    </tr>\n",
       "    <tr>\n",
       "      <th>2015</th>\n",
       "      <td>2015 coin</td>\n",
       "      <td>X11</td>\n",
       "      <td>True</td>\n",
       "      <td>PoW/PoS</td>\n",
       "      <td>NaN</td>\n",
       "      <td>0</td>\n",
       "    </tr>\n",
       "    <tr>\n",
       "      <th>BTC</th>\n",
       "      <td>Bitcoin</td>\n",
       "      <td>SHA-256</td>\n",
       "      <td>True</td>\n",
       "      <td>PoW</td>\n",
       "      <td>1.792718e+07</td>\n",
       "      <td>21000000</td>\n",
       "    </tr>\n",
       "    <tr>\n",
       "      <th>ETH</th>\n",
       "      <td>Ethereum</td>\n",
       "      <td>Ethash</td>\n",
       "      <td>True</td>\n",
       "      <td>PoW</td>\n",
       "      <td>1.076842e+08</td>\n",
       "      <td>0</td>\n",
       "    </tr>\n",
       "    <tr>\n",
       "      <th>LTC</th>\n",
       "      <td>Litecoin</td>\n",
       "      <td>Scrypt</td>\n",
       "      <td>True</td>\n",
       "      <td>PoW</td>\n",
       "      <td>6.303924e+07</td>\n",
       "      <td>84000000</td>\n",
       "    </tr>\n",
       "  </tbody>\n",
       "</table>\n",
       "</div>"
      ],
      "text/plain": [
       "             CoinName Algorithm  IsTrading ProofType  TotalCoinsMined  \\\n",
       "Unnamed: 0                                                              \n",
       "42            42 Coin    Scrypt       True   PoW/PoS     4.199995e+01   \n",
       "365           365Coin       X11       True   PoW/PoS              NaN   \n",
       "404           404Coin    Scrypt       True   PoW/PoS     1.055185e+09   \n",
       "611         SixEleven   SHA-256       True       PoW              NaN   \n",
       "808               808   SHA-256       True   PoW/PoS     0.000000e+00   \n",
       "1337        EliteCoin       X13       True   PoW/PoS     2.927942e+10   \n",
       "2015        2015 coin       X11       True   PoW/PoS              NaN   \n",
       "BTC           Bitcoin   SHA-256       True       PoW     1.792718e+07   \n",
       "ETH          Ethereum    Ethash       True       PoW     1.076842e+08   \n",
       "LTC          Litecoin    Scrypt       True       PoW     6.303924e+07   \n",
       "\n",
       "           TotalCoinSupply  \n",
       "Unnamed: 0                  \n",
       "42                      42  \n",
       "365             2300000000  \n",
       "404              532000000  \n",
       "611                 611000  \n",
       "808                      0  \n",
       "1337          314159265359  \n",
       "2015                     0  \n",
       "BTC               21000000  \n",
       "ETH                      0  \n",
       "LTC               84000000  "
      ]
     },
     "execution_count": 9,
     "metadata": {},
     "output_type": "execute_result"
    }
   ],
   "source": [
    "# Keep all the cryptocurrencies that are being traded.\n",
    "# YOUR CODE HERE\n",
    "crypto_df = crypto_df[crypto_df[\"IsTrading\"] == True]\n",
    "crypto_df = crypto_df.set_index('Unnamed: 0')\n",
    "print((len(crypto_df.axes[0]), len(crypto_df.axes[1])))\n",
    "crypto_df.head(10)"
   ]
  },
  {
   "cell_type": "code",
   "execution_count": 10,
   "metadata": {},
   "outputs": [
    {
     "data": {
      "text/html": [
       "<div>\n",
       "<style scoped>\n",
       "    .dataframe tbody tr th:only-of-type {\n",
       "        vertical-align: middle;\n",
       "    }\n",
       "\n",
       "    .dataframe tbody tr th {\n",
       "        vertical-align: top;\n",
       "    }\n",
       "\n",
       "    .dataframe thead th {\n",
       "        text-align: right;\n",
       "    }\n",
       "</style>\n",
       "<table border=\"1\" class=\"dataframe\">\n",
       "  <thead>\n",
       "    <tr style=\"text-align: right;\">\n",
       "      <th></th>\n",
       "      <th>CoinName</th>\n",
       "      <th>Algorithm</th>\n",
       "      <th>IsTrading</th>\n",
       "      <th>ProofType</th>\n",
       "      <th>TotalCoinsMined</th>\n",
       "      <th>TotalCoinSupply</th>\n",
       "    </tr>\n",
       "    <tr>\n",
       "      <th>Unnamed: 0</th>\n",
       "      <th></th>\n",
       "      <th></th>\n",
       "      <th></th>\n",
       "      <th></th>\n",
       "      <th></th>\n",
       "      <th></th>\n",
       "    </tr>\n",
       "  </thead>\n",
       "  <tbody>\n",
       "    <tr>\n",
       "      <th>42</th>\n",
       "      <td>42 Coin</td>\n",
       "      <td>Scrypt</td>\n",
       "      <td>True</td>\n",
       "      <td>PoW/PoS</td>\n",
       "      <td>4.199995e+01</td>\n",
       "      <td>42</td>\n",
       "    </tr>\n",
       "    <tr>\n",
       "      <th>365</th>\n",
       "      <td>365Coin</td>\n",
       "      <td>X11</td>\n",
       "      <td>True</td>\n",
       "      <td>PoW/PoS</td>\n",
       "      <td>NaN</td>\n",
       "      <td>2300000000</td>\n",
       "    </tr>\n",
       "    <tr>\n",
       "      <th>404</th>\n",
       "      <td>404Coin</td>\n",
       "      <td>Scrypt</td>\n",
       "      <td>True</td>\n",
       "      <td>PoW/PoS</td>\n",
       "      <td>1.055185e+09</td>\n",
       "      <td>532000000</td>\n",
       "    </tr>\n",
       "    <tr>\n",
       "      <th>611</th>\n",
       "      <td>SixEleven</td>\n",
       "      <td>SHA-256</td>\n",
       "      <td>True</td>\n",
       "      <td>PoW</td>\n",
       "      <td>NaN</td>\n",
       "      <td>611000</td>\n",
       "    </tr>\n",
       "    <tr>\n",
       "      <th>808</th>\n",
       "      <td>808</td>\n",
       "      <td>SHA-256</td>\n",
       "      <td>True</td>\n",
       "      <td>PoW/PoS</td>\n",
       "      <td>0.000000e+00</td>\n",
       "      <td>0</td>\n",
       "    </tr>\n",
       "  </tbody>\n",
       "</table>\n",
       "</div>"
      ],
      "text/plain": [
       "             CoinName Algorithm  IsTrading ProofType  TotalCoinsMined  \\\n",
       "Unnamed: 0                                                              \n",
       "42            42 Coin    Scrypt       True   PoW/PoS     4.199995e+01   \n",
       "365           365Coin       X11       True   PoW/PoS              NaN   \n",
       "404           404Coin    Scrypt       True   PoW/PoS     1.055185e+09   \n",
       "611         SixEleven   SHA-256       True       PoW              NaN   \n",
       "808               808   SHA-256       True   PoW/PoS     0.000000e+00   \n",
       "\n",
       "           TotalCoinSupply  \n",
       "Unnamed: 0                  \n",
       "42                      42  \n",
       "365             2300000000  \n",
       "404              532000000  \n",
       "611                 611000  \n",
       "808                      0  "
      ]
     },
     "execution_count": 10,
     "metadata": {},
     "output_type": "execute_result"
    }
   ],
   "source": [
    "# Keep all the cryptocurrencies that have a working algorithm.\n",
    "crypto_df = crypto_df[crypto_df['Algorithm'] != \"N/A\"]\n",
    "crypto_df.head()"
   ]
  },
  {
   "cell_type": "code",
   "execution_count": 11,
   "metadata": {},
   "outputs": [
    {
     "data": {
      "text/html": [
       "<div>\n",
       "<style scoped>\n",
       "    .dataframe tbody tr th:only-of-type {\n",
       "        vertical-align: middle;\n",
       "    }\n",
       "\n",
       "    .dataframe tbody tr th {\n",
       "        vertical-align: top;\n",
       "    }\n",
       "\n",
       "    .dataframe thead th {\n",
       "        text-align: right;\n",
       "    }\n",
       "</style>\n",
       "<table border=\"1\" class=\"dataframe\">\n",
       "  <thead>\n",
       "    <tr style=\"text-align: right;\">\n",
       "      <th></th>\n",
       "      <th>CoinName</th>\n",
       "      <th>Algorithm</th>\n",
       "      <th>ProofType</th>\n",
       "      <th>TotalCoinsMined</th>\n",
       "      <th>TotalCoinSupply</th>\n",
       "    </tr>\n",
       "    <tr>\n",
       "      <th>Unnamed: 0</th>\n",
       "      <th></th>\n",
       "      <th></th>\n",
       "      <th></th>\n",
       "      <th></th>\n",
       "      <th></th>\n",
       "    </tr>\n",
       "  </thead>\n",
       "  <tbody>\n",
       "    <tr>\n",
       "      <th>42</th>\n",
       "      <td>42 Coin</td>\n",
       "      <td>Scrypt</td>\n",
       "      <td>PoW/PoS</td>\n",
       "      <td>4.199995e+01</td>\n",
       "      <td>42</td>\n",
       "    </tr>\n",
       "    <tr>\n",
       "      <th>365</th>\n",
       "      <td>365Coin</td>\n",
       "      <td>X11</td>\n",
       "      <td>PoW/PoS</td>\n",
       "      <td>NaN</td>\n",
       "      <td>2300000000</td>\n",
       "    </tr>\n",
       "    <tr>\n",
       "      <th>404</th>\n",
       "      <td>404Coin</td>\n",
       "      <td>Scrypt</td>\n",
       "      <td>PoW/PoS</td>\n",
       "      <td>1.055185e+09</td>\n",
       "      <td>532000000</td>\n",
       "    </tr>\n",
       "    <tr>\n",
       "      <th>611</th>\n",
       "      <td>SixEleven</td>\n",
       "      <td>SHA-256</td>\n",
       "      <td>PoW</td>\n",
       "      <td>NaN</td>\n",
       "      <td>611000</td>\n",
       "    </tr>\n",
       "    <tr>\n",
       "      <th>808</th>\n",
       "      <td>808</td>\n",
       "      <td>SHA-256</td>\n",
       "      <td>PoW/PoS</td>\n",
       "      <td>0.000000e+00</td>\n",
       "      <td>0</td>\n",
       "    </tr>\n",
       "  </tbody>\n",
       "</table>\n",
       "</div>"
      ],
      "text/plain": [
       "             CoinName Algorithm ProofType  TotalCoinsMined TotalCoinSupply\n",
       "Unnamed: 0                                                                \n",
       "42            42 Coin    Scrypt   PoW/PoS     4.199995e+01              42\n",
       "365           365Coin       X11   PoW/PoS              NaN      2300000000\n",
       "404           404Coin    Scrypt   PoW/PoS     1.055185e+09       532000000\n",
       "611         SixEleven   SHA-256       PoW              NaN          611000\n",
       "808               808   SHA-256   PoW/PoS     0.000000e+00               0"
      ]
     },
     "execution_count": 11,
     "metadata": {},
     "output_type": "execute_result"
    }
   ],
   "source": [
    "# Remove the \"IsTrading\" column. \n",
    "crypto_df = crypto_df.drop(['IsTrading'], axis=1)\n",
    "crypto_df.head()"
   ]
  },
  {
   "cell_type": "code",
   "execution_count": 13,
   "metadata": {},
   "outputs": [
    {
     "name": "stdout",
     "output_type": "stream",
     "text": [
      "685\n"
     ]
    }
   ],
   "source": [
    "# Remove rows that have at least 1 null value.\n",
    "crypto_df = crypto_df.dropna(axis=0)\n",
    "print(len(crypto_df))"
   ]
  },
  {
   "cell_type": "code",
   "execution_count": 14,
   "metadata": {},
   "outputs": [
    {
     "name": "stdout",
     "output_type": "stream",
     "text": [
      "532\n"
     ]
    }
   ],
   "source": [
    "# Keep the rows where coins are mined.\n",
    "crypto_df = crypto_df[crypto_df['TotalCoinsMined'] > 0]\n",
    "print(len(crypto_df))"
   ]
  },
  {
   "cell_type": "code",
   "execution_count": 15,
   "metadata": {},
   "outputs": [
    {
     "data": {
      "text/html": [
       "<div>\n",
       "<style scoped>\n",
       "    .dataframe tbody tr th:only-of-type {\n",
       "        vertical-align: middle;\n",
       "    }\n",
       "\n",
       "    .dataframe tbody tr th {\n",
       "        vertical-align: top;\n",
       "    }\n",
       "\n",
       "    .dataframe thead th {\n",
       "        text-align: right;\n",
       "    }\n",
       "</style>\n",
       "<table border=\"1\" class=\"dataframe\">\n",
       "  <thead>\n",
       "    <tr style=\"text-align: right;\">\n",
       "      <th></th>\n",
       "      <th>CoinName</th>\n",
       "    </tr>\n",
       "    <tr>\n",
       "      <th>Unnamed: 0</th>\n",
       "      <th></th>\n",
       "    </tr>\n",
       "  </thead>\n",
       "  <tbody>\n",
       "    <tr>\n",
       "      <th>42</th>\n",
       "      <td>42 Coin</td>\n",
       "    </tr>\n",
       "    <tr>\n",
       "      <th>404</th>\n",
       "      <td>404Coin</td>\n",
       "    </tr>\n",
       "    <tr>\n",
       "      <th>1337</th>\n",
       "      <td>EliteCoin</td>\n",
       "    </tr>\n",
       "    <tr>\n",
       "      <th>BTC</th>\n",
       "      <td>Bitcoin</td>\n",
       "    </tr>\n",
       "    <tr>\n",
       "      <th>ETH</th>\n",
       "      <td>Ethereum</td>\n",
       "    </tr>\n",
       "  </tbody>\n",
       "</table>\n",
       "</div>"
      ],
      "text/plain": [
       "             CoinName\n",
       "Unnamed: 0           \n",
       "42            42 Coin\n",
       "404           404Coin\n",
       "1337        EliteCoin\n",
       "BTC           Bitcoin\n",
       "ETH          Ethereum"
      ]
     },
     "execution_count": 15,
     "metadata": {},
     "output_type": "execute_result"
    }
   ],
   "source": [
    "# Create a new DataFrame that holds only the cryptocurrencies names.\n",
    "crypto_names = crypto_df[[\"CoinName\"]]\n",
    "crypto_names.head()"
   ]
  },
  {
   "cell_type": "code",
   "execution_count": 16,
   "metadata": {},
   "outputs": [
    {
     "data": {
      "text/html": [
       "<div>\n",
       "<style scoped>\n",
       "    .dataframe tbody tr th:only-of-type {\n",
       "        vertical-align: middle;\n",
       "    }\n",
       "\n",
       "    .dataframe tbody tr th {\n",
       "        vertical-align: top;\n",
       "    }\n",
       "\n",
       "    .dataframe thead th {\n",
       "        text-align: right;\n",
       "    }\n",
       "</style>\n",
       "<table border=\"1\" class=\"dataframe\">\n",
       "  <thead>\n",
       "    <tr style=\"text-align: right;\">\n",
       "      <th></th>\n",
       "      <th>Algorithm</th>\n",
       "      <th>ProofType</th>\n",
       "      <th>TotalCoinsMined</th>\n",
       "      <th>TotalCoinSupply</th>\n",
       "    </tr>\n",
       "    <tr>\n",
       "      <th>Unnamed: 0</th>\n",
       "      <th></th>\n",
       "      <th></th>\n",
       "      <th></th>\n",
       "      <th></th>\n",
       "    </tr>\n",
       "  </thead>\n",
       "  <tbody>\n",
       "    <tr>\n",
       "      <th>42</th>\n",
       "      <td>Scrypt</td>\n",
       "      <td>PoW/PoS</td>\n",
       "      <td>4.199995e+01</td>\n",
       "      <td>42</td>\n",
       "    </tr>\n",
       "    <tr>\n",
       "      <th>404</th>\n",
       "      <td>Scrypt</td>\n",
       "      <td>PoW/PoS</td>\n",
       "      <td>1.055185e+09</td>\n",
       "      <td>532000000</td>\n",
       "    </tr>\n",
       "    <tr>\n",
       "      <th>1337</th>\n",
       "      <td>X13</td>\n",
       "      <td>PoW/PoS</td>\n",
       "      <td>2.927942e+10</td>\n",
       "      <td>314159265359</td>\n",
       "    </tr>\n",
       "    <tr>\n",
       "      <th>BTC</th>\n",
       "      <td>SHA-256</td>\n",
       "      <td>PoW</td>\n",
       "      <td>1.792718e+07</td>\n",
       "      <td>21000000</td>\n",
       "    </tr>\n",
       "    <tr>\n",
       "      <th>ETH</th>\n",
       "      <td>Ethash</td>\n",
       "      <td>PoW</td>\n",
       "      <td>1.076842e+08</td>\n",
       "      <td>0</td>\n",
       "    </tr>\n",
       "    <tr>\n",
       "      <th>LTC</th>\n",
       "      <td>Scrypt</td>\n",
       "      <td>PoW</td>\n",
       "      <td>6.303924e+07</td>\n",
       "      <td>84000000</td>\n",
       "    </tr>\n",
       "    <tr>\n",
       "      <th>DASH</th>\n",
       "      <td>X11</td>\n",
       "      <td>PoW/PoS</td>\n",
       "      <td>9.031294e+06</td>\n",
       "      <td>22000000</td>\n",
       "    </tr>\n",
       "    <tr>\n",
       "      <th>XMR</th>\n",
       "      <td>CryptoNight-V7</td>\n",
       "      <td>PoW</td>\n",
       "      <td>1.720114e+07</td>\n",
       "      <td>0</td>\n",
       "    </tr>\n",
       "    <tr>\n",
       "      <th>ETC</th>\n",
       "      <td>Ethash</td>\n",
       "      <td>PoW</td>\n",
       "      <td>1.133597e+08</td>\n",
       "      <td>210000000</td>\n",
       "    </tr>\n",
       "    <tr>\n",
       "      <th>ZEC</th>\n",
       "      <td>Equihash</td>\n",
       "      <td>PoW</td>\n",
       "      <td>7.383056e+06</td>\n",
       "      <td>21000000</td>\n",
       "    </tr>\n",
       "  </tbody>\n",
       "</table>\n",
       "</div>"
      ],
      "text/plain": [
       "                 Algorithm ProofType  TotalCoinsMined TotalCoinSupply\n",
       "Unnamed: 0                                                           \n",
       "42                  Scrypt   PoW/PoS     4.199995e+01              42\n",
       "404                 Scrypt   PoW/PoS     1.055185e+09       532000000\n",
       "1337                   X13   PoW/PoS     2.927942e+10    314159265359\n",
       "BTC                SHA-256       PoW     1.792718e+07        21000000\n",
       "ETH                 Ethash       PoW     1.076842e+08               0\n",
       "LTC                 Scrypt       PoW     6.303924e+07        84000000\n",
       "DASH                   X11   PoW/PoS     9.031294e+06        22000000\n",
       "XMR         CryptoNight-V7       PoW     1.720114e+07               0\n",
       "ETC                 Ethash       PoW     1.133597e+08       210000000\n",
       "ZEC               Equihash       PoW     7.383056e+06        21000000"
      ]
     },
     "execution_count": 16,
     "metadata": {},
     "output_type": "execute_result"
    }
   ],
   "source": [
    "# Drop the 'CoinName' column since it's not going to be used on the clustering algorithm.\n",
    "crypto_df = crypto_df.drop(['CoinName'], axis=1)\n",
    "crypto_df.head(10)"
   ]
  },
  {
   "cell_type": "code",
   "execution_count": 17,
   "metadata": {},
   "outputs": [
    {
     "data": {
      "text/html": [
       "<div>\n",
       "<style scoped>\n",
       "    .dataframe tbody tr th:only-of-type {\n",
       "        vertical-align: middle;\n",
       "    }\n",
       "\n",
       "    .dataframe tbody tr th {\n",
       "        vertical-align: top;\n",
       "    }\n",
       "\n",
       "    .dataframe thead th {\n",
       "        text-align: right;\n",
       "    }\n",
       "</style>\n",
       "<table border=\"1\" class=\"dataframe\">\n",
       "  <thead>\n",
       "    <tr style=\"text-align: right;\">\n",
       "      <th></th>\n",
       "      <th>TotalCoinsMined</th>\n",
       "      <th>TotalCoinSupply</th>\n",
       "      <th>Algorithm_1GB AES Pattern Search</th>\n",
       "      <th>Algorithm_536</th>\n",
       "      <th>Algorithm_Argon2d</th>\n",
       "      <th>Algorithm_BLAKE256</th>\n",
       "      <th>Algorithm_Blake</th>\n",
       "      <th>Algorithm_Blake2S</th>\n",
       "      <th>Algorithm_Blake2b</th>\n",
       "      <th>Algorithm_C11</th>\n",
       "      <th>...</th>\n",
       "      <th>ProofType_PoW/PoS</th>\n",
       "      <th>ProofType_PoW/PoS</th>\n",
       "      <th>ProofType_PoW/PoW</th>\n",
       "      <th>ProofType_PoW/nPoS</th>\n",
       "      <th>ProofType_Pos</th>\n",
       "      <th>ProofType_Proof of Authority</th>\n",
       "      <th>ProofType_Proof of Trust</th>\n",
       "      <th>ProofType_TPoS</th>\n",
       "      <th>ProofType_Zero-Knowledge Proof</th>\n",
       "      <th>ProofType_dPoW/PoW</th>\n",
       "    </tr>\n",
       "    <tr>\n",
       "      <th>Unnamed: 0</th>\n",
       "      <th></th>\n",
       "      <th></th>\n",
       "      <th></th>\n",
       "      <th></th>\n",
       "      <th></th>\n",
       "      <th></th>\n",
       "      <th></th>\n",
       "      <th></th>\n",
       "      <th></th>\n",
       "      <th></th>\n",
       "      <th></th>\n",
       "      <th></th>\n",
       "      <th></th>\n",
       "      <th></th>\n",
       "      <th></th>\n",
       "      <th></th>\n",
       "      <th></th>\n",
       "      <th></th>\n",
       "      <th></th>\n",
       "      <th></th>\n",
       "      <th></th>\n",
       "    </tr>\n",
       "  </thead>\n",
       "  <tbody>\n",
       "    <tr>\n",
       "      <th>42</th>\n",
       "      <td>4.199995e+01</td>\n",
       "      <td>42</td>\n",
       "      <td>0</td>\n",
       "      <td>0</td>\n",
       "      <td>0</td>\n",
       "      <td>0</td>\n",
       "      <td>0</td>\n",
       "      <td>0</td>\n",
       "      <td>0</td>\n",
       "      <td>0</td>\n",
       "      <td>...</td>\n",
       "      <td>1</td>\n",
       "      <td>0</td>\n",
       "      <td>0</td>\n",
       "      <td>0</td>\n",
       "      <td>0</td>\n",
       "      <td>0</td>\n",
       "      <td>0</td>\n",
       "      <td>0</td>\n",
       "      <td>0</td>\n",
       "      <td>0</td>\n",
       "    </tr>\n",
       "    <tr>\n",
       "      <th>404</th>\n",
       "      <td>1.055185e+09</td>\n",
       "      <td>532000000</td>\n",
       "      <td>0</td>\n",
       "      <td>0</td>\n",
       "      <td>0</td>\n",
       "      <td>0</td>\n",
       "      <td>0</td>\n",
       "      <td>0</td>\n",
       "      <td>0</td>\n",
       "      <td>0</td>\n",
       "      <td>...</td>\n",
       "      <td>1</td>\n",
       "      <td>0</td>\n",
       "      <td>0</td>\n",
       "      <td>0</td>\n",
       "      <td>0</td>\n",
       "      <td>0</td>\n",
       "      <td>0</td>\n",
       "      <td>0</td>\n",
       "      <td>0</td>\n",
       "      <td>0</td>\n",
       "    </tr>\n",
       "    <tr>\n",
       "      <th>1337</th>\n",
       "      <td>2.927942e+10</td>\n",
       "      <td>314159265359</td>\n",
       "      <td>0</td>\n",
       "      <td>0</td>\n",
       "      <td>0</td>\n",
       "      <td>0</td>\n",
       "      <td>0</td>\n",
       "      <td>0</td>\n",
       "      <td>0</td>\n",
       "      <td>0</td>\n",
       "      <td>...</td>\n",
       "      <td>1</td>\n",
       "      <td>0</td>\n",
       "      <td>0</td>\n",
       "      <td>0</td>\n",
       "      <td>0</td>\n",
       "      <td>0</td>\n",
       "      <td>0</td>\n",
       "      <td>0</td>\n",
       "      <td>0</td>\n",
       "      <td>0</td>\n",
       "    </tr>\n",
       "    <tr>\n",
       "      <th>BTC</th>\n",
       "      <td>1.792718e+07</td>\n",
       "      <td>21000000</td>\n",
       "      <td>0</td>\n",
       "      <td>0</td>\n",
       "      <td>0</td>\n",
       "      <td>0</td>\n",
       "      <td>0</td>\n",
       "      <td>0</td>\n",
       "      <td>0</td>\n",
       "      <td>0</td>\n",
       "      <td>...</td>\n",
       "      <td>0</td>\n",
       "      <td>0</td>\n",
       "      <td>0</td>\n",
       "      <td>0</td>\n",
       "      <td>0</td>\n",
       "      <td>0</td>\n",
       "      <td>0</td>\n",
       "      <td>0</td>\n",
       "      <td>0</td>\n",
       "      <td>0</td>\n",
       "    </tr>\n",
       "    <tr>\n",
       "      <th>ETH</th>\n",
       "      <td>1.076842e+08</td>\n",
       "      <td>0</td>\n",
       "      <td>0</td>\n",
       "      <td>0</td>\n",
       "      <td>0</td>\n",
       "      <td>0</td>\n",
       "      <td>0</td>\n",
       "      <td>0</td>\n",
       "      <td>0</td>\n",
       "      <td>0</td>\n",
       "      <td>...</td>\n",
       "      <td>0</td>\n",
       "      <td>0</td>\n",
       "      <td>0</td>\n",
       "      <td>0</td>\n",
       "      <td>0</td>\n",
       "      <td>0</td>\n",
       "      <td>0</td>\n",
       "      <td>0</td>\n",
       "      <td>0</td>\n",
       "      <td>0</td>\n",
       "    </tr>\n",
       "  </tbody>\n",
       "</table>\n",
       "<p>5 rows × 98 columns</p>\n",
       "</div>"
      ],
      "text/plain": [
       "            TotalCoinsMined TotalCoinSupply  Algorithm_1GB AES Pattern Search  \\\n",
       "Unnamed: 0                                                                      \n",
       "42             4.199995e+01              42                                 0   \n",
       "404            1.055185e+09       532000000                                 0   \n",
       "1337           2.927942e+10    314159265359                                 0   \n",
       "BTC            1.792718e+07        21000000                                 0   \n",
       "ETH            1.076842e+08               0                                 0   \n",
       "\n",
       "            Algorithm_536  Algorithm_Argon2d  Algorithm_BLAKE256  \\\n",
       "Unnamed: 0                                                         \n",
       "42                      0                  0                   0   \n",
       "404                     0                  0                   0   \n",
       "1337                    0                  0                   0   \n",
       "BTC                     0                  0                   0   \n",
       "ETH                     0                  0                   0   \n",
       "\n",
       "            Algorithm_Blake  Algorithm_Blake2S  Algorithm_Blake2b  \\\n",
       "Unnamed: 0                                                          \n",
       "42                        0                  0                  0   \n",
       "404                       0                  0                  0   \n",
       "1337                      0                  0                  0   \n",
       "BTC                       0                  0                  0   \n",
       "ETH                       0                  0                  0   \n",
       "\n",
       "            Algorithm_C11  ...  ProofType_PoW/PoS  ProofType_PoW/PoS   \\\n",
       "Unnamed: 0                 ...                                          \n",
       "42                      0  ...                  1                   0   \n",
       "404                     0  ...                  1                   0   \n",
       "1337                    0  ...                  1                   0   \n",
       "BTC                     0  ...                  0                   0   \n",
       "ETH                     0  ...                  0                   0   \n",
       "\n",
       "            ProofType_PoW/PoW  ProofType_PoW/nPoS  ProofType_Pos  \\\n",
       "Unnamed: 0                                                         \n",
       "42                          0                   0              0   \n",
       "404                         0                   0              0   \n",
       "1337                        0                   0              0   \n",
       "BTC                         0                   0              0   \n",
       "ETH                         0                   0              0   \n",
       "\n",
       "            ProofType_Proof of Authority  ProofType_Proof of Trust  \\\n",
       "Unnamed: 0                                                           \n",
       "42                                     0                         0   \n",
       "404                                    0                         0   \n",
       "1337                                   0                         0   \n",
       "BTC                                    0                         0   \n",
       "ETH                                    0                         0   \n",
       "\n",
       "            ProofType_TPoS  ProofType_Zero-Knowledge Proof  ProofType_dPoW/PoW  \n",
       "Unnamed: 0                                                                      \n",
       "42                       0                               0                   0  \n",
       "404                      0                               0                   0  \n",
       "1337                     0                               0                   0  \n",
       "BTC                      0                               0                   0  \n",
       "ETH                      0                               0                   0  \n",
       "\n",
       "[5 rows x 98 columns]"
      ]
     },
     "execution_count": 17,
     "metadata": {},
     "output_type": "execute_result"
    }
   ],
   "source": [
    "# Use get_dummies() to create variables for text features.\n",
    "X = pd.get_dummies(crypto_df, columns=[\"Algorithm\",\"ProofType\"])\n",
    "X.head()"
   ]
  },
  {
   "cell_type": "code",
   "execution_count": 18,
   "metadata": {},
   "outputs": [
    {
     "data": {
      "text/plain": [
       "array([[-0.11710817, -0.1528703 , -0.0433963 , ..., -0.0433963 ,\n",
       "        -0.0433963 , -0.0433963 ],\n",
       "       [-0.09396955, -0.145009  , -0.0433963 , ..., -0.0433963 ,\n",
       "        -0.0433963 , -0.0433963 ],\n",
       "       [ 0.52494561,  4.48942416, -0.0433963 , ..., -0.0433963 ,\n",
       "        -0.0433963 , -0.0433963 ],\n",
       "       ...,\n",
       "       [-0.09561336, -0.13217937, -0.0433963 , ..., -0.0433963 ,\n",
       "        -0.0433963 , -0.0433963 ],\n",
       "       [-0.11694817, -0.15255998, -0.0433963 , ..., -0.0433963 ,\n",
       "        -0.0433963 , -0.0433963 ],\n",
       "       [-0.11710536, -0.15285552, -0.0433963 , ..., -0.0433963 ,\n",
       "        -0.0433963 , -0.0433963 ]])"
      ]
     },
     "execution_count": 18,
     "metadata": {},
     "output_type": "execute_result"
    }
   ],
   "source": [
    "# Standardize the data with StandardScaler().\n",
    "X_scaled = StandardScaler().fit_transform(X)\n",
    "X_scaled"
   ]
  },
  {
   "cell_type": "markdown",
   "metadata": {},
   "source": [
    "### Deliverable 2: Reducing Data Dimensions Using PCA"
   ]
  },
  {
   "cell_type": "code",
   "execution_count": 19,
   "metadata": {},
   "outputs": [
    {
     "data": {
      "text/plain": [
       "PCA(n_components=3)"
      ]
     },
     "execution_count": 19,
     "metadata": {},
     "output_type": "execute_result"
    }
   ],
   "source": [
    "# Using PCA to reduce dimension to three principal components.\n",
    "pca = PCA(n_components=3)\n",
    "pca"
   ]
  },
  {
   "cell_type": "code",
   "execution_count": 20,
   "metadata": {},
   "outputs": [
    {
     "data": {
      "text/html": [
       "<div>\n",
       "<style scoped>\n",
       "    .dataframe tbody tr th:only-of-type {\n",
       "        vertical-align: middle;\n",
       "    }\n",
       "\n",
       "    .dataframe tbody tr th {\n",
       "        vertical-align: top;\n",
       "    }\n",
       "\n",
       "    .dataframe thead th {\n",
       "        text-align: right;\n",
       "    }\n",
       "</style>\n",
       "<table border=\"1\" class=\"dataframe\">\n",
       "  <thead>\n",
       "    <tr style=\"text-align: right;\">\n",
       "      <th></th>\n",
       "      <th>PC 1</th>\n",
       "      <th>PC 2</th>\n",
       "      <th>PC 3</th>\n",
       "    </tr>\n",
       "    <tr>\n",
       "      <th>Unnamed: 0</th>\n",
       "      <th></th>\n",
       "      <th></th>\n",
       "      <th></th>\n",
       "    </tr>\n",
       "  </thead>\n",
       "  <tbody>\n",
       "    <tr>\n",
       "      <th>42</th>\n",
       "      <td>-0.315659</td>\n",
       "      <td>0.793689</td>\n",
       "      <td>-0.451070</td>\n",
       "    </tr>\n",
       "    <tr>\n",
       "      <th>404</th>\n",
       "      <td>-0.298941</td>\n",
       "      <td>0.793204</td>\n",
       "      <td>-0.451353</td>\n",
       "    </tr>\n",
       "    <tr>\n",
       "      <th>1337</th>\n",
       "      <td>2.349878</td>\n",
       "      <td>1.278558</td>\n",
       "      <td>-0.461938</td>\n",
       "    </tr>\n",
       "    <tr>\n",
       "      <th>BTC</th>\n",
       "      <td>-0.150688</td>\n",
       "      <td>-1.186054</td>\n",
       "      <td>0.206548</td>\n",
       "    </tr>\n",
       "    <tr>\n",
       "      <th>ETH</th>\n",
       "      <td>-0.166986</td>\n",
       "      <td>-1.811606</td>\n",
       "      <td>0.330911</td>\n",
       "    </tr>\n",
       "    <tr>\n",
       "      <th>LTC</th>\n",
       "      <td>-0.173077</td>\n",
       "      <td>-1.112556</td>\n",
       "      <td>0.019553</td>\n",
       "    </tr>\n",
       "    <tr>\n",
       "      <th>DASH</th>\n",
       "      <td>-0.380685</td>\n",
       "      <td>1.062061</td>\n",
       "      <td>-0.436786</td>\n",
       "    </tr>\n",
       "    <tr>\n",
       "      <th>XMR</th>\n",
       "      <td>-0.202180</td>\n",
       "      <td>-1.947578</td>\n",
       "      <td>0.366116</td>\n",
       "    </tr>\n",
       "    <tr>\n",
       "      <th>ETC</th>\n",
       "      <td>-0.165423</td>\n",
       "      <td>-1.811767</td>\n",
       "      <td>0.330908</td>\n",
       "    </tr>\n",
       "    <tr>\n",
       "      <th>ZEC</th>\n",
       "      <td>-0.122305</td>\n",
       "      <td>-2.220148</td>\n",
       "      <td>0.351913</td>\n",
       "    </tr>\n",
       "  </tbody>\n",
       "</table>\n",
       "</div>"
      ],
      "text/plain": [
       "                PC 1      PC 2      PC 3\n",
       "Unnamed: 0                              \n",
       "42         -0.315659  0.793689 -0.451070\n",
       "404        -0.298941  0.793204 -0.451353\n",
       "1337        2.349878  1.278558 -0.461938\n",
       "BTC        -0.150688 -1.186054  0.206548\n",
       "ETH        -0.166986 -1.811606  0.330911\n",
       "LTC        -0.173077 -1.112556  0.019553\n",
       "DASH       -0.380685  1.062061 -0.436786\n",
       "XMR        -0.202180 -1.947578  0.366116\n",
       "ETC        -0.165423 -1.811767  0.330908\n",
       "ZEC        -0.122305 -2.220148  0.351913"
      ]
     },
     "execution_count": 20,
     "metadata": {},
     "output_type": "execute_result"
    }
   ],
   "source": [
    "# Create a DataFrame with the three principal components.\n",
    "X_pca = pca.fit_transform(X_scaled)\n",
    "\n",
    "pcs_df = pd.DataFrame(\n",
    "            data=X_pca, \n",
    "            columns=[\"PC 1\",\n",
    "                     \"PC 2\",\n",
    "                     \"PC 3\"],\n",
    "            index=X.index\n",
    "            )\n",
    "\n",
    "pcs_df.head(10)"
   ]
  },
  {
   "cell_type": "markdown",
   "metadata": {},
   "source": [
    "### Deliverable 3: Clustering Crytocurrencies Using K-Means\n",
    "\n",
    "#### Finding the Best Value for `k` Using the Elbow Curve"
   ]
  },
  {
   "cell_type": "code",
   "execution_count": 21,
   "metadata": {},
   "outputs": [
    {
     "data": {},
     "metadata": {},
     "output_type": "display_data"
    },
    {
     "data": {
      "application/vnd.holoviews_exec.v0+json": "",
      "text/html": [
       "<div id='1002'>\n",
       "\n",
       "\n",
       "\n",
       "\n",
       "\n",
       "  <div class=\"bk-root\" id=\"d9f2d311-0a77-45fd-943e-549ba59594bb\" data-root-id=\"1002\"></div>\n",
       "</div>\n",
       "<script type=\"application/javascript\">(function(root) {\n",
       "  function embed_document(root) {\n",
       "    var docs_json = {\"64e44f36-db48-4284-9bab-276f6d2c8f5f\":{\"defs\":[{\"extends\":null,\"module\":null,\"name\":\"ReactiveHTML1\",\"overrides\":[],\"properties\":[]},{\"extends\":null,\"module\":null,\"name\":\"FlexBox1\",\"overrides\":[],\"properties\":[{\"default\":\"flex-start\",\"kind\":null,\"name\":\"align_content\"},{\"default\":\"flex-start\",\"kind\":null,\"name\":\"align_items\"},{\"default\":\"row\",\"kind\":null,\"name\":\"flex_direction\"},{\"default\":\"wrap\",\"kind\":null,\"name\":\"flex_wrap\"},{\"default\":\"flex-start\",\"kind\":null,\"name\":\"justify_content\"}]},{\"extends\":null,\"module\":null,\"name\":\"GridStack1\",\"overrides\":[],\"properties\":[{\"default\":\"warn\",\"kind\":null,\"name\":\"mode\"},{\"default\":null,\"kind\":null,\"name\":\"ncols\"},{\"default\":null,\"kind\":null,\"name\":\"nrows\"},{\"default\":true,\"kind\":null,\"name\":\"allow_resize\"},{\"default\":true,\"kind\":null,\"name\":\"allow_drag\"},{\"default\":[],\"kind\":null,\"name\":\"state\"}]},{\"extends\":null,\"module\":null,\"name\":\"click1\",\"overrides\":[],\"properties\":[{\"default\":\"\",\"kind\":null,\"name\":\"terminal_output\"},{\"default\":\"\",\"kind\":null,\"name\":\"debug_name\"},{\"default\":0,\"kind\":null,\"name\":\"clears\"}]},{\"extends\":null,\"module\":null,\"name\":\"TemplateActions1\",\"overrides\":[],\"properties\":[{\"default\":0,\"kind\":null,\"name\":\"open_modal\"},{\"default\":0,\"kind\":null,\"name\":\"close_modal\"}]},{\"extends\":null,\"module\":null,\"name\":\"MaterialTemplateActions1\",\"overrides\":[],\"properties\":[{\"default\":0,\"kind\":null,\"name\":\"open_modal\"},{\"default\":0,\"kind\":null,\"name\":\"close_modal\"}]}],\"roots\":{\"references\":[{\"attributes\":{\"below\":[{\"id\":\"1016\"}],\"center\":[{\"id\":\"1019\"},{\"id\":\"1023\"}],\"height\":300,\"left\":[{\"id\":\"1020\"}],\"margin\":[5,5,5,5],\"min_border_bottom\":10,\"min_border_left\":10,\"min_border_right\":10,\"min_border_top\":10,\"renderers\":[{\"id\":\"1043\"}],\"sizing_mode\":\"fixed\",\"title\":{\"id\":\"1008\"},\"toolbar\":{\"id\":\"1030\"},\"width\":700,\"x_range\":{\"id\":\"1004\"},\"x_scale\":{\"id\":\"1012\"},\"y_range\":{\"id\":\"1005\"},\"y_scale\":{\"id\":\"1014\"}},\"id\":\"1007\",\"subtype\":\"Figure\",\"type\":\"Plot\"},{\"attributes\":{},\"id\":\"1048\",\"type\":\"BasicTickFormatter\"},{\"attributes\":{},\"id\":\"1014\",\"type\":\"LinearScale\"},{\"attributes\":{},\"id\":\"1061\",\"type\":\"UnionRenderers\"},{\"attributes\":{\"coordinates\":null,\"group\":null,\"text\":\"Elbow Curve\",\"text_color\":\"black\",\"text_font_size\":\"12pt\"},\"id\":\"1008\",\"type\":\"Title\"},{\"attributes\":{\"line_color\":\"#30a2da\",\"line_width\":2,\"x\":{\"field\":\"k\"},\"y\":{\"field\":\"inertia\"}},\"id\":\"1040\",\"type\":\"Line\"},{\"attributes\":{},\"id\":\"1053\",\"type\":\"BasicTickFormatter\"},{\"attributes\":{},\"id\":\"1054\",\"type\":\"AllLabels\"},{\"attributes\":{\"line_alpha\":0.1,\"line_color\":\"#30a2da\",\"line_width\":2,\"x\":{\"field\":\"k\"},\"y\":{\"field\":\"inertia\"}},\"id\":\"1041\",\"type\":\"Line\"},{\"attributes\":{\"axis\":{\"id\":\"1020\"},\"coordinates\":null,\"dimension\":1,\"grid_line_color\":null,\"group\":null,\"ticker\":null},\"id\":\"1023\",\"type\":\"Grid\"},{\"attributes\":{},\"id\":\"1025\",\"type\":\"PanTool\"},{\"attributes\":{\"axis_label\":\"inertia\",\"coordinates\":null,\"formatter\":{\"id\":\"1053\"},\"group\":null,\"major_label_policy\":{\"id\":\"1054\"},\"ticker\":{\"id\":\"1021\"}},\"id\":\"1020\",\"type\":\"LinearAxis\"},{\"attributes\":{\"coordinates\":null,\"data_source\":{\"id\":\"1037\"},\"glyph\":{\"id\":\"1040\"},\"group\":null,\"hover_glyph\":null,\"muted_glyph\":{\"id\":\"1042\"},\"nonselection_glyph\":{\"id\":\"1041\"},\"selection_glyph\":{\"id\":\"1045\"},\"view\":{\"id\":\"1044\"}},\"id\":\"1043\",\"type\":\"GlyphRenderer\"},{\"attributes\":{\"margin\":[5,5,5,5],\"name\":\"HSpacer01632\",\"sizing_mode\":\"stretch_width\"},\"id\":\"1073\",\"type\":\"Spacer\"},{\"attributes\":{},\"id\":\"1021\",\"type\":\"BasicTicker\"},{\"attributes\":{},\"id\":\"1038\",\"type\":\"Selection\"},{\"attributes\":{},\"id\":\"1026\",\"type\":\"WheelZoomTool\"},{\"attributes\":{},\"id\":\"1024\",\"type\":\"SaveTool\"},{\"attributes\":{\"source\":{\"id\":\"1037\"}},\"id\":\"1044\",\"type\":\"CDSView\"},{\"attributes\":{\"overlay\":{\"id\":\"1029\"}},\"id\":\"1027\",\"type\":\"BoxZoomTool\"},{\"attributes\":{\"line_alpha\":0.2,\"line_color\":\"#30a2da\",\"line_width\":2,\"x\":{\"field\":\"k\"},\"y\":{\"field\":\"inertia\"}},\"id\":\"1042\",\"type\":\"Line\"},{\"attributes\":{},\"id\":\"1028\",\"type\":\"ResetTool\"},{\"attributes\":{\"line_color\":\"#30a2da\",\"line_width\":2,\"x\":{\"field\":\"k\"},\"y\":{\"field\":\"inertia\"}},\"id\":\"1045\",\"type\":\"Line\"},{\"attributes\":{\"axis_label\":\"k\",\"coordinates\":null,\"formatter\":{\"id\":\"1048\"},\"group\":null,\"major_label_policy\":{\"id\":\"1049\"},\"ticker\":{\"id\":\"1046\"}},\"id\":\"1016\",\"type\":\"LinearAxis\"},{\"attributes\":{\"bottom_units\":\"screen\",\"coordinates\":null,\"fill_alpha\":0.5,\"fill_color\":\"lightgrey\",\"group\":null,\"left_units\":\"screen\",\"level\":\"overlay\",\"line_alpha\":1.0,\"line_color\":\"black\",\"line_dash\":[4,4],\"line_width\":2,\"right_units\":\"screen\",\"syncable\":false,\"top_units\":\"screen\"},\"id\":\"1029\",\"type\":\"BoxAnnotation\"},{\"attributes\":{\"callback\":null,\"renderers\":[{\"id\":\"1043\"}],\"tags\":[\"hv_created\"],\"tooltips\":[[\"k\",\"@{k}\"],[\"inertia\",\"@{inertia}\"]]},\"id\":\"1006\",\"type\":\"HoverTool\"},{\"attributes\":{\"tools\":[{\"id\":\"1006\"},{\"id\":\"1024\"},{\"id\":\"1025\"},{\"id\":\"1026\"},{\"id\":\"1027\"},{\"id\":\"1028\"}]},\"id\":\"1030\",\"type\":\"Toolbar\"},{\"attributes\":{\"end\":10.0,\"reset_end\":10.0,\"reset_start\":1.0,\"start\":1.0,\"tags\":[[[\"k\",\"k\",null]]]},\"id\":\"1004\",\"type\":\"Range1d\"},{\"attributes\":{\"axis\":{\"id\":\"1016\"},\"coordinates\":null,\"grid_line_color\":null,\"group\":null,\"ticker\":null},\"id\":\"1019\",\"type\":\"Grid\"},{\"attributes\":{},\"id\":\"1049\",\"type\":\"AllLabels\"},{\"attributes\":{\"ticks\":[1,2,3,4,5,6,7,8,9,10]},\"id\":\"1046\",\"type\":\"FixedTicker\"},{\"attributes\":{\"children\":[{\"id\":\"1003\"},{\"id\":\"1007\"},{\"id\":\"1073\"}],\"margin\":[0,0,0,0],\"name\":\"Row01627\",\"tags\":[\"embedded\"]},\"id\":\"1002\",\"type\":\"Row\"},{\"attributes\":{\"margin\":[5,5,5,5],\"name\":\"HSpacer01631\",\"sizing_mode\":\"stretch_width\"},\"id\":\"1003\",\"type\":\"Spacer\"},{\"attributes\":{\"end\":3984.6011482007725,\"reset_end\":3984.6011482007725,\"reset_start\":-225.51321031999584,\"start\":-225.51321031999584,\"tags\":[[[\"inertia\",\"inertia\",null]]]},\"id\":\"1005\",\"type\":\"Range1d\"},{\"attributes\":{},\"id\":\"1012\",\"type\":\"LinearScale\"},{\"attributes\":{\"data\":{\"inertia\":{\"__ndarray__\":\"SCjuPYRjrEALpnRStEGjQGMcOMqzAJhANJJ55AMzhECwfJfOkKJ+QClmf7ib2HZAL3DVzKv0cUBgkXvfXwNrQLMPlWAWFWRA/HdvCBlVX0A=\",\"dtype\":\"float64\",\"order\":\"little\",\"shape\":[10]},\"k\":[1,2,3,4,5,6,7,8,9,10]},\"selected\":{\"id\":\"1038\"},\"selection_policy\":{\"id\":\"1061\"}},\"id\":\"1037\",\"type\":\"ColumnDataSource\"}],\"root_ids\":[\"1002\"]},\"title\":\"Bokeh Application\",\"version\":\"2.4.2\"}};\n",
       "    var render_items = [{\"docid\":\"64e44f36-db48-4284-9bab-276f6d2c8f5f\",\"root_ids\":[\"1002\"],\"roots\":{\"1002\":\"d9f2d311-0a77-45fd-943e-549ba59594bb\"}}];\n",
       "    root.Bokeh.embed.embed_items_notebook(docs_json, render_items);\n",
       "  }\n",
       "  if (root.Bokeh !== undefined && root.Bokeh.Panel !== undefined) {\n",
       "    embed_document(root);\n",
       "  } else {\n",
       "    var attempts = 0;\n",
       "    var timer = setInterval(function(root) {\n",
       "      if (root.Bokeh !== undefined && root.Bokeh.Panel !== undefined) {\n",
       "        clearInterval(timer);\n",
       "        embed_document(root);\n",
       "      } else if (document.readyState == \"complete\") {\n",
       "        attempts++;\n",
       "        if (attempts > 200) {\n",
       "          clearInterval(timer);\n",
       "          console.log(\"Bokeh: ERROR: Unable to run BokehJS code because BokehJS library is missing\");\n",
       "        }\n",
       "      }\n",
       "    }, 25, root)\n",
       "  }\n",
       "})(window);</script>"
      ],
      "text/plain": [
       ":Curve   [k]   (inertia)"
      ]
     },
     "execution_count": 21,
     "metadata": {
      "application/vnd.holoviews_exec.v0+json": {
       "id": "1002"
      }
     },
     "output_type": "execute_result"
    }
   ],
   "source": [
    "# Create an elbow curve to find the best value for K.\n",
    "inertia = []\n",
    "k = list(range(1, 11))\n",
    "\n",
    "# Looking for the best K\n",
    "for i in k:\n",
    "    km = KMeans(n_clusters=i, random_state=0)\n",
    "    km.fit(pcs_df)\n",
    "    inertia.append(km.inertia_)\n",
    "\n",
    "# Define a DataFrame to plot the Elbow Curve using hvPlot\n",
    "elbow_data = {\"k\": k, \"inertia\": inertia}\n",
    "df_elbow = pd.DataFrame(elbow_data)\n",
    "df_elbow.hvplot.line(x=\"k\", y=\"inertia\", title=\"Elbow Curve\", xticks=k)\n"
   ]
  },
  {
   "cell_type": "markdown",
   "metadata": {},
   "source": [
    "Running K-Means with `k=4`"
   ]
  },
  {
   "cell_type": "code",
   "execution_count": 22,
   "metadata": {},
   "outputs": [
    {
     "data": {
      "text/plain": [
       "array([0, 0, 0, 1, 1], dtype=int32)"
      ]
     },
     "execution_count": 22,
     "metadata": {},
     "output_type": "execute_result"
    }
   ],
   "source": [
    "# Initialize the K-Means model.\n",
    "model = KMeans(n_clusters=4, random_state=0)\n",
    "model\n",
    "\n",
    "# Fit the model\n",
    "model.fit(X_pca)\n",
    "\n",
    "# Predict clusters\n",
    "predictions = model.predict(X_pca)\n",
    "predictions[0:5]"
   ]
  },
  {
   "cell_type": "code",
   "execution_count": 23,
   "metadata": {},
   "outputs": [
    {
     "name": "stdout",
     "output_type": "stream",
     "text": [
      "(532, 9)\n"
     ]
    },
    {
     "data": {
      "text/html": [
       "<div>\n",
       "<style scoped>\n",
       "    .dataframe tbody tr th:only-of-type {\n",
       "        vertical-align: middle;\n",
       "    }\n",
       "\n",
       "    .dataframe tbody tr th {\n",
       "        vertical-align: top;\n",
       "    }\n",
       "\n",
       "    .dataframe thead th {\n",
       "        text-align: right;\n",
       "    }\n",
       "</style>\n",
       "<table border=\"1\" class=\"dataframe\">\n",
       "  <thead>\n",
       "    <tr style=\"text-align: right;\">\n",
       "      <th></th>\n",
       "      <th>Algorithm</th>\n",
       "      <th>ProofType</th>\n",
       "      <th>TotalCoinsMined</th>\n",
       "      <th>TotalCoinSupply</th>\n",
       "      <th>PC 1</th>\n",
       "      <th>PC 2</th>\n",
       "      <th>PC 3</th>\n",
       "      <th>CoinName</th>\n",
       "      <th>Class</th>\n",
       "    </tr>\n",
       "    <tr>\n",
       "      <th>Unnamed: 0</th>\n",
       "      <th></th>\n",
       "      <th></th>\n",
       "      <th></th>\n",
       "      <th></th>\n",
       "      <th></th>\n",
       "      <th></th>\n",
       "      <th></th>\n",
       "      <th></th>\n",
       "      <th></th>\n",
       "    </tr>\n",
       "  </thead>\n",
       "  <tbody>\n",
       "    <tr>\n",
       "      <th>42</th>\n",
       "      <td>Scrypt</td>\n",
       "      <td>PoW/PoS</td>\n",
       "      <td>4.199995e+01</td>\n",
       "      <td>42</td>\n",
       "      <td>-0.315659</td>\n",
       "      <td>0.793689</td>\n",
       "      <td>-0.451070</td>\n",
       "      <td>42 Coin</td>\n",
       "      <td>0</td>\n",
       "    </tr>\n",
       "    <tr>\n",
       "      <th>404</th>\n",
       "      <td>Scrypt</td>\n",
       "      <td>PoW/PoS</td>\n",
       "      <td>1.055185e+09</td>\n",
       "      <td>532000000</td>\n",
       "      <td>-0.298941</td>\n",
       "      <td>0.793204</td>\n",
       "      <td>-0.451353</td>\n",
       "      <td>404Coin</td>\n",
       "      <td>0</td>\n",
       "    </tr>\n",
       "    <tr>\n",
       "      <th>1337</th>\n",
       "      <td>X13</td>\n",
       "      <td>PoW/PoS</td>\n",
       "      <td>2.927942e+10</td>\n",
       "      <td>314159265359</td>\n",
       "      <td>2.349878</td>\n",
       "      <td>1.278558</td>\n",
       "      <td>-0.461938</td>\n",
       "      <td>EliteCoin</td>\n",
       "      <td>0</td>\n",
       "    </tr>\n",
       "    <tr>\n",
       "      <th>BTC</th>\n",
       "      <td>SHA-256</td>\n",
       "      <td>PoW</td>\n",
       "      <td>1.792718e+07</td>\n",
       "      <td>21000000</td>\n",
       "      <td>-0.150688</td>\n",
       "      <td>-1.186054</td>\n",
       "      <td>0.206548</td>\n",
       "      <td>Bitcoin</td>\n",
       "      <td>1</td>\n",
       "    </tr>\n",
       "    <tr>\n",
       "      <th>ETH</th>\n",
       "      <td>Ethash</td>\n",
       "      <td>PoW</td>\n",
       "      <td>1.076842e+08</td>\n",
       "      <td>0</td>\n",
       "      <td>-0.166986</td>\n",
       "      <td>-1.811606</td>\n",
       "      <td>0.330911</td>\n",
       "      <td>Ethereum</td>\n",
       "      <td>1</td>\n",
       "    </tr>\n",
       "    <tr>\n",
       "      <th>LTC</th>\n",
       "      <td>Scrypt</td>\n",
       "      <td>PoW</td>\n",
       "      <td>6.303924e+07</td>\n",
       "      <td>84000000</td>\n",
       "      <td>-0.173077</td>\n",
       "      <td>-1.112556</td>\n",
       "      <td>0.019553</td>\n",
       "      <td>Litecoin</td>\n",
       "      <td>1</td>\n",
       "    </tr>\n",
       "    <tr>\n",
       "      <th>DASH</th>\n",
       "      <td>X11</td>\n",
       "      <td>PoW/PoS</td>\n",
       "      <td>9.031294e+06</td>\n",
       "      <td>22000000</td>\n",
       "      <td>-0.380685</td>\n",
       "      <td>1.062061</td>\n",
       "      <td>-0.436786</td>\n",
       "      <td>Dash</td>\n",
       "      <td>0</td>\n",
       "    </tr>\n",
       "    <tr>\n",
       "      <th>XMR</th>\n",
       "      <td>CryptoNight-V7</td>\n",
       "      <td>PoW</td>\n",
       "      <td>1.720114e+07</td>\n",
       "      <td>0</td>\n",
       "      <td>-0.202180</td>\n",
       "      <td>-1.947578</td>\n",
       "      <td>0.366116</td>\n",
       "      <td>Monero</td>\n",
       "      <td>1</td>\n",
       "    </tr>\n",
       "    <tr>\n",
       "      <th>ETC</th>\n",
       "      <td>Ethash</td>\n",
       "      <td>PoW</td>\n",
       "      <td>1.133597e+08</td>\n",
       "      <td>210000000</td>\n",
       "      <td>-0.165423</td>\n",
       "      <td>-1.811767</td>\n",
       "      <td>0.330908</td>\n",
       "      <td>Ethereum Classic</td>\n",
       "      <td>1</td>\n",
       "    </tr>\n",
       "    <tr>\n",
       "      <th>ZEC</th>\n",
       "      <td>Equihash</td>\n",
       "      <td>PoW</td>\n",
       "      <td>7.383056e+06</td>\n",
       "      <td>21000000</td>\n",
       "      <td>-0.122305</td>\n",
       "      <td>-2.220148</td>\n",
       "      <td>0.351913</td>\n",
       "      <td>ZCash</td>\n",
       "      <td>1</td>\n",
       "    </tr>\n",
       "  </tbody>\n",
       "</table>\n",
       "</div>"
      ],
      "text/plain": [
       "                 Algorithm ProofType  TotalCoinsMined TotalCoinSupply  \\\n",
       "Unnamed: 0                                                              \n",
       "42                  Scrypt   PoW/PoS     4.199995e+01              42   \n",
       "404                 Scrypt   PoW/PoS     1.055185e+09       532000000   \n",
       "1337                   X13   PoW/PoS     2.927942e+10    314159265359   \n",
       "BTC                SHA-256       PoW     1.792718e+07        21000000   \n",
       "ETH                 Ethash       PoW     1.076842e+08               0   \n",
       "LTC                 Scrypt       PoW     6.303924e+07        84000000   \n",
       "DASH                   X11   PoW/PoS     9.031294e+06        22000000   \n",
       "XMR         CryptoNight-V7       PoW     1.720114e+07               0   \n",
       "ETC                 Ethash       PoW     1.133597e+08       210000000   \n",
       "ZEC               Equihash       PoW     7.383056e+06        21000000   \n",
       "\n",
       "                PC 1      PC 2      PC 3          CoinName  Class  \n",
       "Unnamed: 0                                                         \n",
       "42         -0.315659  0.793689 -0.451070           42 Coin      0  \n",
       "404        -0.298941  0.793204 -0.451353           404Coin      0  \n",
       "1337        2.349878  1.278558 -0.461938         EliteCoin      0  \n",
       "BTC        -0.150688 -1.186054  0.206548           Bitcoin      1  \n",
       "ETH        -0.166986 -1.811606  0.330911          Ethereum      1  \n",
       "LTC        -0.173077 -1.112556  0.019553          Litecoin      1  \n",
       "DASH       -0.380685  1.062061 -0.436786              Dash      0  \n",
       "XMR        -0.202180 -1.947578  0.366116            Monero      1  \n",
       "ETC        -0.165423 -1.811767  0.330908  Ethereum Classic      1  \n",
       "ZEC        -0.122305 -2.220148  0.351913             ZCash      1  "
      ]
     },
     "execution_count": 23,
     "metadata": {},
     "output_type": "execute_result"
    }
   ],
   "source": [
    "# Create a new DataFrame including predicted clusters and cryptocurrencies features.\n",
    "# Concatentate the crypto_df and pcs_df DataFrames on the same columns.\n",
    "clustered_df = pd.concat([crypto_df, pcs_df], axis=1)\n",
    "\n",
    "#  Add a new column, \"CoinName\" to the clustered_df DataFrame that holds the names of the cryptocurrencies. \n",
    "clustered_df = pd.concat([clustered_df, crypto_names], axis=1)\n",
    "\n",
    "#  Add a new column, \"Class\" to the clustered_df DataFrame that holds the predictions.\n",
    "clustered_df['Class'] = predictions\n",
    "\n",
    "# Print the shape of the clustered_df\n",
    "print(clustered_df.shape)\n",
    "clustered_df.head(10)"
   ]
  },
  {
   "cell_type": "markdown",
   "metadata": {},
   "source": [
    "### Deliverable 4: Visualizing Cryptocurrencies Results\n",
    "\n",
    "#### 3D-Scatter with Clusters"
   ]
  },
  {
   "cell_type": "code",
   "execution_count": 30,
   "metadata": {},
   "outputs": [
    {
     "data": {
      "application/vnd.plotly.v1+json": {
       "config": {
        "plotlyServerURL": "https://plot.ly"
       },
       "data": [
        {
         "customdata": [
          [
           "Scrypt"
          ],
          [
           "Scrypt"
          ],
          [
           "X13"
          ],
          [
           "X11"
          ],
          [
           "SHA-512"
          ],
          [
           "SHA-256"
          ],
          [
           "SHA-256"
          ],
          [
           "X15"
          ],
          [
           "Scrypt"
          ],
          [
           "Scrypt"
          ],
          [
           "Scrypt"
          ],
          [
           "Scrypt"
          ],
          [
           "Scrypt"
          ],
          [
           "Groestl"
          ],
          [
           "PoS"
          ],
          [
           "Scrypt"
          ],
          [
           "Scrypt"
          ],
          [
           "X11"
          ],
          [
           "X11"
          ],
          [
           "SHA3"
          ],
          [
           "Scrypt"
          ],
          [
           "SHA-256"
          ],
          [
           "Scrypt"
          ],
          [
           "X13"
          ],
          [
           "X13"
          ],
          [
           "NeoScrypt"
          ],
          [
           "Scrypt"
          ],
          [
           "Scrypt"
          ],
          [
           "Scrypt"
          ],
          [
           "X11"
          ],
          [
           "X11"
          ],
          [
           "Multiple"
          ],
          [
           "PHI1612"
          ],
          [
           "X11"
          ],
          [
           "Scrypt"
          ],
          [
           "Scrypt"
          ],
          [
           "Scrypt"
          ],
          [
           "X11"
          ],
          [
           "Multiple"
          ],
          [
           "X13"
          ],
          [
           "Scrypt"
          ],
          [
           "Counterparty"
          ],
          [
           "SHA-256"
          ],
          [
           "Groestl"
          ],
          [
           "Scrypt"
          ],
          [
           "X13"
          ],
          [
           "Scrypt"
          ],
          [
           "Scrypt"
          ],
          [
           "X13"
          ],
          [
           "X11"
          ],
          [
           "Scrypt"
          ],
          [
           "X11"
          ],
          [
           "SHA3"
          ],
          [
           "QUAIT"
          ],
          [
           "X11"
          ],
          [
           "Scrypt"
          ],
          [
           "X13"
          ],
          [
           "SHA-256"
          ],
          [
           "X15"
          ],
          [
           "BLAKE256"
          ],
          [
           "SHA-256"
          ],
          [
           "X11"
          ],
          [
           "SHA-256"
          ],
          [
           "NIST5"
          ],
          [
           "Scrypt"
          ],
          [
           "Scrypt"
          ],
          [
           "X11"
          ],
          [
           "Scrypt"
          ],
          [
           "SHA-256"
          ],
          [
           "Scrypt"
          ],
          [
           "PoS"
          ],
          [
           "X11"
          ],
          [
           "SHA-256"
          ],
          [
           "SHA-256"
          ],
          [
           "NIST5"
          ],
          [
           "X11"
          ],
          [
           "POS 3.0"
          ],
          [
           "Scrypt"
          ],
          [
           "Scrypt"
          ],
          [
           "Scrypt"
          ],
          [
           "X13"
          ],
          [
           "X11"
          ],
          [
           "X11"
          ],
          [
           "Scrypt"
          ],
          [
           "SHA-256"
          ],
          [
           "X11"
          ],
          [
           "Scrypt"
          ],
          [
           "Scrypt"
          ],
          [
           "Scrypt"
          ],
          [
           "Scrypt"
          ],
          [
           "SHA-256D"
          ],
          [
           "PoS"
          ],
          [
           "Scrypt"
          ],
          [
           "X11"
          ],
          [
           "PoS"
          ],
          [
           "X13"
          ],
          [
           "X14"
          ],
          [
           "PoS"
          ],
          [
           "SHA-256D"
          ],
          [
           "DPoS"
          ],
          [
           "X11"
          ],
          [
           "X13"
          ],
          [
           "X11"
          ],
          [
           "PoS"
          ],
          [
           "Scrypt"
          ],
          [
           "Scrypt"
          ],
          [
           "PoS"
          ],
          [
           "X11"
          ],
          [
           "SHA-256"
          ],
          [
           "Scrypt"
          ],
          [
           "X11"
          ],
          [
           "Scrypt"
          ],
          [
           "Scrypt"
          ],
          [
           "X11"
          ],
          [
           "Scrypt"
          ],
          [
           "Scrypt"
          ],
          [
           "Scrypt"
          ],
          [
           "Scrypt"
          ],
          [
           "Quark"
          ],
          [
           "QuBit"
          ],
          [
           "Scrypt"
          ],
          [
           "SHA-256"
          ],
          [
           "X11"
          ],
          [
           "Scrypt"
          ],
          [
           "Scrypt"
          ],
          [
           "Scrypt"
          ],
          [
           "Scrypt"
          ],
          [
           "X13"
          ],
          [
           "Scrypt"
          ],
          [
           "Scrypt"
          ],
          [
           "X11"
          ],
          [
           "Blake2S"
          ],
          [
           "X11"
          ],
          [
           "PoS"
          ],
          [
           "X11"
          ],
          [
           "PoS"
          ],
          [
           "X11"
          ],
          [
           "Scrypt"
          ],
          [
           "Scrypt"
          ],
          [
           "Scrypt"
          ],
          [
           "SHA-256"
          ],
          [
           "X11"
          ],
          [
           "Scrypt"
          ],
          [
           "PoS"
          ],
          [
           "Scrypt"
          ],
          [
           "X15"
          ],
          [
           "SHA-256"
          ],
          [
           "POS 3.0"
          ],
          [
           "536"
          ],
          [
           "NIST5"
          ],
          [
           "NIST5"
          ],
          [
           "Skein"
          ],
          [
           "X13"
          ],
          [
           "Scrypt"
          ],
          [
           "X13"
          ],
          [
           "SkunkHash v2 Raptor"
          ],
          [
           "Skein"
          ],
          [
           "X11"
          ],
          [
           "Scrypt"
          ],
          [
           "PoS"
          ],
          [
           "Scrypt"
          ],
          [
           "Scrypt"
          ],
          [
           "SHA-512"
          ],
          [
           "Ouroboros"
          ],
          [
           "X11"
          ],
          [
           "NeoScrypt"
          ],
          [
           "Scrypt"
          ],
          [
           "Lyra2REv2"
          ],
          [
           "Scrypt"
          ],
          [
           "SHA-256"
          ],
          [
           "NIST5"
          ],
          [
           "PHI1612"
          ],
          [
           "Scrypt"
          ],
          [
           "Quark"
          ],
          [
           "POS 2.0"
          ],
          [
           "Scrypt"
          ],
          [
           "SHA-256"
          ],
          [
           "X11"
          ],
          [
           "DPoS"
          ],
          [
           "NIST5"
          ],
          [
           "X13"
          ],
          [
           "Scrypt"
          ],
          [
           "NIST5"
          ],
          [
           "Quark"
          ],
          [
           "Scrypt"
          ],
          [
           "Scrypt"
          ],
          [
           "X11"
          ],
          [
           "Quark"
          ],
          [
           "Scrypt"
          ],
          [
           "Scrypt"
          ],
          [
           "X11"
          ],
          [
           "POS 3.0"
          ],
          [
           "Ethash"
          ],
          [
           "Scrypt"
          ],
          [
           "Scrypt"
          ],
          [
           "X13"
          ],
          [
           "SHA-256 + Hive"
          ],
          [
           "C11"
          ],
          [
           "X11"
          ],
          [
           "XEVAN"
          ],
          [
           "Scrypt"
          ],
          [
           "VBFT"
          ],
          [
           "NIST5"
          ],
          [
           "Scrypt"
          ],
          [
           "Scrypt"
          ],
          [
           "Scrypt"
          ],
          [
           "Green Protocol"
          ],
          [
           "PoS"
          ],
          [
           "Scrypt"
          ],
          [
           "Semux BFT consensus"
          ],
          [
           "Quark"
          ],
          [
           "PoS"
          ],
          [
           "X16R"
          ],
          [
           "Scrypt"
          ],
          [
           "XEVAN"
          ],
          [
           "Scrypt"
          ],
          [
           "Scrypt"
          ],
          [
           "Scrypt"
          ],
          [
           "SHA-256D"
          ],
          [
           "Scrypt"
          ],
          [
           "X15"
          ],
          [
           "Scrypt"
          ],
          [
           "Quark"
          ],
          [
           "SHA-256"
          ],
          [
           "DPoS"
          ],
          [
           "X16R"
          ],
          [
           "Quark"
          ],
          [
           "Quark"
          ],
          [
           "Scrypt"
          ],
          [
           "Lyra2REv2"
          ],
          [
           "Quark"
          ],
          [
           "Scrypt"
          ],
          [
           "X11"
          ],
          [
           "X11"
          ],
          [
           "Scrypt"
          ],
          [
           "PoS"
          ],
          [
           "Keccak"
          ],
          [
           "X11"
          ],
          [
           "Scrypt"
          ],
          [
           "SHA-512"
          ],
          [
           "XEVAN"
          ],
          [
           "XEVAN"
          ],
          [
           "X11"
          ],
          [
           "Quark"
          ],
          [
           "Scrypt"
          ],
          [
           "Quark"
          ],
          [
           "Quark"
          ],
          [
           "Scrypt"
          ],
          [
           "X11"
          ],
          [
           "Scrypt"
          ],
          [
           "XEVAN"
          ],
          [
           "SHA-256D"
          ],
          [
           "X11"
          ],
          [
           "X11"
          ],
          [
           "DPoS"
          ],
          [
           "Scrypt"
          ],
          [
           "X11"
          ],
          [
           "Scrypt"
          ],
          [
           "Scrypt"
          ],
          [
           "SHA-256"
          ],
          [
           "Scrypt"
          ],
          [
           "X11"
          ],
          [
           "Scrypt"
          ],
          [
           "SHA-256"
          ],
          [
           "X11"
          ],
          [
           "Scrypt"
          ],
          [
           "Scrypt"
          ],
          [
           "X11"
          ],
          [
           "Scrypt"
          ],
          [
           "PoS"
          ],
          [
           "X11"
          ],
          [
           "SHA-256"
          ],
          [
           "DPoS"
          ],
          [
           "Scrypt"
          ],
          [
           "Scrypt"
          ],
          [
           "NeoScrypt"
          ],
          [
           "X13"
          ],
          [
           "DPoS"
          ],
          [
           "DPoS"
          ],
          [
           "SHA-256"
          ],
          [
           "Leased POS"
          ],
          [
           "PoS"
          ],
          [
           "PoS"
          ],
          [
           "SHA-256"
          ],
          [
           "Scrypt"
          ],
          [
           "Scrypt"
          ]
         ],
         "hovertemplate": "<b>%{hovertext}</b><br><br>Class=%{marker.color}<br>PC 1=%{x}<br>PC 2=%{y}<br>PC 3=%{z}<br>Algorithm=%{customdata[0]}<extra></extra>",
         "hovertext": [
          "42 Coin",
          "404Coin",
          "EliteCoin",
          "Dash",
          "Bitshares",
          "BitcoinDark",
          "PayCoin",
          "KoboCoin",
          "Aurora Coin",
          "BlueCoin",
          "EnergyCoin",
          "BitBar",
          "CryptoBullion",
          "Diamond",
          "Exclusive Coin",
          "FlutterCoin",
          "HoboNickels",
          "HyperStake",
          "IOCoin",
          "MaxCoin",
          "MintCoin",
          "MazaCoin",
          "Nautilus Coin",
          "NavCoin",
          "OpalCoin",
          "Orbitcoin",
          "PotCoin",
          "PhoenixCoin",
          "Reddcoin",
          "SuperCoin",
          "SyncCoin",
          "TeslaCoin",
          "TittieCoin",
          "TorCoin",
          "UnitaryStatus Dollar",
          "UltraCoin",
          "VeriCoin",
          "X11 Coin",
          "Crypti",
          "StealthCoin",
          "ZCC Coin",
          "StorjCoin",
          "Neutron",
          "FairCoin",
          "RubyCoin",
          "Kore",
          "Dnotes",
          "8BIT Coin",
          "Sativa Coin",
          "Ucoin",
          "Vtorrent",
          "IslaCoin",
          "Nexus",
          "Droidz",
          "Squall Coin",
          "Diggits",
          "Paycon",
          "Emercoin",
          "EverGreenCoin",
          "Decred",
          "EDRCoin",
          "Hitcoin",
          "DubaiCoin",
          "PWR Coin",
          "BillaryCoin",
          "GPU Coin",
          "EuropeCoin",
          "ZeitCoin",
          "SwingCoin",
          "SafeExchangeCoin",
          "Nebuchadnezzar",
          "Ratecoin",
          "Revenu",
          "Clockcoin",
          "VIP Tokens",
          "BitSend",
          "Let it Ride",
          "PutinCoin",
          "iBankCoin",
          "Frankywillcoin",
          "MudraCoin",
          "Lutetium Coin",
          "GoldBlocks",
          "CarterCoin",
          "BitTokens",
          "MustangCoin",
          "ZoneCoin",
          "RootCoin",
          "BitCurrency",
          "Swiscoin",
          "BuzzCoin",
          "Opair",
          "PesoBit",
          "Halloween Coin",
          "CoffeeCoin",
          "RoyalCoin",
          "GanjaCoin V2",
          "TeamUP",
          "LanaCoin",
          "ARK",
          "InsaneCoin",
          "EmberCoin",
          "XenixCoin",
          "FreeCoin",
          "PLNCoin",
          "AquariusCoin",
          "Creatio",
          "Eternity",
          "Eurocoin",
          "BitcoinFast",
          "Stakenet",
          "BitConnect Coin",
          "MoneyCoin",
          "Enigma",
          "Russiacoin",
          "PandaCoin",
          "GameUnits",
          "GAKHcoin",
          "Allsafe",
          "LiteCreed",
          "Klingon Empire Darsek",
          "Internet of People",
          "KushCoin",
          "Printerium",
          "Impeach",
          "Zilbercoin",
          "FirstCoin",
          "FindCoin",
          "OpenChat",
          "RenosCoin",
          "VirtacoinPlus",
          "TajCoin",
          "Impact",
          "Atmos",
          "HappyCoin",
          "MacronCoin",
          "Condensate",
          "Independent Money System",
          "ArgusCoin",
          "LomoCoin",
          "ProCurrency",
          "GoldReserve",
          "GrowthCoin",
          "Phreak",
          "Degas Coin",
          "HTML5 Coin",
          "Ultimate Secure Cash",
          "QTUM",
          "Espers",
          "Denarius",
          "Virta Unique Coin",
          "Bitcoin Planet",
          "BritCoin",
          "Linda",
          "DeepOnion",
          "Signatum",
          "Cream",
          "Monoeci",
          "Draftcoin",
          "Stakecoin",
          "CoinonatX",
          "Ethereum Dark",
          "Obsidian",
          "Cardano",
          "Regalcoin",
          "TrezarCoin",
          "TerraNovaCoin",
          "Rupee",
          "WomenCoin",
          "Theresa May Coin",
          "NamoCoin",
          "LUXCoin",
          "Xios",
          "Bitcloud 2.0",
          "KekCoin",
          "BlackholeCoin",
          "Infinity Economics",
          "Magnet",
          "Lamden Tau",
          "Electra",
          "Bitcoin Diamond",
          "Cash & Back Coin",
          "Bulwark",
          "Kalkulus",
          "GermanCoin",
          "LiteCoin Ultra",
          "PhantomX",
          "Digiwage",
          "Trollcoin",
          "Litecoin Plus",
          "Monkey Project",
          "TokenPay",
          "1717 Masonic Commemorative Token",
          "My Big Coin",
          "Unified Society USDEX",
          "Tokyo Coin",
          "LitecoinCash",
          "Stipend",
          "Pushi",
          "Ellerium",
          "Velox",
          "Ontology",
          "Bitspace",
          "Briacoin",
          "Ignition",
          "MedicCoin",
          "Bitcoin Green",
          "Deviant Coin",
          "Abjcoin",
          "Semux",
          "Carebit",
          "Zealium",
          "Proton",
          "iDealCash",
          "Bitcoin Incognito",
          "HollyWoodCoin",
          "Swisscoin",
          "Xt3ch",
          "TheVig",
          "EmaratCoin",
          "Dekado",
          "Lynx",
          "Poseidon Quark",
          "BitcoinWSpectrum",
          "Muse",
          "Trivechain",
          "Dystem",
          "Giant",
          "Peony Coin",
          "Absolute Coin",
          "Vitae",
          "TPCash",
          "ARENON",
          "EUNO",
          "MMOCoin",
          "Ketan",
          "XDNA",
          "PAXEX",
          "ThunderStake",
          "Kcash",
          "Bettex coin",
          "BitMoney",
          "Junson Ming Chan Coin",
          "HerbCoin",
          "Oduwa",
          "Galilel",
          "Crypto Sports",
          "Credit",
          "Dash Platinum",
          "Nasdacoin",
          "Beetle Coin",
          "Titan Coin",
          "Award",
          "Insane Coin",
          "ALAX",
          "LiteDoge",
          "TruckCoin",
          "OrangeCoin",
          "BitstarCoin",
          "NeosCoin",
          "HyperCoin",
          "PinkCoin",
          "AudioCoin",
          "IncaKoin",
          "Piggy Coin",
          "Genstake",
          "XiaoMiCoin",
          "CapriCoin",
          " ClubCoin",
          "Radium",
          "Creditbit ",
          "OKCash",
          "Lisk",
          "HiCoin",
          "WhiteCoin",
          "FriendshipCoin",
          "Triangles Coin",
          "EOS",
          "Oxycoin",
          "TigerCash",
          "Waves",
          "Particl",
          "Nxt",
          "ZEPHYR",
          "Gapcoin",
          "BitcoinPlus"
         ],
         "legendgroup": "0",
         "marker": {
          "color": [
           0,
           0,
           0,
           0,
           0,
           0,
           0,
           0,
           0,
           0,
           0,
           0,
           0,
           0,
           0,
           0,
           0,
           0,
           0,
           0,
           0,
           0,
           0,
           0,
           0,
           0,
           0,
           0,
           0,
           0,
           0,
           0,
           0,
           0,
           0,
           0,
           0,
           0,
           0,
           0,
           0,
           0,
           0,
           0,
           0,
           0,
           0,
           0,
           0,
           0,
           0,
           0,
           0,
           0,
           0,
           0,
           0,
           0,
           0,
           0,
           0,
           0,
           0,
           0,
           0,
           0,
           0,
           0,
           0,
           0,
           0,
           0,
           0,
           0,
           0,
           0,
           0,
           0,
           0,
           0,
           0,
           0,
           0,
           0,
           0,
           0,
           0,
           0,
           0,
           0,
           0,
           0,
           0,
           0,
           0,
           0,
           0,
           0,
           0,
           0,
           0,
           0,
           0,
           0,
           0,
           0,
           0,
           0,
           0,
           0,
           0,
           0,
           0,
           0,
           0,
           0,
           0,
           0,
           0,
           0,
           0,
           0,
           0,
           0,
           0,
           0,
           0,
           0,
           0,
           0,
           0,
           0,
           0,
           0,
           0,
           0,
           0,
           0,
           0,
           0,
           0,
           0,
           0,
           0,
           0,
           0,
           0,
           0,
           0,
           0,
           0,
           0,
           0,
           0,
           0,
           0,
           0,
           0,
           0,
           0,
           0,
           0,
           0,
           0,
           0,
           0,
           0,
           0,
           0,
           0,
           0,
           0,
           0,
           0,
           0,
           0,
           0,
           0,
           0,
           0,
           0,
           0,
           0,
           0,
           0,
           0,
           0,
           0,
           0,
           0,
           0,
           0,
           0,
           0,
           0,
           0,
           0,
           0,
           0,
           0,
           0,
           0,
           0,
           0,
           0,
           0,
           0,
           0,
           0,
           0,
           0,
           0,
           0,
           0,
           0,
           0,
           0,
           0,
           0,
           0,
           0,
           0,
           0,
           0,
           0,
           0,
           0,
           0,
           0,
           0,
           0,
           0,
           0,
           0,
           0,
           0,
           0,
           0,
           0,
           0,
           0,
           0,
           0,
           0,
           0,
           0,
           0,
           0,
           0,
           0,
           0,
           0,
           0,
           0,
           0,
           0,
           0,
           0,
           0,
           0,
           0,
           0,
           0,
           0,
           0,
           0,
           0,
           0,
           0,
           0,
           0,
           0,
           0,
           0,
           0,
           0,
           0,
           0,
           0,
           0,
           0,
           0,
           0,
           0,
           0,
           0
          ],
          "coloraxis": "coloraxis",
          "symbol": "circle"
         },
         "mode": "markers",
         "name": "0",
         "scene": "scene",
         "showlegend": true,
         "type": "scatter3d",
         "x": [
          -0.3156585534374736,
          -0.2989407911778017,
          2.3498778035012338,
          -0.38068484023481985,
          -0.3507050336657308,
          -0.2920958018018878,
          -0.2682999696459245,
          -0.20610317859617922,
          -0.3153169935398034,
          -0.30786999996042763,
          -0.31415014182312057,
          -0.31565447586771533,
          -0.3156387045793775,
          -0.3325706458308285,
          -0.3587565555021284,
          -0.30102418310852036,
          -0.3137108323018575,
          -0.3366457980870516,
          -0.38057918733884194,
          -0.3341562876632639,
          -0.030921256137890707,
          -0.2552792281837033,
          -0.2916129710726517,
          -0.24279717751482818,
          -0.24342144860422854,
          -0.3432425448546744,
          -0.30994170259338005,
          -0.3140549471495345,
          0.043669897914420795,
          -0.356598314003335,
          -0.3809520025253821,
          -0.27394371702101,
          -0.29093346565287365,
          -0.38086334398496025,
          -0.29080768724265477,
          -0.3143315131990695,
          -0.2700287938065635,
          -0.38082770470667526,
          -0.2744130595835515,
          -0.24320158575265072,
          -0.30673164842156037,
          -0.34226212544862133,
          -0.2913048792784382,
          -0.3319902940369325,
          -0.2915931737550585,
          -0.24349707877346644,
          -0.2862292229848722,
          -0.31564056254608236,
          -0.24344910682796844,
          -0.357044622118922,
          -0.3153740531587459,
          -0.38093347020559326,
          -0.2652299266481889,
          -0.41033534500433155,
          -0.34252123675580814,
          -0.2899893601729886,
          -0.24296913736519718,
          -0.28462733826577646,
          -0.20855288910810946,
          -0.0437625444833857,
          -0.29206661935768946,
          -0.0573184633815528,
          -0.2921305310114379,
          -0.22946348832896868,
          -0.31524951038050364,
          -0.2898579069021752,
          -0.3780930861460725,
          0.8654217628234836,
          -0.2919299155742149,
          -0.013746641811147719,
          -0.35843876893264776,
          -0.37876927816466105,
          -0.2906691986893293,
          -0.28832954469140715,
          -0.3512242781401244,
          -0.37966439720538225,
          -0.37385036283771406,
          -0.29146636939537907,
          -0.31528773309006375,
          -0.3137215333733486,
          -0.218391174297129,
          -0.3444936236984712,
          -0.3804056060982561,
          -0.31448929798209224,
          -0.2921114143400399,
          -0.38092262439299673,
          -0.31547753440093446,
          -0.3156347765322485,
          -0.2898475671622842,
          -0.2284723100351011,
          0.07890501874320217,
          -0.35739236328011864,
          -0.31524765473877886,
          -0.3670383649895,
          -0.3567187954868946,
          -0.21982662293863575,
          -0.3102939355843,
          -0.3564667665655876,
          -0.23666982744813836,
          3.6472092473123094,
          -0.380513802943263,
          0.8924699417440356,
          -0.38087738432096857,
          -0.3578576626693468,
          -0.31517494947856634,
          -0.31532978519168525,
          -0.35843876893264776,
          -0.38045085177758464,
          -0.29197363271973226,
          -0.31517569064681455,
          -0.4198769176428318,
          -0.3153235723458575,
          -0.3108966616554316,
          -0.3809064736760338,
          -0.31453159950485216,
          0.35380704916973066,
          -0.31552351663639777,
          -0.3155943267258296,
          -0.3583799828454028,
          -0.34301177699584307,
          -0.3118083288220197,
          -0.29208774987250236,
          -0.38081612450983354,
          -0.3153713932603497,
          -0.31549876609019845,
          -0.29149934549249473,
          -0.32556414659302285,
          -0.21959370145681284,
          -0.2962883454743159,
          -0.2912396289746423,
          -0.38007938972247673,
          -0.3805584269880831,
          -0.37881357427355267,
          -0.35667946492835706,
          -0.3799769365427783,
          -0.35106066711959705,
          -0.37590426361344037,
          -0.3154418650595029,
          -0.3154410485383744,
          -0.3085394742301686,
          0.266167858041823,
          -0.38045703196061664,
          -0.2740829268918374,
          -0.3584731716349824,
          -0.3146498944870786,
          0.9296279054212049,
          -0.26698594405828524,
          -0.37262463104891813,
          0.6090697107771623,
          -0.3527650576170888,
          -0.35126226545318234,
          -0.3833558992827458,
          -0.24313314704335645,
          0.15085506195364576,
          -0.2432041596415589,
          -0.3494388860655208,
          -0.38285914401367727,
          -0.3807303346225935,
          -0.29157381295338614,
          -0.35833898652184004,
          -0.31507583836114067,
          -0.3155771993741568,
          -0.40896336919295023,
          0.6546254896298229,
          -0.3806709572464703,
          -0.3382250101701295,
          -0.3155326615366706,
          -0.3136092354571734,
          0.45614545714088345,
          -0.2904284991585134,
          -0.33748080749539444,
          -0.35038211730119484,
          -0.31548283299267116,
          -0.38054873970627234,
          -0.40897537731925165,
          -0.31535280603728805,
          -0.09420403257766641,
          -0.3794595490560438,
          3.6520815435270673,
          0.20859691853272214,
          -0.23986388048859433,
          -0.31280456108422205,
          -0.3287956261308613,
          -0.35826550596146145,
          0.10019053830330835,
          -0.31448841276092265,
          -0.38004266452605295,
          -0.35742742279252643,
          -0.30201258005571974,
          -0.31559940431314104,
          -0.3570164580634074,
          -0.37413321795450855,
          -0.28575312491761456,
          -0.24616073728628807,
          -0.3111297784025472,
          -0.21136185654964781,
          -0.6326502248517234,
          -0.3717734823640977,
          -0.38074762866559153,
          -0.30423002874396365,
          -0.29073095684571193,
          -0.36152924339320636,
          -0.35236266798127236,
          -0.31562685019650866,
          -0.31560849953434067,
          -0.2850935689377267,
          -0.2985231710691373,
          -0.35793208642991914,
          -0.3153240578485945,
          3.78728470696163,
          -0.3792123548845946,
          -0.358121384756792,
          -0.35827081980473763,
          -0.2620152439431129,
          -0.2659521558551287,
          -0.2912670049882969,
          -0.11808242472864658,
          -0.2915198883153711,
          -0.3022052824412915,
          -0.31479631766837196,
          -0.18416225300115802,
          2.223500646077881,
          -0.3539588838003046,
          -0.2671141469358607,
          0.9742080323008185,
          -0.381337328437606,
          -0.35837941347995067,
          -0.38223857384192705,
          -0.1718469893362043,
          -0.33726944239036877,
          -0.35709466164534115,
          -0.3084793670608132,
          -0.35659244719518784,
          -0.38021920688441635,
          -0.2887561242228767,
          -0.3572181282631835,
          -0.34576223039986004,
          -0.3564533412059021,
          -0.1746332992124895,
          -0.5132531421925183,
          -0.28049092925150676,
          0.474989196690512,
          -0.1462733861582772,
          -0.3815308394395732,
          -0.31532805004534775,
          -0.3819884882846273,
          -0.3584967818673521,
          0.5942288714141166,
          -0.35707095370035485,
          -0.3148092222494979,
          -0.29866703325859584,
          -0.2567723000469119,
          -0.3777755746967453,
          -0.3804472074581445,
          3.6643640763718612,
          0.12106228627129335,
          -0.37797873082257105,
          -0.31419260821462963,
          -0.3150204212650394,
          -0.2683327024263606,
          -0.3155405021537815,
          -0.37204704968298946,
          -0.2289514736002582,
          -0.07102479659264464,
          -0.3677810376195461,
          -0.3148164245370638,
          -0.307857562588583,
          -0.37700435578621183,
          -0.31325036202142464,
          -0.35871531855306915,
          -0.38806953326692245,
          -0.2906059010010626,
          3.6476023790903183,
          -0.09815844676380579,
          -0.31043577177072573,
          -0.34286713066597657,
          -0.24360464495951922,
          3.657502944486841,
          3.6587511961262766,
          -0.24916570266871932,
          -0.3890101597260775,
          -0.3586509730836904,
          -0.3286828782682711,
          2.4413419763655897,
          -0.3136973027272413,
          -0.29191769516224314
         ],
         "y": [
          0.7936888064169189,
          0.7932044628193486,
          1.2785580759653143,
          1.0620606072426437,
          1.7878117785667058,
          0.7201220688461997,
          0.7306161799536899,
          1.4700811946471584,
          0.793674649682599,
          0.7936421842665906,
          0.7936797771147853,
          0.7936884208817202,
          0.7936879653177376,
          0.664820040068022,
          1.7214134315811196,
          0.38007784080631274,
          0.7935904696726128,
          1.0724425716875619,
          1.0620599748057726,
          1.6480874611429042,
          0.8026140633219483,
          0.7181701529710882,
          0.8041628735166323,
          1.5209995903755649,
          1.5210033272542545,
          0.4076183408447881,
          0.7933512133581782,
          0.7936084204588442,
          0.7915378709717544,
          1.0725620071905073,
          1.062078096669548,
          0.3299668922777757,
          1.5571356112990025,
          1.0620703435378958,
          0.7923843462687936,
          0.7936086313506324,
          0.2679442370324696,
          1.062073380616925,
          0.33004193320717246,
          1.5210020111580607,
          0.7929130556002592,
          1.6572751940623514,
          0.7200841079267746,
          0.6648197298272168,
          0.8041744420588955,
          1.520995112201368,
          0.8037811762644135,
          0.7936886987540109,
          1.5209962696709383,
          1.0725502324949572,
          0.7936726571420815,
          1.062077986457635,
          1.790304661188697,
          1.620759065043181,
          0.9260640217725116,
          0.8040926102006074,
          1.5209645039995765,
          0.7193709391302834,
          1.4703296732337847,
          0.6141530009038508,
          0.720121894160465,
          1.0409633809944503,
          0.7201305833516501,
          1.344091151706373,
          0.7936560207114259,
          0.8040043852506136,
          1.0617836151839462,
          0.7257394292092013,
          0.7201080741922234,
          -0.050220861088175583,
          1.7213970830246401,
          1.0620108580438372,
          0.7199685426386075,
          0.719736199881833,
          1.3447550019180392,
          1.061969988086314,
          1.6658425772827081,
          0.7920993633281841,
          0.7936545641117926,
          0.7936049800192628,
          1.5313387241173764,
          1.0720149880382408,
          1.062038710944462,
          0.7936167989933957,
          0.7201228846171602,
          1.0620757545912147,
          0.7936725542649538,
          0.7936886641190066,
          0.8041639928803442,
          0.18917845562643879,
          1.5641701736805427,
          1.72135181427043,
          0.7936863468129437,
          1.060911338773966,
          1.721372341069278,
          1.531489973720333,
          1.397624371108228,
          1.7211823082669584,
          1.5750837981115648,
          2.7366087677123927,
          1.0620538048995547,
          1.51358992870893,
          1.0620748674144156,
          1.7213719350947807,
          0.7936580735990285,
          0.7936565012354098,
          1.7213970830246401,
          1.062031758639428,
          0.720122782172667,
          0.79366207965803,
          0.8625263580336457,
          0.793666576448517,
          0.7931903207868565,
          1.0620742132842138,
          0.7935780472262954,
          0.7768250884235999,
          0.7936786080300918,
          0.7936860269444846,
          1.5223702890152704,
          0.5377464896468285,
          0.7933046017980127,
          0.720122742961963,
          1.0620705274978994,
          0.7936726412199637,
          0.7936720071976047,
          0.8041341531061472,
          0.37215474278478883,
          1.531479893820223,
          0.7928505421235049,
          0.8041474590395837,
          1.062000642492008,
          1.6679463467380844,
          1.0619858421919695,
          1.7213213340548998,
          1.0620000292085956,
          1.7210784382890365,
          1.0616867244374861,
          0.7936721875306599,
          0.7936668462707851,
          0.7929238772222336,
          0.6732523032089671,
          1.0620462419240977,
          0.8026249969296,
          1.721390065813685,
          0.7936069256043726,
          1.3985272273207559,
          0.7304728194242064,
          1.6657872061532004,
          1.3877400795634747,
          1.3448220101648127,
          1.3447335598743442,
          1.5536965850439324,
          1.520979932049569,
          0.7547805365271104,
          1.5209883761302192,
          1.5811172188670621,
          1.5536936114732982,
          1.0620699032508742,
          0.8041617536376375,
          1.7213664374701347,
          0.7936504652026494,
          0.7936852857419444,
          1.790695244963376,
          1.6007545760760946,
          1.0620569125667123,
          0.4073021032690953,
          0.7936766884452641,
          0.7808390414698057,
          0.7710109348764189,
          0.7200557478624009,
          1.3438709645753522,
          1.5484797639965002,
          0.7936725859822555,
          1.5117396720597707,
          1.889976713855951,
          0.7936762944609536,
          0.7230822422727748,
          1.0619651502953904,
          2.736308734269327,
          1.3197994924995549,
          1.5208303456505694,
          0.7935200364390089,
          1.3552954235098824,
          1.5223659921855752,
          0.7550838137122561,
          0.793573454823951,
          1.0620365383808912,
          1.5222887439796653,
          0.7929570387687535,
          0.7936855631233245,
          1.0725493415907756,
          1.6658504101231133,
          0.10506424038953202,
          0.06902594672107,
          0.793494120292285,
          1.5308632580067763,
          9.260121603057756,
          0.8594726495721885,
          1.0620588161498563,
          1.471303972441626,
          0.8040797138405174,
          1.7551342574937148,
          1.3447907088852944,
          0.7936864497285372,
          0.7936848952526927,
          0.8037743782539338,
          1.4262499160815445,
          1.7213449326431216,
          0.7936651347257127,
          2.864944421645261,
          1.5117316724774639,
          1.7213518442965343,
          0.8556193823317267,
          0.789668038609396,
          1.335318982302927,
          0.8041537094396378,
          0.7851385103002044,
          0.8041422215348157,
          1.5808255537513811,
          0.7936229706963304,
          1.4807673489858293,
          0.18741106127159934,
          1.52188515466038,
          0.7305456897202542,
          2.2156320340756883,
          0.8451006470629367,
          1.5223659517200034,
          1.511890529644819,
          0.7912649740364578,
          0.7703303945358158,
          1.5223011983659038,
          0.7929235174214929,
          1.0725222447738907,
          1.0620375951611718,
          0.8039696577447231,
          1.721252536528682,
          0.7087364523226323,
          1.0724889079343416,
          0.77984296993765,
          2.1317526248797884,
          1.4817987843073623,
          1.7178536533813429,
          1.0713030048850067,
          1.5118510088143784,
          0.7936716594535292,
          1.5118790032996674,
          1.5223721655453577,
          0.7342131068061115,
          1.072550606809817,
          0.7936230479429864,
          1.4709528540385686,
          1.5770142514120835,
          1.0617557112421923,
          1.0620534062598395,
          2.7358740539317763,
          0.7657935933286293,
          1.0620602994257962,
          0.7935355684163169,
          0.793645796614361,
          0.7306102362183673,
          0.793688099793793,
          1.0616636352046454,
          0.7855854766442513,
          0.7186773918227283,
          1.061276941657102,
          0.7936729307568872,
          0.7933531840131628,
          1.0619042254115851,
          0.7935588207231046,
          1.7214066839066966,
          0.7919529897786032,
          0.7200531982149989,
          2.7365811923636993,
          0.7957870170835006,
          0.7934408485909458,
          0.4075753564218991,
          1.5210043371875337,
          2.736637439087454,
          2.7366299670692387,
          0.729788356900998,
          4.639227910254751,
          1.7214065630015327,
          1.9092832930474437,
          1.2500152111239164,
          0.7934964877986225,
          0.8041756623253447
         ],
         "z": [
          -0.4510701042870325,
          -0.4513533144248502,
          -0.4619379498985668,
          -0.43678636077381156,
          -0.1099469579007664,
          -0.2640879936050721,
          -0.06530387936515049,
          -0.5245396206841891,
          -0.45107504870462883,
          -0.45123741637394904,
          -0.45110250767663457,
          -0.4510701205356345,
          -0.4510703879802681,
          -0.31862070770219264,
          -0.22960412461664906,
          -0.41464311604340026,
          -0.4510948206179853,
          -0.23843889072004631,
          -0.43678863038728105,
          -0.3949054861190761,
          -0.257890124502061,
          -0.26453679484105846,
          -0.2522876905531604,
          -0.4510737346185693,
          -0.45106032415726394,
          -0.2379815747528035,
          -0.4511329777407186,
          -0.45109056785387563,
          -0.45878912312090586,
          -0.23801027493567986,
          -0.4367837609457778,
          0.05877097234901392,
          -0.23967219859505362,
          -0.43678423861490406,
          -0.45137562256103086,
          -0.4510843413161285,
          -0.21740705620762088,
          -0.43678564636847517,
          0.05876678448958093,
          -0.45106504720517304,
          -0.45111916841976096,
          -0.18067078020222727,
          -0.26409841975563125,
          -0.3186337997321705,
          -0.25229042474987934,
          -0.4510569870643329,
          -0.25233430112905275,
          -0.4510704907695994,
          -0.4510583029912269,
          -0.23799783340216174,
          -0.4510733618329689,
          -0.43678415919590685,
          -0.11259207732517602,
          -0.5534974716135328,
          -0.42449323468822403,
          -0.25231060736021144,
          -0.45106290552371536,
          -0.26410886723546206,
          -0.5245331893670709,
          -0.4188584205593017,
          -0.26408862049625037,
          -0.43994725688165826,
          -0.26408888862995916,
          -0.46295277336513496,
          -0.45107289779569076,
          -0.2522961567853509,
          -0.4367903782484723,
          -0.26301770157636406,
          -0.26408898850628715,
          0.026639283488833505,
          -0.2296080972057478,
          -0.43681994728399615,
          -0.26408999577982856,
          -0.26409712055700946,
          -0.4603242903198706,
          -0.4367915856092999,
          -0.16793426461645075,
          -0.45130439217465795,
          -0.45107174373263526,
          -0.4510974447754892,
          -0.252272831922256,
          -0.23817655029510607,
          -0.43678836357331313,
          -0.4510823788341817,
          -0.264087800921569,
          -0.4367839640780369,
          -0.4510709961687286,
          -0.45107061506354157,
          -0.2523279235065323,
          -0.30047192510610105,
          -0.5705400163793364,
          -0.2296228699773105,
          -0.45107893113314657,
          -0.4368685982706348,
          -0.2296421912953503,
          -0.2522701794987417,
          -0.4924184401414861,
          -0.22961036014775926,
          -0.5655438194645652,
          -0.590252675605945,
          -0.43678889334695026,
          -0.4753400095152442,
          -0.4367848141445723,
          -0.22961629935573039,
          -0.4510749932456053,
          -0.4510711733489442,
          -0.2296080972057478,
          -0.4367859645972245,
          -0.2640909034193768,
          -0.45107576789186954,
          -0.27935009921307663,
          -0.45107330463698436,
          -0.45107954793960153,
          -0.4367840256208005,
          -0.451073764225334,
          -0.2615148410307165,
          -0.451071150002215,
          -0.4510710108288371,
          -0.21803994515337302,
          -0.18172772682837565,
          -0.45108146312273895,
          -0.2640883092767239,
          -0.43678534515917034,
          -0.45107341897235154,
          -0.45107040688572453,
          -0.25228459175089557,
          -0.23338985132452816,
          -0.2522734671193522,
          -0.45134350927496386,
          -0.2522931068131,
          -0.43678823619621865,
          -0.5018844088386353,
          -0.43681400116176977,
          -0.2296330056589369,
          -0.43679043707405096,
          -0.2297123653715615,
          -0.436820844670483,
          -0.45107173214003454,
          -0.4510706954168544,
          -0.4510803330828938,
          -0.06608435567522977,
          -0.4367886858715112,
          -0.2523811726510404,
          -0.22960593115622907,
          -0.4510767884067988,
          -0.5361439439149517,
          -0.06530533838861208,
          -0.16795110586235554,
          -0.5813529015899638,
          -0.46030260775934506,
          -0.46031919323080284,
          -0.5586056853908237,
          -0.4510622363377143,
          -0.45395656323053407,
          -0.45106229510833185,
          -0.16336494332295992,
          -0.5586163565838795,
          -0.4367871662075849,
          -0.25228835680284767,
          -0.22960430432144074,
          -0.4510757364102223,
          -0.451071252576545,
          -0.10919623096101494,
          -0.13937049742071794,
          -0.43678594549634814,
          -0.23803281765806872,
          -0.45107056350187835,
          -0.021462305202697686,
          -0.4640822924209542,
          -0.26411267951343215,
          -0.46046112570831055,
          -0.4380114340687699,
          -0.4510708823454862,
          -0.41683396772216685,
          -0.15617341287300374,
          -0.45107456198151585,
          -0.06776123967705669,
          -0.43679527260558587,
          -0.5903038280875871,
          -0.468082042102203,
          -0.4511067797185984,
          -0.45110144578661215,
          -0.2615183389549861,
          -0.2180416908129894,
          -0.4528681985032455,
          -0.45107383574325055,
          -0.43679616020844947,
          -0.21804542416233516,
          -0.45123481264033716,
          -0.45107080411503503,
          -0.237998295714742,
          -0.1679294013470095,
          0.05908581941916465,
          -0.259103856400469,
          -0.45113428367952424,
          -0.2523382131889559,
          -4.703593660528608,
          -0.2798227912171011,
          -0.43678458386048713,
          -0.6108555701760279,
          -0.2522912516923748,
          -0.0826480560736617,
          -0.46030554373817556,
          -0.45107035723007877,
          -0.4510704660316063,
          -0.25235869701237035,
          -0.05123142615729779,
          -0.2296092779322225,
          -0.451073008803947,
          -0.6002436383416878,
          -0.4168626756621055,
          -0.22960635307933236,
          -0.08100256579470747,
          -0.4514915470973597,
          -0.5985673247323989,
          -0.2522937211928848,
          -0.45385883526959453,
          -0.2522857201738894,
          -0.5651928499082954,
          -0.4510766397120391,
          -0.32575140652550827,
          -0.2552826988318094,
          -0.2180443026475861,
          -0.06531682913795685,
          -0.3863398664010287,
          -0.2797983449156684,
          -0.21803910117365635,
          -0.4168254723578024,
          -0.25245398118010953,
          -0.2202466215814557,
          -0.2180554265035663,
          -0.4510816242925662,
          -0.2380025523670832,
          -0.4367923677623378,
          -0.2523142671920971,
          -0.22960720541490845,
          -0.3638600893026444,
          -0.23799911903262372,
          -0.45153094726293763,
          0.03810426490204646,
          -0.41207030856775645,
          -0.8463365738762573,
          -0.24252843115710043,
          -0.4168337049211155,
          -0.4510742073604694,
          -0.4168288632294363,
          -0.21803766870505892,
          -0.45994202265292605,
          -0.23799731056315784,
          -0.4510763624985196,
          -0.6109122844993148,
          -0.5654695930138871,
          -0.4367920616989462,
          -0.4367903239372684,
          -0.5904963280035143,
          -0.45545708780567634,
          -0.4368476322909074,
          -0.4510730550655796,
          -0.45107607007022416,
          -0.06530196324122192,
          -0.45107264024607197,
          -0.4369037045354347,
          -0.45143435895619316,
          -0.2688130209187654,
          -0.43692399522436465,
          -0.45108605420360837,
          -0.45118060283719214,
          -0.43683888164099394,
          -0.4510990042731065,
          -0.22960372614412544,
          -0.3196121245913054,
          -0.26410815509513824,
          -0.5902561378627951,
          -0.2550174704947541,
          -0.4511394884638604,
          -0.23798159120615342,
          -0.45105637164716417,
          -0.5904916403842075,
          -0.5905184550655133,
          -0.06557399968435845,
          6.294048166924557,
          -0.22960516060894978,
          -0.379408913989632,
          -0.26973543472978284,
          -0.45107656002550467,
          -0.2522833107469283
         ]
        },
        {
         "customdata": [
          [
           "SHA-256"
          ],
          [
           "Ethash"
          ],
          [
           "Scrypt"
          ],
          [
           "CryptoNight-V7"
          ],
          [
           "Ethash"
          ],
          [
           "Equihash"
          ],
          [
           "Multiple"
          ],
          [
           "Scrypt"
          ],
          [
           "X11"
          ],
          [
           "Scrypt"
          ],
          [
           "Multiple"
          ],
          [
           "Scrypt"
          ],
          [
           "SHA-256"
          ],
          [
           "Scrypt"
          ],
          [
           "Scrypt"
          ],
          [
           "Quark"
          ],
          [
           "Groestl"
          ],
          [
           "Scrypt"
          ],
          [
           "Scrypt"
          ],
          [
           "Scrypt"
          ],
          [
           "X11"
          ],
          [
           "Scrypt"
          ],
          [
           "Multiple"
          ],
          [
           "SHA-256"
          ],
          [
           "Scrypt"
          ],
          [
           "Scrypt"
          ],
          [
           "Scrypt"
          ],
          [
           "Scrypt"
          ],
          [
           "Scrypt"
          ],
          [
           "NeoScrypt"
          ],
          [
           "Scrypt"
          ],
          [
           "Scrypt"
          ],
          [
           "Scrypt"
          ],
          [
           "Scrypt"
          ],
          [
           "SHA-256"
          ],
          [
           "Scrypt"
          ],
          [
           "Scrypt"
          ],
          [
           "Scrypt"
          ],
          [
           "Scrypt"
          ],
          [
           "HybridScryptHash256"
          ],
          [
           "Scrypt"
          ],
          [
           "Scrypt"
          ],
          [
           "SHA-256"
          ],
          [
           "Scrypt"
          ],
          [
           "Scrypt"
          ],
          [
           "Scrypt"
          ],
          [
           "Scrypt"
          ],
          [
           "SHA-256"
          ],
          [
           "SHA-256"
          ],
          [
           "SHA-256"
          ],
          [
           "SHA-256"
          ],
          [
           "SHA-256"
          ],
          [
           "X11"
          ],
          [
           "Scrypt"
          ],
          [
           "Lyra2REv2"
          ],
          [
           "Scrypt"
          ],
          [
           "SHA-256"
          ],
          [
           "CryptoNight"
          ],
          [
           "CryptoNight"
          ],
          [
           "Shabal256"
          ],
          [
           "Scrypt"
          ],
          [
           "Scrypt"
          ],
          [
           "Scrypt"
          ],
          [
           "Scrypt"
          ],
          [
           "Scrypt"
          ],
          [
           "Scrypt"
          ],
          [
           "Stanford Folding"
          ],
          [
           "Multiple"
          ],
          [
           "QuBit"
          ],
          [
           "Scrypt"
          ],
          [
           "Scrypt"
          ],
          [
           "M7 POW"
          ],
          [
           "Scrypt"
          ],
          [
           "SHA-256"
          ],
          [
           "Scrypt"
          ],
          [
           "X11"
          ],
          [
           "Lyra2RE"
          ],
          [
           "SHA-256"
          ],
          [
           "X11"
          ],
          [
           "Scrypt"
          ],
          [
           "Scrypt"
          ],
          [
           "Ethash"
          ],
          [
           "Blake2b"
          ],
          [
           "X11"
          ],
          [
           "SHA-256"
          ],
          [
           "Scrypt"
          ],
          [
           "1GB AES Pattern Search"
          ],
          [
           "Scrypt"
          ],
          [
           "SHA-256"
          ],
          [
           "X11"
          ],
          [
           "Dagger"
          ],
          [
           "Scrypt"
          ],
          [
           "X11GOST"
          ],
          [
           "Scrypt"
          ],
          [
           "X11"
          ],
          [
           "Scrypt"
          ],
          [
           "X11"
          ],
          [
           "Equihash"
          ],
          [
           "CryptoNight"
          ],
          [
           "SHA-256"
          ],
          [
           "Multiple"
          ],
          [
           "Scrypt"
          ],
          [
           "SHA-256"
          ],
          [
           "Scrypt"
          ],
          [
           "Lyra2Z"
          ],
          [
           "Ethash"
          ],
          [
           "Equihash"
          ],
          [
           "Scrypt"
          ],
          [
           "X11"
          ],
          [
           "X11"
          ],
          [
           "CryptoNight"
          ],
          [
           "Scrypt"
          ],
          [
           "CryptoNight"
          ],
          [
           "Lyra2RE"
          ],
          [
           "X11"
          ],
          [
           "CryptoNight-V7"
          ],
          [
           "Scrypt"
          ],
          [
           "X11"
          ],
          [
           "Equihash"
          ],
          [
           "Scrypt"
          ],
          [
           "Lyra2RE"
          ],
          [
           "Dagger-Hashimoto"
          ],
          [
           "Scrypt"
          ],
          [
           "NIST5"
          ],
          [
           "Scrypt"
          ],
          [
           "SHA-256"
          ],
          [
           "Scrypt"
          ],
          [
           "CryptoNight-V7"
          ],
          [
           "Argon2d"
          ],
          [
           "Blake2b"
          ],
          [
           "Cloverhash"
          ],
          [
           "CryptoNight"
          ],
          [
           "X11"
          ],
          [
           "Scrypt"
          ],
          [
           "Scrypt"
          ],
          [
           "X11"
          ],
          [
           "X11"
          ],
          [
           "CryptoNight"
          ],
          [
           "Time Travel"
          ],
          [
           "Scrypt"
          ],
          [
           "Keccak"
          ],
          [
           "X11"
          ],
          [
           "SHA-256"
          ],
          [
           "Scrypt"
          ],
          [
           "Scrypt"
          ],
          [
           "Scrypt"
          ],
          [
           "Scrypt"
          ],
          [
           "Scrypt"
          ],
          [
           "Scrypt"
          ],
          [
           "CryptoNight"
          ],
          [
           "Equihash"
          ],
          [
           "X11"
          ],
          [
           "NeoScrypt"
          ],
          [
           "Equihash"
          ],
          [
           "Dagger"
          ],
          [
           "Scrypt"
          ],
          [
           "X11"
          ],
          [
           "NeoScrypt"
          ],
          [
           "Ethash"
          ],
          [
           "NeoScrypt"
          ],
          [
           "Multiple"
          ],
          [
           "CryptoNight"
          ],
          [
           "CryptoNight"
          ],
          [
           "Ethash"
          ],
          [
           "X11"
          ],
          [
           "CryptoNight-V7"
          ],
          [
           "Scrypt"
          ],
          [
           "BLAKE256"
          ],
          [
           "X11"
          ],
          [
           "NeoScrypt"
          ],
          [
           "NeoScrypt"
          ],
          [
           "Scrypt"
          ],
          [
           "X11"
          ],
          [
           "SHA-256"
          ],
          [
           "C11"
          ],
          [
           "CryptoNight"
          ],
          [
           "SkunkHash"
          ],
          [
           "CryptoNight"
          ],
          [
           "Scrypt"
          ],
          [
           "Dagger"
          ],
          [
           "Lyra2REv2"
          ],
          [
           "Scrypt"
          ],
          [
           "Scrypt"
          ],
          [
           "X11"
          ],
          [
           "Ethash"
          ],
          [
           "CryptoNight"
          ],
          [
           "Scrypt"
          ],
          [
           "IMesh"
          ],
          [
           "Equihash"
          ],
          [
           "Lyra2Z"
          ],
          [
           "X11"
          ],
          [
           "CryptoNight"
          ],
          [
           "NIST5"
          ],
          [
           "Lyra2RE"
          ],
          [
           "Tribus"
          ],
          [
           "Lyra2Z"
          ],
          [
           "CryptoNight"
          ],
          [
           "CryptoNight Heavy"
          ],
          [
           "CryptoNight"
          ],
          [
           "Jump Consistent Hash"
          ],
          [
           "CryptoNight"
          ],
          [
           "X16R"
          ],
          [
           "HMQ1725"
          ],
          [
           "X11"
          ],
          [
           "Scrypt"
          ],
          [
           "CryptoNight-V7"
          ],
          [
           "Cryptonight-GPU"
          ],
          [
           "XEVAN"
          ],
          [
           "CryptoNight Heavy"
          ],
          [
           "SHA-256"
          ],
          [
           "X11"
          ],
          [
           "X16R"
          ],
          [
           "Equihash"
          ],
          [
           "Lyra2Z"
          ],
          [
           "SHA-256"
          ],
          [
           "CryptoNight"
          ],
          [
           "Blake"
          ],
          [
           "Blake"
          ],
          [
           "Equihash"
          ],
          [
           "Exosis"
          ],
          [
           "Scrypt"
          ],
          [
           "Equihash"
          ],
          [
           "Equihash"
          ],
          [
           "QuBit"
          ],
          [
           "SHA-256"
          ],
          [
           "X13"
          ],
          [
           "SHA-256"
          ],
          [
           "Scrypt"
          ],
          [
           "NeoScrypt"
          ],
          [
           "Blake"
          ],
          [
           "Scrypt"
          ],
          [
           "SHA-256"
          ],
          [
           "Scrypt"
          ],
          [
           "Groestl"
          ],
          [
           "Scrypt"
          ],
          [
           "Scrypt"
          ],
          [
           "Multiple"
          ],
          [
           "Equihash+Scrypt"
          ],
          [
           "Ethash"
          ],
          [
           "CryptoNight"
          ],
          [
           "Equihash"
          ]
         ],
         "hovertemplate": "<b>%{hovertext}</b><br><br>Class=%{marker.color}<br>PC 1=%{x}<br>PC 2=%{y}<br>PC 3=%{z}<br>Algorithm=%{customdata[0]}<extra></extra>",
         "hovertext": [
          "Bitcoin",
          "Ethereum",
          "Litecoin",
          "Monero",
          "Ethereum Classic",
          "ZCash",
          "DigiByte",
          "ProsperCoin",
          "Spreadcoin",
          "Argentum",
          "MyriadCoin",
          "MoonCoin",
          "ZetaCoin",
          "SexCoin",
          "Quatloo",
          "QuarkCoin",
          "Riecoin",
          "Digitalcoin ",
          "Catcoin",
          "CannaCoin",
          "CryptCoin",
          "CasinoCoin",
          "Verge",
          "DevCoin",
          "EarthCoin",
          "E-Gulden",
          "Einsteinium",
          "Emerald",
          "Franko",
          "FeatherCoin",
          "GrandCoin",
          "GlobalCoin",
          "GoldCoin",
          "Infinite Coin",
          "IXcoin",
          "KrugerCoin",
          "LuckyCoin",
          "Litebar ",
          "MegaCoin",
          "MediterraneanCoin",
          "MinCoin",
          "NobleCoin",
          "Namecoin",
          "NyanCoin",
          "RonPaulCoin",
          "StableCoin",
          "SmartCoin",
          "SysCoin",
          "TigerCoin",
          "TerraCoin",
          "UnbreakableCoin",
          "Unobtanium",
          "UroCoin",
          "ViaCoin",
          "Vertcoin",
          "WorldCoin",
          "JouleCoin",
          "ByteCoin",
          "DigitalNote ",
          "BurstCoin",
          "MonaCoin",
          "Gulden",
          "PesetaCoin",
          "Wild Beast Coin",
          "Flo",
          "ArtByte",
          "Folding Coin",
          "Unitus",
          "CypherPunkCoin",
          "OmniCron",
          "GreenCoin",
          "Cryptonite",
          "MasterCoin",
          "SoonCoin",
          "1Credit",
          "MarsCoin ",
          "Crypto",
          "Anarchists Prime",
          "BowsCoin",
          "Song Coin",
          "BitZeny",
          "Expanse",
          "Siacoin",
          "MindCoin",
          "I0coin",
          "Revolution VR",
          "HOdlcoin",
          "Gamecredits",
          "CarpeDiemCoin",
          "Adzcoin",
          "SoilCoin",
          "YoCoin",
          "SibCoin",
          "Francs",
          "BolivarCoin",
          "Omni",
          "PizzaCoin",
          "Komodo",
          "Karbo",
          "ZayedCoin",
          "Circuits of Value",
          "DopeCoin",
          "DollarCoin",
          "Shilling",
          "ZCoin",
          "Elementrem",
          "ZClassic",
          "KiloCoin",
          "ArtexCoin",
          "Kurrent",
          "Cannabis Industry Coin",
          "OsmiumCoin",
          "Bikercoins",
          "HexxCoin",
          "PacCoin",
          "Citadel",
          "BeaverCoin",
          "VaultCoin",
          "Zero",
          "Canada eCoin",
          "Zoin",
          "DubaiCoin",
          "EB3coin",
          "Coinonat",
          "BenjiRolls",
          "ILCoin",
          "EquiTrader",
          "Quantum Resistant Ledger",
          "Dynamic",
          "Nano",
          "ChanCoin",
          "Dinastycoin",
          "DigitalPrice",
          "Unify",
          "SocialCoin",
          "ArcticCoin",
          "DAS",
          "LeviarCoin",
          "Bitcore",
          "gCn Coin",
          "SmartCash",
          "Onix",
          "Bitcoin Cash",
          "Sojourn Coin",
          "NewYorkCoin",
          "FrazCoin",
          "Kronecoin",
          "AdCoin",
          "Linx",
          "Sumokoin",
          "BitcoinZ",
          "Elements",
          "VIVO Coin",
          "Bitcoin Gold",
          "Pirl",
          "eBoost",
          "Pura",
          "Innova",
          "Ellaism",
          "GoByte",
          "SHIELD",
          "UltraNote",
          "BitCoal",
          "DaxxCoin",
          "AC3",
          "Lethean",
          "PopularCoin",
          "Photon",
          "Sucre",
          "SparksPay",
          "GunCoin",
          "IrishCoin",
          "Pioneer Coin",
          "UnitedBitcoin",
          "Interzone",
          "TurtleCoin",
          "MUNcoin",
          "Niobio Cash",
          "ShareChain",
          "Travelflex",
          "KREDS",
          "BitFlip",
          "LottoCoin",
          "Crypto Improvement Fund",
          "Callisto Network",
          "BitTube",
          "Poseidon",
          "Aidos Kuneen",
          "Bitrolium",
          "Alpenschillling",
          "FuturoCoin",
          "Monero Classic",
          "Jumpcoin",
          "Infinex",
          "KEYCO",
          "GINcoin",
          "PlatinCoin",
          "Loki",
          "Newton Coin",
          "MassGrid",
          "PluraCoin",
          "Motion",
          "PlusOneCoin",
          "Axe",
          "HexCoin",
          "Webchain",
          "Ryo",
          "Urals Coin",
          "Qwertycoin",
          "Project Pai",
          "Azart",
          "Xchange",
          "CrypticCoin",
          "Actinium",
          "Bitcoin SV",
          "FREDEnergy",
          "Universal Molecule",
          "Lithium",
          "PirateCash",
          "Exosis",
          "Block-Logic",
          "Beam",
          "Bithereum",
          "SLICE",
          "BLAST",
          "Bitcoin Rhodium",
          "GlobalToken",
          "SolarCoin",
          "UFO Coin",
          "BlakeCoin",
          "Crypto Escudo",
          "Crown Coin",
          "SmileyCoin",
          "Groestlcoin",
          "Bata",
          "Pakcoin",
          "JoinCoin",
          "Vollar",
          "Reality Clash",
          "Beldex",
          "Horizen"
         ],
         "legendgroup": "1",
         "marker": {
          "color": [
           1,
           1,
           1,
           1,
           1,
           1,
           1,
           1,
           1,
           1,
           1,
           1,
           1,
           1,
           1,
           1,
           1,
           1,
           1,
           1,
           1,
           1,
           1,
           1,
           1,
           1,
           1,
           1,
           1,
           1,
           1,
           1,
           1,
           1,
           1,
           1,
           1,
           1,
           1,
           1,
           1,
           1,
           1,
           1,
           1,
           1,
           1,
           1,
           1,
           1,
           1,
           1,
           1,
           1,
           1,
           1,
           1,
           1,
           1,
           1,
           1,
           1,
           1,
           1,
           1,
           1,
           1,
           1,
           1,
           1,
           1,
           1,
           1,
           1,
           1,
           1,
           1,
           1,
           1,
           1,
           1,
           1,
           1,
           1,
           1,
           1,
           1,
           1,
           1,
           1,
           1,
           1,
           1,
           1,
           1,
           1,
           1,
           1,
           1,
           1,
           1,
           1,
           1,
           1,
           1,
           1,
           1,
           1,
           1,
           1,
           1,
           1,
           1,
           1,
           1,
           1,
           1,
           1,
           1,
           1,
           1,
           1,
           1,
           1,
           1,
           1,
           1,
           1,
           1,
           1,
           1,
           1,
           1,
           1,
           1,
           1,
           1,
           1,
           1,
           1,
           1,
           1,
           1,
           1,
           1,
           1,
           1,
           1,
           1,
           1,
           1,
           1,
           1,
           1,
           1,
           1,
           1,
           1,
           1,
           1,
           1,
           1,
           1,
           1,
           1,
           1,
           1,
           1,
           1,
           1,
           1,
           1,
           1,
           1,
           1,
           1,
           1,
           1,
           1,
           1,
           1,
           1,
           1,
           1,
           1,
           1,
           1,
           1,
           1,
           1,
           1,
           1,
           1,
           1,
           1,
           1,
           1,
           1,
           1,
           1,
           1,
           1,
           1,
           1,
           1,
           1,
           1,
           1,
           1,
           1,
           1,
           1,
           1,
           1,
           1,
           1,
           1,
           1,
           1,
           1,
           1,
           1,
           1,
           1,
           1,
           1,
           1,
           1,
           1,
           1,
           1,
           1,
           1,
           1,
           1,
           1,
           1,
           1,
           1,
           1,
           1
          ],
          "coloraxis": "coloraxis",
          "symbol": "diamond"
         },
         "mode": "markers",
         "name": "1",
         "scene": "scene",
         "showlegend": true,
         "type": "scatter3d",
         "x": [
          -0.15068805362303303,
          -0.16698580547590927,
          -0.17307745705826116,
          -0.20217982981767701,
          -0.16542251986057088,
          -0.12230541378090844,
          0.13102090555407783,
          -0.17422755756607813,
          -0.23946217883254256,
          -0.1738427947402073,
          -0.12324076781988605,
          2.556925702461702,
          -0.14776317682316953,
          -0.1710889329315591,
          -0.17364615168188732,
          -0.23619849034863383,
          -0.19022656579134986,
          -0.1736951114730615,
          -0.17420976435950347,
          -0.17429651236240332,
          -0.23955182054863414,
          0.7194644695736835,
          0.15484723024658875,
          0.22843081911317092,
          0.07527114708207351,
          -0.1740419561056598,
          -0.16963245485452383,
          -0.17398104163313213,
          -0.17435370665186353,
          -0.19715025310977247,
          -0.1535059485586115,
          -0.1731447591702515,
          -0.17342313228243714,
          1.5804412256199079,
          -0.15064929404243232,
          -0.1707033751329066,
          -0.17406848650977333,
          -0.1744244944898173,
          -0.17368125036353613,
          -0.17020232469376506,
          -0.1743053600585116,
          -0.03875187862462633,
          -0.1507271637734638,
          -0.1679479514852861,
          -0.17428472728471128,
          -0.17237258364260113,
          -0.17376974107087673,
          -0.13783590178335153,
          -0.1501891279938878,
          -0.15047729458996192,
          -0.15046020361813772,
          -0.15105292273503268,
          -0.23972630471035095,
          -0.17400026887965317,
          -0.19537063520172535,
          -0.17109365489597464,
          -0.15025664852203516,
          3.853482313470905,
          0.44100521326780606,
          0.13445154950745852,
          -0.17286404007316236,
          -0.15741071567196122,
          -0.17157854839025083,
          -0.17442671053840683,
          -0.17144314025159932,
          -0.15762034875340983,
          -0.10359806055726425,
          -0.15736192697523285,
          -0.20265409527140754,
          -0.17429936391482084,
          -0.04680798741825892,
          -0.1085252644768635,
          -0.1744356337874648,
          -0.1507550340801598,
          0.4799449761223361,
          -0.23911142748790623,
          -0.18966255028460885,
          -0.1504940111074746,
          -0.23939728390118442,
          -0.17255304504106514,
          -0.17174256896911416,
          -0.16805682100578476,
          0.33412087843767896,
          -0.23943280137577486,
          -0.15065042014282493,
          -0.17037988936254964,
          -0.15076585871846343,
          -0.17299414623628312,
          0.26924194629931764,
          -0.2385906862508543,
          -0.18511242060532382,
          -0.17324235730653925,
          -0.14875147396877578,
          -0.1742248340971407,
          -0.23939591763142234,
          -0.1744356924791974,
          -0.23954638975163645,
          -0.056776153303263716,
          0.28538688844204924,
          -0.150911379551719,
          -0.13736723842186957,
          -0.17159284089347382,
          -0.15086987056642617,
          -0.1740979537675825,
          -0.18518943401024662,
          -0.1677981119480947,
          -0.12232710307445832,
          -0.10091204452946516,
          -0.22608464723881966,
          -0.23736718579505633,
          0.28538123871111115,
          -0.1744173683144846,
          0.28551239337764134,
          -0.19020482731521837,
          0.4781359636879545,
          -0.20094031888849426,
          -0.17438554916985446,
          -0.2322557082430574,
          -0.12233952111384118,
          -0.17251253171256395,
          -0.1899222611295729,
          -0.23971642903865256,
          -0.1452101858303277,
          -0.21120909898994242,
          -0.17394644896103395,
          -0.1171228148446849,
          -0.17376790224345504,
          -0.20079761653319741,
          -0.1547721464366783,
          -0.06751979051206437,
          -0.14968302911402023,
          0.3216248846417959,
          -0.23859910041974397,
          -0.17408825502594186,
          -0.17385081910296504,
          -0.23899511797320563,
          -0.23957451884965963,
          0.28577756159642803,
          -0.17610577150809836,
          3.2467509431455546,
          -0.14417853886491935,
          -0.23041564106531046,
          -0.1506872150470968,
          -0.09975569619511236,
          1.57842192552483,
          -0.1741864292373497,
          -0.17363621018994274,
          -0.17333617868103776,
          -0.17332306592914695,
          0.28596180112504965,
          0.09070604711119153,
          -0.19380819290747292,
          -0.20185480253432211,
          -0.12218505603415966,
          -0.18386731126342712,
          -0.17251073488225507,
          -0.23510390415089127,
          -0.20169968955513937,
          -0.16615773424621558,
          -0.20180023561794966,
          -0.14756079401377567,
          1.1261629935983015,
          0.28536394690748385,
          -0.09079150017109562,
          -0.23484452333272757,
          -0.18987288753435158,
          -0.09029264122042996,
          1.1061544313950074,
          -0.2395484301442528,
          -0.2018523557654362,
          -0.19486673918937283,
          -0.17343490687416707,
          -0.23947358683071962,
          -0.15066654397023,
          -0.23052837805143025,
          8.049519907102463,
          -0.1955754213178874,
          0.289251473754271,
          0.019254454561374385,
          -0.1833688920682607,
          -0.18087995390057407,
          -0.17401056009880322,
          0.13410041319404808,
          -0.2335946977838379,
          -0.11903648509256311,
          0.2933140109615818,
          -0.17424837158849837,
          -0.11470240884149073,
          -0.12117275273604762,
          -0.18296541255786072,
          -0.23864000918557707,
          0.28554707848700833,
          -0.21126877140929887,
          -0.19004954117443948,
          -0.17861059347553376,
          -0.18527409745228857,
          0.28948868516345255,
          0.5798375575073407,
          2.100160493933565,
          -0.176414187665607,
          0.2991979464251011,
          -0.24090950908237116,
          -0.26346685165487427,
          -0.239530530178142,
          -0.1742730351406003,
          -0.18975203320720588,
          -0.1766600783553913,
          -0.16177655676209324,
          3.1109100862962418,
          -0.1103797251693443,
          -0.23950179828595883,
          -0.240335283874711,
          -0.016575999443707475,
          -0.18466980375848227,
          -0.150687252738163,
          0.36557749673839984,
          -0.11968999742045101,
          -0.12008336771219731,
          -0.23911199190977625,
          -0.1457824434207354,
          -0.17316158517845645,
          -0.12023856703696953,
          -0.12201731148837507,
          -0.20186238632865294,
          -0.14996095569615053,
          -0.10236702124317086,
          -0.14882506322173408,
          0.5240139738079149,
          -0.1267659613832045,
          -0.0703801063476758,
          -0.1577714384494232,
          -0.15047666293567,
          0.5438185079949286,
          -0.18978608862235907,
          -0.1743501379703377,
          -0.17229893574627067,
          -0.15809926872418112,
          -0.15812634889157923,
          -0.167831382120664,
          0.3071944333610437,
          -0.12230647426349563
         ],
         "y": [
          -1.1860540770659231,
          -1.8116056244580008,
          -1.1125557598452995,
          -1.9475781071650433,
          -1.811766668312367,
          -2.2201481208364013,
          -1.603513687895784,
          -1.1125033695444462,
          -0.8441137084279099,
          -1.1125367322536335,
          -1.5882677051328715,
          -1.4062056204717874,
          -1.1861790625527668,
          -1.112687567333522,
          -1.1125639126787576,
          -0.3944887587228746,
          -1.2414199437102331,
          -1.1125261791558354,
          -1.1125034760543513,
          -1.1124972793898862,
          -0.844111727204736,
          -0.08195127509727178,
          -1.6004456239769238,
          -1.2034769138266417,
          -1.1237329428354517,
          -1.1125044805523943,
          -1.1127322516073441,
          -1.112512790645237,
          -1.11249556160371,
          -1.4988265435484371,
          -1.1136383671594268,
          -1.1125452445726047,
          -1.1125452003364378,
          -1.1884333201341593,
          -1.1860543090802713,
          -1.1127010139451077,
          -1.1125035994272288,
          -1.1124879972024648,
          -1.1125218083369972,
          -2.0609056908880112,
          -1.112494958360134,
          -1.1241338742371896,
          -1.186053842953066,
          -1.1127692105702065,
          -1.1125030273272478,
          -1.1126798834169214,
          -1.1125279239262447,
          -1.1867572565601228,
          -1.1860758524501893,
          -1.1860705072714584,
          -1.1860980575291256,
          -1.1860369049380677,
          -0.8440976810836378,
          -1.1125061747206089,
          -1.1358721660707378,
          -1.1126986777354797,
          -1.1860739949995018,
          -2.296087521829472,
          -2.1496401141797534,
          -0.2698500851667338,
          -1.112572292639045,
          -1.1138023547130722,
          -1.1126242408963698,
          -1.1124889070551682,
          -1.112620438747289,
          -1.1133099259862327,
          -2.1632113420382106,
          -1.5866188272968282,
          -1.3683671490867926,
          -1.1124902062735147,
          -1.120474077930343,
          -2.030222002701968,
          -1.1124874028561327,
          -1.1860536761217695,
          -1.1828570040900506,
          -0.8441251981095482,
          -1.899134426878869,
          -1.1860789016252224,
          -0.8441148192026405,
          -1.112650083952451,
          -1.1126836546766306,
          -1.8116114251087023,
          -1.989263230662191,
          -0.8441109950229524,
          -1.1860543023394492,
          -1.1126629190788333,
          -2.1315135954317297,
          -1.112556258542807,
          -1.2041735798381425,
          -0.8441651532998212,
          -1.9767427638503952,
          -1.1126157009223592,
          -2.0808393494697763,
          -1.1125026635325872,
          -0.8441177166391486,
          -1.112487400316192,
          -0.8441168159149777,
          -2.8360983687451338,
          -2.141492662952441,
          -1.186044604089167,
          -1.5876052926550774,
          -1.1126484352215256,
          -1.1860455043043547,
          -1.1125106461816907,
          -2.0058475439175503,
          -1.8116196906429702,
          -2.220147991004569,
          -1.12015021174226,
          -0.8445404971236752,
          -0.8442764904470229,
          -2.14150057459282,
          -1.1124890253032298,
          -2.1415042489409983,
          -1.8990908835384772,
          -0.9206262462340988,
          -1.9477191550455915,
          -1.11248968218081,
          -0.8448647144864437,
          -2.220145027412311,
          -1.1125706985132737,
          -1.8991005204363385,
          -1.7007770180853898,
          -1.1155511565875404,
          -0.5613833752222359,
          -1.1125155405525224,
          -1.1880456158194266,
          -1.1125429590752227,
          -1.9476622240993537,
          -2.100186130968817,
          -1.9871048056885934,
          -2.079477421218038,
          -2.143146989002644,
          -0.8441766599648539,
          -1.1125029587152933,
          -1.1125446296794974,
          -0.8441453968285383,
          -0.8441122414160566,
          -2.1415267833552867,
          -2.053850293833055,
          -1.277429035864678,
          -1.201147833758156,
          -0.8449479605557082,
          -1.1860540820856267,
          -1.1205182908828266,
          -1.122979538141463,
          -1.1125028934235826,
          -1.1125524151562614,
          -1.1125657681731433,
          -1.1125658466659065,
          -2.141553086960724,
          -2.236576640772125,
          -0.8456727124243426,
          -1.4985751869930684,
          -2.2201488412963206,
          -1.9768414502444405,
          -1.1125707092690766,
          -0.8443781607918167,
          -1.4985891171585177,
          -1.8118128293441456,
          -1.4985789807395675,
          -1.5871542243280727,
          -2.2079150479688923,
          -2.1414943314109833,
          -1.819284867673894,
          -0.8445241763437896,
          -1.9483737163630157,
          -1.116602206809278,
          -1.363053927731418,
          -0.8441130476657687,
          -1.4985708677523428,
          -1.4989586722127413,
          -1.1125391738651391,
          -0.8441158070833059,
          -1.1860536034121256,
          -1.0467058883124036,
          -2.910275948623965,
          -1.9332607636940022,
          -2.141751270840115,
          -1.1208695268560194,
          -1.9768037626053405,
          -1.13669277864296,
          -1.1125183924641517,
          -1.1276294767960098,
          -0.8444955420579706,
          -1.816587692777976,
          -2.1422552059692204,
          -1.1125032449519763,
          -2.0354942112162777,
          -2.220190294341733,
          -2.0060620937034055,
          -0.8441764150855092,
          -2.141499689289858,
          -0.561363333508912,
          -1.8991035723602374,
          -1.96669626979439,
          -2.0058391638951343,
          -2.141943382189007,
          -2.2035601967531524,
          -2.2852545208056267,
          -2.123647050057818,
          -2.14229042713102,
          -1.0610266763399727,
          -1.7375085313194314,
          -0.8441140215921452,
          -1.1125038956637723,
          -1.9489165501855008,
          -2.093856659826691,
          -0.4349875026505072,
          -2.3518481745108955,
          -1.1877970540637761,
          -0.8441170828389164,
          -1.0610863994971305,
          -2.226255437408471,
          -2.0058958713057806,
          -1.1860540818600083,
          -2.1478017609846995,
          -2.2390129957800564,
          -2.238952934496646,
          -0.3035494986510905,
          -2.0802379197729906,
          -1.1125812595777718,
          -2.2203351486025578,
          -2.220156986214241,
          -1.3684441196971828,
          -1.1860894889886089,
          -0.3851729428589848,
          -1.1861714091352158,
          -1.1875269190449147,
          -1.501894423370843,
          -2.2442884360107813,
          -1.113309021565261,
          -1.186070511052533,
          -1.1529021408625875,
          -1.241437749005568,
          -1.1124910787475877,
          -1.112631206885687,
          -1.586616436059253,
          -2.0897590204593333,
          -1.811618250844358,
          -2.1426273805966005,
          -2.220148114488366
         ],
         "z": [
          0.20654799259467277,
          0.33091142738242957,
          0.019552805937149323,
          0.3661162854247984,
          0.3309078125817106,
          0.35191289742221143,
          0.3274312477450211,
          0.019568521943899065,
          0.03385345871967172,
          0.019566392725875768,
          0.3301819100629497,
          0.01569294588768165,
          0.2065063943973823,
          0.019533777372930102,
          0.019567305744961624,
          0.053745657966783426,
          0.1520066690297269,
          0.019560960684686064,
          0.019568139713947684,
          0.01956888158042237,
          0.0338550989807466,
          0.016290216988401267,
          0.3262851061767626,
          0.2013975807995343,
          0.016132320174470718,
          0.019564534892047073,
          0.019509595087342714,
          0.019564796059685457,
          0.019569838485333564,
          0.23260133157499446,
          0.019323111451663412,
          0.019552253882094715,
          0.019558554300613252,
          -0.005199121858206812,
          0.20654715996944956,
          0.019527695476413285,
          0.01956496211086896,
          0.019569948411744757,
          0.01955978302401986,
          0.29835719478238226,
          0.01956862356118112,
          0.018795791701604777,
          0.20654883275076624,
          0.01947871852002904,
          0.01956975005186794,
          0.019561352489705905,
          0.019562996819350628,
          0.20639562779723114,
          0.20654098673264676,
          0.2065464618505683,
          0.20655151737368665,
          0.20655286957479033,
          0.033856278580986957,
          0.01956392477932385,
          0.2503834535990831,
          0.019536079384862206,
          0.2065421500831222,
          0.3231528090201943,
          0.37156211504360653,
          0.590793821151471,
          0.01955123521968581,
          0.019444008315123523,
          0.019532363323062924,
          0.019570178389318703,
          0.019528543220082146,
          0.019351474395812026,
          0.30996934403132076,
          0.3306294901165575,
          0.28891970945794304,
          0.019567548831234707,
          0.01825534242772193,
          0.4092596915087123,
          0.01957008345701991,
          0.2065494314548803,
          0.01864129148328286,
          0.03384777907565884,
          0.3970957342959573,
          0.20654849912429535,
          0.033852207362079355,
          0.019559555300869214,
          0.01954781864592555,
          0.33093684728762063,
          0.32206285880822927,
          0.03385225683213631,
          0.20654718416010326,
          0.019512837775524566,
          0.4835198708419098,
          0.019551016271451095,
          0.20061025595301937,
          0.03384387041205038,
          0.3996460095946214,
          0.019568385370911344,
          0.3943907315159649,
          0.019568320737123213,
          0.03385274881929509,
          0.019570084285437085,
          0.03385598122998967,
          0.3853811669642926,
          0.37347948460524666,
          0.20655118264278302,
          0.33037121052975144,
          0.019537467129418236,
          0.20655041971495522,
          0.019567022138198185,
          0.34993292825969347,
          0.33093261675777297,
          0.3519133633470912,
          0.019417594495252193,
          0.03363458223337254,
          0.03383813648747111,
          0.3734811756912171,
          0.019569990014779576,
          0.3734789290611703,
          0.3970994221737311,
          0.032705489539610014,
          0.36611605833973165,
          0.01956939862709304,
          0.03383849857067235,
          0.35191305930168487,
          0.01954295355727952,
          0.39709492186565304,
          0.3731205446497678,
          0.019512987218320215,
          0.010335795944914752,
          0.019564555314482243,
          0.20618070886138373,
          0.019565925515160613,
          0.366101576694749,
          0.3143417959075992,
          0.330739378768252,
          0.3488856252663609,
          0.3729850040820268,
          0.03384633439202241,
          0.019565283572078592,
          0.01956813482319153,
          0.03384913348710924,
          0.03385571501251986,
          0.3734773711245638,
          0.35166681950163836,
          -0.02538286436017652,
          0.10614463260696502,
          0.03381324080988593,
          0.20654797458056076,
          0.019464104953804188,
          -0.01808452534692594,
          0.019567495731937227,
          0.01956480895535444,
          0.019560646969624708,
          0.019560365284224387,
          0.37347839203602207,
          0.3503307703945365,
          0.033126738494824635,
          0.2326582988728589,
          0.35191031192220584,
          0.3996372866116439,
          0.019542914958145686,
          0.0338069267610672,
          0.23265753540032016,
          0.3309335954286723,
          0.23265781164631044,
          0.3305131274007616,
          0.3675463323805007,
          0.3734803341849672,
          0.33070165505632787,
          0.033829895153336016,
          0.36599453805404203,
          0.018475961766372114,
          0.04295328737461106,
          0.03385528301199904,
          0.23265739010117345,
          0.23257568069800064,
          0.019557630563832168,
          0.03385413188926205,
          0.2065474115155115,
          0.19081735376979814,
          0.3493923563148213,
          0.40164084201737377,
          0.3734429871715437,
          0.016836202831238184,
          0.3996185446032399,
          0.25021715281946777,
          0.01956657178348246,
          0.01556879693244966,
          0.03379591157241384,
          0.3308089516842563,
          0.3734504705796751,
          0.019568969066386433,
          0.25340556352913457,
          0.3518955582213839,
          0.3499249090119853,
          0.03384721318559558,
          0.3734772421311096,
          0.010333188906348326,
          0.3970984095344451,
          0.33739656077776387,
          0.34993319153264224,
          0.37347556479055616,
          0.3547353927441706,
          0.3607505979378095,
          0.3432857219973419,
          0.37332407310556986,
          0.1908502053122153,
          0.4194475951630064,
          0.03385506973080278,
          0.01956965660666974,
          0.36609904221353623,
          0.3683630798922768,
          -0.14022050002740266,
          0.32666621363152143,
          0.2059787745019554,
          0.03385502332542663,
          0.19084898986276366,
          0.35072317702539635,
          0.34993069880273875,
          0.20654797539023226,
          0.37290845008799667,
          0.44977825814231914,
          0.44977530782385244,
          0.08005692527682265,
          0.30357879934380644,
          0.019559750424115833,
          0.3519030031431327,
          0.35190811921871007,
          0.28891697231004904,
          0.20653850940542962,
          0.019583694382111324,
          0.20652894938585092,
          0.018565091353999807,
          0.23161221024214482,
          0.44970290502888793,
          0.019354720073141027,
          0.20654644828150265,
          0.011275698649735965,
          0.15200020352854987,
          0.01956887196201907,
          0.019550066679618217,
          0.3306457291031785,
          0.3151453082658282,
          0.33093308635680774,
          0.3732094067220888,
          0.351912920203278
         ]
        },
        {
         "customdata": [
          [
           "VeChainThor Authority"
          ],
          [
           "Proof-of-BibleHash"
          ],
          [
           "Proof-of-Authority"
          ],
          [
           "ECC 256K1"
          ]
         ],
         "hovertemplate": "<b>%{hovertext}</b><br><br>Class=%{marker.color}<br>PC 1=%{x}<br>PC 2=%{y}<br>PC 3=%{z}<br>Algorithm=%{customdata[0]}<extra></extra>",
         "hovertext": [
          "Vechain",
          "BiblePay",
          "Poa Network",
          "Acute Angle Cloud"
         ],
         "legendgroup": "3",
         "marker": {
          "color": [
           3,
           3,
           3,
           3
          ],
          "coloraxis": "coloraxis",
          "symbol": "square"
         },
         "mode": "markers",
         "name": "3",
         "scene": "scene",
         "showlegend": true,
         "type": "scatter3d",
         "x": [
          4.4547600154100016,
          -0.20146543560041802,
          -0.36406821431855335,
          -0.3966696317294475
         ],
         "y": [
          2.0492130127085635,
          3.79027615631753,
          3.8413896370209084,
          3.749469601954026
         ],
         "z": [
          9.363590892899325,
          19.732990313617798,
          11.429061528386132,
          18.467740580395194
         ]
        },
        {
         "customdata": [
          [
           "TRC10"
          ]
         ],
         "hovertemplate": "<b>%{hovertext}</b><br><br>Class=%{marker.color}<br>PC 1=%{x}<br>PC 2=%{y}<br>PC 3=%{z}<br>Algorithm=%{customdata[0]}<extra></extra>",
         "hovertext": [
          "BitTorrent"
         ],
         "legendgroup": "2",
         "marker": {
          "color": [
           2
          ],
          "coloraxis": "coloraxis",
          "symbol": "x"
         },
         "mode": "markers",
         "name": "2",
         "scene": "scene",
         "showlegend": true,
         "type": "scatter3d",
         "x": [
          34.12600465194169
         ],
         "y": [
          0.9555309272647233
         ],
         "z": [
          -1.1007582122143027
         ]
        }
       ],
       "layout": {
        "coloraxis": {
         "colorbar": {
          "title": {
           "text": "Class"
          }
         },
         "colorscale": [
          [
           0,
           "#0d0887"
          ],
          [
           0.1111111111111111,
           "#46039f"
          ],
          [
           0.2222222222222222,
           "#7201a8"
          ],
          [
           0.3333333333333333,
           "#9c179e"
          ],
          [
           0.4444444444444444,
           "#bd3786"
          ],
          [
           0.5555555555555556,
           "#d8576b"
          ],
          [
           0.6666666666666666,
           "#ed7953"
          ],
          [
           0.7777777777777778,
           "#fb9f3a"
          ],
          [
           0.8888888888888888,
           "#fdca26"
          ],
          [
           1,
           "#f0f921"
          ]
         ]
        },
        "legend": {
         "title": {
          "text": "Class"
         },
         "tracegroupgap": 0,
         "x": 0,
         "y": 1
        },
        "margin": {
         "t": 60
        },
        "scene": {
         "domain": {
          "x": [
           0,
           1
          ],
          "y": [
           0,
           1
          ]
         },
         "xaxis": {
          "title": {
           "text": "PC 1"
          }
         },
         "yaxis": {
          "title": {
           "text": "PC 2"
          }
         },
         "zaxis": {
          "title": {
           "text": "PC 3"
          }
         }
        },
        "template": {
         "data": {
          "bar": [
           {
            "error_x": {
             "color": "#2a3f5f"
            },
            "error_y": {
             "color": "#2a3f5f"
            },
            "marker": {
             "line": {
              "color": "#E5ECF6",
              "width": 0.5
             }
            },
            "type": "bar"
           }
          ],
          "barpolar": [
           {
            "marker": {
             "line": {
              "color": "#E5ECF6",
              "width": 0.5
             }
            },
            "type": "barpolar"
           }
          ],
          "carpet": [
           {
            "aaxis": {
             "endlinecolor": "#2a3f5f",
             "gridcolor": "white",
             "linecolor": "white",
             "minorgridcolor": "white",
             "startlinecolor": "#2a3f5f"
            },
            "baxis": {
             "endlinecolor": "#2a3f5f",
             "gridcolor": "white",
             "linecolor": "white",
             "minorgridcolor": "white",
             "startlinecolor": "#2a3f5f"
            },
            "type": "carpet"
           }
          ],
          "choropleth": [
           {
            "colorbar": {
             "outlinewidth": 0,
             "ticks": ""
            },
            "type": "choropleth"
           }
          ],
          "contour": [
           {
            "colorbar": {
             "outlinewidth": 0,
             "ticks": ""
            },
            "colorscale": [
             [
              0,
              "#0d0887"
             ],
             [
              0.1111111111111111,
              "#46039f"
             ],
             [
              0.2222222222222222,
              "#7201a8"
             ],
             [
              0.3333333333333333,
              "#9c179e"
             ],
             [
              0.4444444444444444,
              "#bd3786"
             ],
             [
              0.5555555555555556,
              "#d8576b"
             ],
             [
              0.6666666666666666,
              "#ed7953"
             ],
             [
              0.7777777777777778,
              "#fb9f3a"
             ],
             [
              0.8888888888888888,
              "#fdca26"
             ],
             [
              1,
              "#f0f921"
             ]
            ],
            "type": "contour"
           }
          ],
          "contourcarpet": [
           {
            "colorbar": {
             "outlinewidth": 0,
             "ticks": ""
            },
            "type": "contourcarpet"
           }
          ],
          "heatmap": [
           {
            "colorbar": {
             "outlinewidth": 0,
             "ticks": ""
            },
            "colorscale": [
             [
              0,
              "#0d0887"
             ],
             [
              0.1111111111111111,
              "#46039f"
             ],
             [
              0.2222222222222222,
              "#7201a8"
             ],
             [
              0.3333333333333333,
              "#9c179e"
             ],
             [
              0.4444444444444444,
              "#bd3786"
             ],
             [
              0.5555555555555556,
              "#d8576b"
             ],
             [
              0.6666666666666666,
              "#ed7953"
             ],
             [
              0.7777777777777778,
              "#fb9f3a"
             ],
             [
              0.8888888888888888,
              "#fdca26"
             ],
             [
              1,
              "#f0f921"
             ]
            ],
            "type": "heatmap"
           }
          ],
          "heatmapgl": [
           {
            "colorbar": {
             "outlinewidth": 0,
             "ticks": ""
            },
            "colorscale": [
             [
              0,
              "#0d0887"
             ],
             [
              0.1111111111111111,
              "#46039f"
             ],
             [
              0.2222222222222222,
              "#7201a8"
             ],
             [
              0.3333333333333333,
              "#9c179e"
             ],
             [
              0.4444444444444444,
              "#bd3786"
             ],
             [
              0.5555555555555556,
              "#d8576b"
             ],
             [
              0.6666666666666666,
              "#ed7953"
             ],
             [
              0.7777777777777778,
              "#fb9f3a"
             ],
             [
              0.8888888888888888,
              "#fdca26"
             ],
             [
              1,
              "#f0f921"
             ]
            ],
            "type": "heatmapgl"
           }
          ],
          "histogram": [
           {
            "marker": {
             "colorbar": {
              "outlinewidth": 0,
              "ticks": ""
             }
            },
            "type": "histogram"
           }
          ],
          "histogram2d": [
           {
            "colorbar": {
             "outlinewidth": 0,
             "ticks": ""
            },
            "colorscale": [
             [
              0,
              "#0d0887"
             ],
             [
              0.1111111111111111,
              "#46039f"
             ],
             [
              0.2222222222222222,
              "#7201a8"
             ],
             [
              0.3333333333333333,
              "#9c179e"
             ],
             [
              0.4444444444444444,
              "#bd3786"
             ],
             [
              0.5555555555555556,
              "#d8576b"
             ],
             [
              0.6666666666666666,
              "#ed7953"
             ],
             [
              0.7777777777777778,
              "#fb9f3a"
             ],
             [
              0.8888888888888888,
              "#fdca26"
             ],
             [
              1,
              "#f0f921"
             ]
            ],
            "type": "histogram2d"
           }
          ],
          "histogram2dcontour": [
           {
            "colorbar": {
             "outlinewidth": 0,
             "ticks": ""
            },
            "colorscale": [
             [
              0,
              "#0d0887"
             ],
             [
              0.1111111111111111,
              "#46039f"
             ],
             [
              0.2222222222222222,
              "#7201a8"
             ],
             [
              0.3333333333333333,
              "#9c179e"
             ],
             [
              0.4444444444444444,
              "#bd3786"
             ],
             [
              0.5555555555555556,
              "#d8576b"
             ],
             [
              0.6666666666666666,
              "#ed7953"
             ],
             [
              0.7777777777777778,
              "#fb9f3a"
             ],
             [
              0.8888888888888888,
              "#fdca26"
             ],
             [
              1,
              "#f0f921"
             ]
            ],
            "type": "histogram2dcontour"
           }
          ],
          "mesh3d": [
           {
            "colorbar": {
             "outlinewidth": 0,
             "ticks": ""
            },
            "type": "mesh3d"
           }
          ],
          "parcoords": [
           {
            "line": {
             "colorbar": {
              "outlinewidth": 0,
              "ticks": ""
             }
            },
            "type": "parcoords"
           }
          ],
          "pie": [
           {
            "automargin": true,
            "type": "pie"
           }
          ],
          "scatter": [
           {
            "marker": {
             "colorbar": {
              "outlinewidth": 0,
              "ticks": ""
             }
            },
            "type": "scatter"
           }
          ],
          "scatter3d": [
           {
            "line": {
             "colorbar": {
              "outlinewidth": 0,
              "ticks": ""
             }
            },
            "marker": {
             "colorbar": {
              "outlinewidth": 0,
              "ticks": ""
             }
            },
            "type": "scatter3d"
           }
          ],
          "scattercarpet": [
           {
            "marker": {
             "colorbar": {
              "outlinewidth": 0,
              "ticks": ""
             }
            },
            "type": "scattercarpet"
           }
          ],
          "scattergeo": [
           {
            "marker": {
             "colorbar": {
              "outlinewidth": 0,
              "ticks": ""
             }
            },
            "type": "scattergeo"
           }
          ],
          "scattergl": [
           {
            "marker": {
             "colorbar": {
              "outlinewidth": 0,
              "ticks": ""
             }
            },
            "type": "scattergl"
           }
          ],
          "scattermapbox": [
           {
            "marker": {
             "colorbar": {
              "outlinewidth": 0,
              "ticks": ""
             }
            },
            "type": "scattermapbox"
           }
          ],
          "scatterpolar": [
           {
            "marker": {
             "colorbar": {
              "outlinewidth": 0,
              "ticks": ""
             }
            },
            "type": "scatterpolar"
           }
          ],
          "scatterpolargl": [
           {
            "marker": {
             "colorbar": {
              "outlinewidth": 0,
              "ticks": ""
             }
            },
            "type": "scatterpolargl"
           }
          ],
          "scatterternary": [
           {
            "marker": {
             "colorbar": {
              "outlinewidth": 0,
              "ticks": ""
             }
            },
            "type": "scatterternary"
           }
          ],
          "surface": [
           {
            "colorbar": {
             "outlinewidth": 0,
             "ticks": ""
            },
            "colorscale": [
             [
              0,
              "#0d0887"
             ],
             [
              0.1111111111111111,
              "#46039f"
             ],
             [
              0.2222222222222222,
              "#7201a8"
             ],
             [
              0.3333333333333333,
              "#9c179e"
             ],
             [
              0.4444444444444444,
              "#bd3786"
             ],
             [
              0.5555555555555556,
              "#d8576b"
             ],
             [
              0.6666666666666666,
              "#ed7953"
             ],
             [
              0.7777777777777778,
              "#fb9f3a"
             ],
             [
              0.8888888888888888,
              "#fdca26"
             ],
             [
              1,
              "#f0f921"
             ]
            ],
            "type": "surface"
           }
          ],
          "table": [
           {
            "cells": {
             "fill": {
              "color": "#EBF0F8"
             },
             "line": {
              "color": "white"
             }
            },
            "header": {
             "fill": {
              "color": "#C8D4E3"
             },
             "line": {
              "color": "white"
             }
            },
            "type": "table"
           }
          ]
         },
         "layout": {
          "annotationdefaults": {
           "arrowcolor": "#2a3f5f",
           "arrowhead": 0,
           "arrowwidth": 1
          },
          "coloraxis": {
           "colorbar": {
            "outlinewidth": 0,
            "ticks": ""
           }
          },
          "colorscale": {
           "diverging": [
            [
             0,
             "#8e0152"
            ],
            [
             0.1,
             "#c51b7d"
            ],
            [
             0.2,
             "#de77ae"
            ],
            [
             0.3,
             "#f1b6da"
            ],
            [
             0.4,
             "#fde0ef"
            ],
            [
             0.5,
             "#f7f7f7"
            ],
            [
             0.6,
             "#e6f5d0"
            ],
            [
             0.7,
             "#b8e186"
            ],
            [
             0.8,
             "#7fbc41"
            ],
            [
             0.9,
             "#4d9221"
            ],
            [
             1,
             "#276419"
            ]
           ],
           "sequential": [
            [
             0,
             "#0d0887"
            ],
            [
             0.1111111111111111,
             "#46039f"
            ],
            [
             0.2222222222222222,
             "#7201a8"
            ],
            [
             0.3333333333333333,
             "#9c179e"
            ],
            [
             0.4444444444444444,
             "#bd3786"
            ],
            [
             0.5555555555555556,
             "#d8576b"
            ],
            [
             0.6666666666666666,
             "#ed7953"
            ],
            [
             0.7777777777777778,
             "#fb9f3a"
            ],
            [
             0.8888888888888888,
             "#fdca26"
            ],
            [
             1,
             "#f0f921"
            ]
           ],
           "sequentialminus": [
            [
             0,
             "#0d0887"
            ],
            [
             0.1111111111111111,
             "#46039f"
            ],
            [
             0.2222222222222222,
             "#7201a8"
            ],
            [
             0.3333333333333333,
             "#9c179e"
            ],
            [
             0.4444444444444444,
             "#bd3786"
            ],
            [
             0.5555555555555556,
             "#d8576b"
            ],
            [
             0.6666666666666666,
             "#ed7953"
            ],
            [
             0.7777777777777778,
             "#fb9f3a"
            ],
            [
             0.8888888888888888,
             "#fdca26"
            ],
            [
             1,
             "#f0f921"
            ]
           ]
          },
          "colorway": [
           "#636efa",
           "#EF553B",
           "#00cc96",
           "#ab63fa",
           "#FFA15A",
           "#19d3f3",
           "#FF6692",
           "#B6E880",
           "#FF97FF",
           "#FECB52"
          ],
          "font": {
           "color": "#2a3f5f"
          },
          "geo": {
           "bgcolor": "white",
           "lakecolor": "white",
           "landcolor": "#E5ECF6",
           "showlakes": true,
           "showland": true,
           "subunitcolor": "white"
          },
          "hoverlabel": {
           "align": "left"
          },
          "hovermode": "closest",
          "mapbox": {
           "style": "light"
          },
          "paper_bgcolor": "white",
          "plot_bgcolor": "#E5ECF6",
          "polar": {
           "angularaxis": {
            "gridcolor": "white",
            "linecolor": "white",
            "ticks": ""
           },
           "bgcolor": "#E5ECF6",
           "radialaxis": {
            "gridcolor": "white",
            "linecolor": "white",
            "ticks": ""
           }
          },
          "scene": {
           "xaxis": {
            "backgroundcolor": "#E5ECF6",
            "gridcolor": "white",
            "gridwidth": 2,
            "linecolor": "white",
            "showbackground": true,
            "ticks": "",
            "zerolinecolor": "white"
           },
           "yaxis": {
            "backgroundcolor": "#E5ECF6",
            "gridcolor": "white",
            "gridwidth": 2,
            "linecolor": "white",
            "showbackground": true,
            "ticks": "",
            "zerolinecolor": "white"
           },
           "zaxis": {
            "backgroundcolor": "#E5ECF6",
            "gridcolor": "white",
            "gridwidth": 2,
            "linecolor": "white",
            "showbackground": true,
            "ticks": "",
            "zerolinecolor": "white"
           }
          },
          "shapedefaults": {
           "line": {
            "color": "#2a3f5f"
           }
          },
          "ternary": {
           "aaxis": {
            "gridcolor": "white",
            "linecolor": "white",
            "ticks": ""
           },
           "baxis": {
            "gridcolor": "white",
            "linecolor": "white",
            "ticks": ""
           },
           "bgcolor": "#E5ECF6",
           "caxis": {
            "gridcolor": "white",
            "linecolor": "white",
            "ticks": ""
           }
          },
          "title": {
           "x": 0.05
          },
          "xaxis": {
           "automargin": true,
           "gridcolor": "white",
           "linecolor": "white",
           "ticks": "",
           "title": {
            "standoff": 15
           },
           "zerolinecolor": "white",
           "zerolinewidth": 2
          },
          "yaxis": {
           "automargin": true,
           "gridcolor": "white",
           "linecolor": "white",
           "ticks": "",
           "title": {
            "standoff": 15
           },
           "zerolinecolor": "white",
           "zerolinewidth": 2
          }
         }
        },
        "width": 800
       }
      },
      "text/html": [
       "<div>                            <div id=\"b47680cc-f8cc-41cf-850d-1fceb01ac713\" class=\"plotly-graph-div\" style=\"height:525px; width:800px;\"></div>            <script type=\"text/javascript\">                require([\"plotly\"], function(Plotly) {                    window.PLOTLYENV=window.PLOTLYENV || {};                                    if (document.getElementById(\"b47680cc-f8cc-41cf-850d-1fceb01ac713\")) {                    Plotly.newPlot(                        \"b47680cc-f8cc-41cf-850d-1fceb01ac713\",                        [{\"customdata\": [[\"Scrypt\"], [\"Scrypt\"], [\"X13\"], [\"X11\"], [\"SHA-512\"], [\"SHA-256\"], [\"SHA-256\"], [\"X15\"], [\"Scrypt\"], [\"Scrypt\"], [\"Scrypt\"], [\"Scrypt\"], [\"Scrypt\"], [\"Groestl\"], [\"PoS\"], [\"Scrypt\"], [\"Scrypt\"], [\"X11\"], [\"X11\"], [\"SHA3\"], [\"Scrypt\"], [\"SHA-256\"], [\"Scrypt\"], [\"X13\"], [\"X13\"], [\"NeoScrypt\"], [\"Scrypt\"], [\"Scrypt\"], [\"Scrypt\"], [\"X11\"], [\"X11\"], [\"Multiple\"], [\"PHI1612\"], [\"X11\"], [\"Scrypt\"], [\"Scrypt\"], [\"Scrypt\"], [\"X11\"], [\"Multiple\"], [\"X13\"], [\"Scrypt\"], [\"Counterparty\"], [\"SHA-256\"], [\"Groestl\"], [\"Scrypt\"], [\"X13\"], [\"Scrypt\"], [\"Scrypt\"], [\"X13\"], [\"X11\"], [\"Scrypt\"], [\"X11\"], [\"SHA3\"], [\"QUAIT\"], [\"X11\"], [\"Scrypt\"], [\"X13\"], [\"SHA-256\"], [\"X15\"], [\"BLAKE256\"], [\"SHA-256\"], [\"X11\"], [\"SHA-256\"], [\"NIST5\"], [\"Scrypt\"], [\"Scrypt\"], [\"X11\"], [\"Scrypt\"], [\"SHA-256\"], [\"Scrypt\"], [\"PoS\"], [\"X11\"], [\"SHA-256\"], [\"SHA-256\"], [\"NIST5\"], [\"X11\"], [\"POS 3.0\"], [\"Scrypt\"], [\"Scrypt\"], [\"Scrypt\"], [\"X13\"], [\"X11\"], [\"X11\"], [\"Scrypt\"], [\"SHA-256\"], [\"X11\"], [\"Scrypt\"], [\"Scrypt\"], [\"Scrypt\"], [\"Scrypt\"], [\"SHA-256D\"], [\"PoS\"], [\"Scrypt\"], [\"X11\"], [\"PoS\"], [\"X13\"], [\"X14\"], [\"PoS\"], [\"SHA-256D\"], [\"DPoS\"], [\"X11\"], [\"X13\"], [\"X11\"], [\"PoS\"], [\"Scrypt\"], [\"Scrypt\"], [\"PoS\"], [\"X11\"], [\"SHA-256\"], [\"Scrypt\"], [\"X11\"], [\"Scrypt\"], [\"Scrypt\"], [\"X11\"], [\"Scrypt\"], [\"Scrypt\"], [\"Scrypt\"], [\"Scrypt\"], [\"Quark\"], [\"QuBit\"], [\"Scrypt\"], [\"SHA-256\"], [\"X11\"], [\"Scrypt\"], [\"Scrypt\"], [\"Scrypt\"], [\"Scrypt\"], [\"X13\"], [\"Scrypt\"], [\"Scrypt\"], [\"X11\"], [\"Blake2S\"], [\"X11\"], [\"PoS\"], [\"X11\"], [\"PoS\"], [\"X11\"], [\"Scrypt\"], [\"Scrypt\"], [\"Scrypt\"], [\"SHA-256\"], [\"X11\"], [\"Scrypt\"], [\"PoS\"], [\"Scrypt\"], [\"X15\"], [\"SHA-256\"], [\"POS 3.0\"], [\"536\"], [\"NIST5\"], [\"NIST5\"], [\"Skein\"], [\"X13\"], [\"Scrypt\"], [\"X13\"], [\"SkunkHash v2 Raptor\"], [\"Skein\"], [\"X11\"], [\"Scrypt\"], [\"PoS\"], [\"Scrypt\"], [\"Scrypt\"], [\"SHA-512\"], [\"Ouroboros\"], [\"X11\"], [\"NeoScrypt\"], [\"Scrypt\"], [\"Lyra2REv2\"], [\"Scrypt\"], [\"SHA-256\"], [\"NIST5\"], [\"PHI1612\"], [\"Scrypt\"], [\"Quark\"], [\"POS 2.0\"], [\"Scrypt\"], [\"SHA-256\"], [\"X11\"], [\"DPoS\"], [\"NIST5\"], [\"X13\"], [\"Scrypt\"], [\"NIST5\"], [\"Quark\"], [\"Scrypt\"], [\"Scrypt\"], [\"X11\"], [\"Quark\"], [\"Scrypt\"], [\"Scrypt\"], [\"X11\"], [\"POS 3.0\"], [\"Ethash\"], [\"Scrypt\"], [\"Scrypt\"], [\"X13\"], [\"SHA-256 + Hive\"], [\"C11\"], [\"X11\"], [\"XEVAN\"], [\"Scrypt\"], [\"VBFT\"], [\"NIST5\"], [\"Scrypt\"], [\"Scrypt\"], [\"Scrypt\"], [\"Green Protocol\"], [\"PoS\"], [\"Scrypt\"], [\"Semux BFT consensus\"], [\"Quark\"], [\"PoS\"], [\"X16R\"], [\"Scrypt\"], [\"XEVAN\"], [\"Scrypt\"], [\"Scrypt\"], [\"Scrypt\"], [\"SHA-256D\"], [\"Scrypt\"], [\"X15\"], [\"Scrypt\"], [\"Quark\"], [\"SHA-256\"], [\"DPoS\"], [\"X16R\"], [\"Quark\"], [\"Quark\"], [\"Scrypt\"], [\"Lyra2REv2\"], [\"Quark\"], [\"Scrypt\"], [\"X11\"], [\"X11\"], [\"Scrypt\"], [\"PoS\"], [\"Keccak\"], [\"X11\"], [\"Scrypt\"], [\"SHA-512\"], [\"XEVAN\"], [\"XEVAN\"], [\"X11\"], [\"Quark\"], [\"Scrypt\"], [\"Quark\"], [\"Quark\"], [\"Scrypt\"], [\"X11\"], [\"Scrypt\"], [\"XEVAN\"], [\"SHA-256D\"], [\"X11\"], [\"X11\"], [\"DPoS\"], [\"Scrypt\"], [\"X11\"], [\"Scrypt\"], [\"Scrypt\"], [\"SHA-256\"], [\"Scrypt\"], [\"X11\"], [\"Scrypt\"], [\"SHA-256\"], [\"X11\"], [\"Scrypt\"], [\"Scrypt\"], [\"X11\"], [\"Scrypt\"], [\"PoS\"], [\"X11\"], [\"SHA-256\"], [\"DPoS\"], [\"Scrypt\"], [\"Scrypt\"], [\"NeoScrypt\"], [\"X13\"], [\"DPoS\"], [\"DPoS\"], [\"SHA-256\"], [\"Leased POS\"], [\"PoS\"], [\"PoS\"], [\"SHA-256\"], [\"Scrypt\"], [\"Scrypt\"]], \"hovertemplate\": \"<b>%{hovertext}</b><br><br>Class=%{marker.color}<br>PC 1=%{x}<br>PC 2=%{y}<br>PC 3=%{z}<br>Algorithm=%{customdata[0]}<extra></extra>\", \"hovertext\": [\"42 Coin\", \"404Coin\", \"EliteCoin\", \"Dash\", \"Bitshares\", \"BitcoinDark\", \"PayCoin\", \"KoboCoin\", \"Aurora Coin\", \"BlueCoin\", \"EnergyCoin\", \"BitBar\", \"CryptoBullion\", \"Diamond\", \"Exclusive Coin\", \"FlutterCoin\", \"HoboNickels\", \"HyperStake\", \"IOCoin\", \"MaxCoin\", \"MintCoin\", \"MazaCoin\", \"Nautilus Coin\", \"NavCoin\", \"OpalCoin\", \"Orbitcoin\", \"PotCoin\", \"PhoenixCoin\", \"Reddcoin\", \"SuperCoin\", \"SyncCoin\", \"TeslaCoin\", \"TittieCoin\", \"TorCoin\", \"UnitaryStatus Dollar\", \"UltraCoin\", \"VeriCoin\", \"X11 Coin\", \"Crypti\", \"StealthCoin\", \"ZCC Coin\", \"StorjCoin\", \"Neutron\", \"FairCoin\", \"RubyCoin\", \"Kore\", \"Dnotes\", \"8BIT Coin\", \"Sativa Coin\", \"Ucoin\", \"Vtorrent\", \"IslaCoin\", \"Nexus\", \"Droidz\", \"Squall Coin\", \"Diggits\", \"Paycon\", \"Emercoin\", \"EverGreenCoin\", \"Decred\", \"EDRCoin\", \"Hitcoin\", \"DubaiCoin\", \"PWR Coin\", \"BillaryCoin\", \"GPU Coin\", \"EuropeCoin\", \"ZeitCoin\", \"SwingCoin\", \"SafeExchangeCoin\", \"Nebuchadnezzar\", \"Ratecoin\", \"Revenu\", \"Clockcoin\", \"VIP Tokens\", \"BitSend\", \"Let it Ride\", \"PutinCoin\", \"iBankCoin\", \"Frankywillcoin\", \"MudraCoin\", \"Lutetium Coin\", \"GoldBlocks\", \"CarterCoin\", \"BitTokens\", \"MustangCoin\", \"ZoneCoin\", \"RootCoin\", \"BitCurrency\", \"Swiscoin\", \"BuzzCoin\", \"Opair\", \"PesoBit\", \"Halloween Coin\", \"CoffeeCoin\", \"RoyalCoin\", \"GanjaCoin V2\", \"TeamUP\", \"LanaCoin\", \"ARK\", \"InsaneCoin\", \"EmberCoin\", \"XenixCoin\", \"FreeCoin\", \"PLNCoin\", \"AquariusCoin\", \"Creatio\", \"Eternity\", \"Eurocoin\", \"BitcoinFast\", \"Stakenet\", \"BitConnect Coin\", \"MoneyCoin\", \"Enigma\", \"Russiacoin\", \"PandaCoin\", \"GameUnits\", \"GAKHcoin\", \"Allsafe\", \"LiteCreed\", \"Klingon Empire Darsek\", \"Internet of People\", \"KushCoin\", \"Printerium\", \"Impeach\", \"Zilbercoin\", \"FirstCoin\", \"FindCoin\", \"OpenChat\", \"RenosCoin\", \"VirtacoinPlus\", \"TajCoin\", \"Impact\", \"Atmos\", \"HappyCoin\", \"MacronCoin\", \"Condensate\", \"Independent Money System\", \"ArgusCoin\", \"LomoCoin\", \"ProCurrency\", \"GoldReserve\", \"GrowthCoin\", \"Phreak\", \"Degas Coin\", \"HTML5 Coin\", \"Ultimate Secure Cash\", \"QTUM\", \"Espers\", \"Denarius\", \"Virta Unique Coin\", \"Bitcoin Planet\", \"BritCoin\", \"Linda\", \"DeepOnion\", \"Signatum\", \"Cream\", \"Monoeci\", \"Draftcoin\", \"Stakecoin\", \"CoinonatX\", \"Ethereum Dark\", \"Obsidian\", \"Cardano\", \"Regalcoin\", \"TrezarCoin\", \"TerraNovaCoin\", \"Rupee\", \"WomenCoin\", \"Theresa May Coin\", \"NamoCoin\", \"LUXCoin\", \"Xios\", \"Bitcloud 2.0\", \"KekCoin\", \"BlackholeCoin\", \"Infinity Economics\", \"Magnet\", \"Lamden Tau\", \"Electra\", \"Bitcoin Diamond\", \"Cash & Back Coin\", \"Bulwark\", \"Kalkulus\", \"GermanCoin\", \"LiteCoin Ultra\", \"PhantomX\", \"Digiwage\", \"Trollcoin\", \"Litecoin Plus\", \"Monkey Project\", \"TokenPay\", \"1717 Masonic Commemorative Token\", \"My Big Coin\", \"Unified Society USDEX\", \"Tokyo Coin\", \"LitecoinCash\", \"Stipend\", \"Pushi\", \"Ellerium\", \"Velox\", \"Ontology\", \"Bitspace\", \"Briacoin\", \"Ignition\", \"MedicCoin\", \"Bitcoin Green\", \"Deviant Coin\", \"Abjcoin\", \"Semux\", \"Carebit\", \"Zealium\", \"Proton\", \"iDealCash\", \"Bitcoin Incognito\", \"HollyWoodCoin\", \"Swisscoin\", \"Xt3ch\", \"TheVig\", \"EmaratCoin\", \"Dekado\", \"Lynx\", \"Poseidon Quark\", \"BitcoinWSpectrum\", \"Muse\", \"Trivechain\", \"Dystem\", \"Giant\", \"Peony Coin\", \"Absolute Coin\", \"Vitae\", \"TPCash\", \"ARENON\", \"EUNO\", \"MMOCoin\", \"Ketan\", \"XDNA\", \"PAXEX\", \"ThunderStake\", \"Kcash\", \"Bettex coin\", \"BitMoney\", \"Junson Ming Chan Coin\", \"HerbCoin\", \"Oduwa\", \"Galilel\", \"Crypto Sports\", \"Credit\", \"Dash Platinum\", \"Nasdacoin\", \"Beetle Coin\", \"Titan Coin\", \"Award\", \"Insane Coin\", \"ALAX\", \"LiteDoge\", \"TruckCoin\", \"OrangeCoin\", \"BitstarCoin\", \"NeosCoin\", \"HyperCoin\", \"PinkCoin\", \"AudioCoin\", \"IncaKoin\", \"Piggy Coin\", \"Genstake\", \"XiaoMiCoin\", \"CapriCoin\", \" ClubCoin\", \"Radium\", \"Creditbit \", \"OKCash\", \"Lisk\", \"HiCoin\", \"WhiteCoin\", \"FriendshipCoin\", \"Triangles Coin\", \"EOS\", \"Oxycoin\", \"TigerCash\", \"Waves\", \"Particl\", \"Nxt\", \"ZEPHYR\", \"Gapcoin\", \"BitcoinPlus\"], \"legendgroup\": \"0\", \"marker\": {\"color\": [0, 0, 0, 0, 0, 0, 0, 0, 0, 0, 0, 0, 0, 0, 0, 0, 0, 0, 0, 0, 0, 0, 0, 0, 0, 0, 0, 0, 0, 0, 0, 0, 0, 0, 0, 0, 0, 0, 0, 0, 0, 0, 0, 0, 0, 0, 0, 0, 0, 0, 0, 0, 0, 0, 0, 0, 0, 0, 0, 0, 0, 0, 0, 0, 0, 0, 0, 0, 0, 0, 0, 0, 0, 0, 0, 0, 0, 0, 0, 0, 0, 0, 0, 0, 0, 0, 0, 0, 0, 0, 0, 0, 0, 0, 0, 0, 0, 0, 0, 0, 0, 0, 0, 0, 0, 0, 0, 0, 0, 0, 0, 0, 0, 0, 0, 0, 0, 0, 0, 0, 0, 0, 0, 0, 0, 0, 0, 0, 0, 0, 0, 0, 0, 0, 0, 0, 0, 0, 0, 0, 0, 0, 0, 0, 0, 0, 0, 0, 0, 0, 0, 0, 0, 0, 0, 0, 0, 0, 0, 0, 0, 0, 0, 0, 0, 0, 0, 0, 0, 0, 0, 0, 0, 0, 0, 0, 0, 0, 0, 0, 0, 0, 0, 0, 0, 0, 0, 0, 0, 0, 0, 0, 0, 0, 0, 0, 0, 0, 0, 0, 0, 0, 0, 0, 0, 0, 0, 0, 0, 0, 0, 0, 0, 0, 0, 0, 0, 0, 0, 0, 0, 0, 0, 0, 0, 0, 0, 0, 0, 0, 0, 0, 0, 0, 0, 0, 0, 0, 0, 0, 0, 0, 0, 0, 0, 0, 0, 0, 0, 0, 0, 0, 0, 0, 0, 0, 0, 0, 0, 0, 0, 0, 0, 0, 0, 0, 0, 0, 0, 0, 0, 0, 0, 0, 0, 0, 0, 0, 0, 0, 0, 0, 0, 0, 0, 0], \"coloraxis\": \"coloraxis\", \"symbol\": \"circle\"}, \"mode\": \"markers\", \"name\": \"0\", \"scene\": \"scene\", \"showlegend\": true, \"type\": \"scatter3d\", \"x\": [-0.3156585534374736, -0.2989407911778017, 2.3498778035012338, -0.38068484023481985, -0.3507050336657308, -0.2920958018018878, -0.2682999696459245, -0.20610317859617922, -0.3153169935398034, -0.30786999996042763, -0.31415014182312057, -0.31565447586771533, -0.3156387045793775, -0.3325706458308285, -0.3587565555021284, -0.30102418310852036, -0.3137108323018575, -0.3366457980870516, -0.38057918733884194, -0.3341562876632639, -0.030921256137890707, -0.2552792281837033, -0.2916129710726517, -0.24279717751482818, -0.24342144860422854, -0.3432425448546744, -0.30994170259338005, -0.3140549471495345, 0.043669897914420795, -0.356598314003335, -0.3809520025253821, -0.27394371702101, -0.29093346565287365, -0.38086334398496025, -0.29080768724265477, -0.3143315131990695, -0.2700287938065635, -0.38082770470667526, -0.2744130595835515, -0.24320158575265072, -0.30673164842156037, -0.34226212544862133, -0.2913048792784382, -0.3319902940369325, -0.2915931737550585, -0.24349707877346644, -0.2862292229848722, -0.31564056254608236, -0.24344910682796844, -0.357044622118922, -0.3153740531587459, -0.38093347020559326, -0.2652299266481889, -0.41033534500433155, -0.34252123675580814, -0.2899893601729886, -0.24296913736519718, -0.28462733826577646, -0.20855288910810946, -0.0437625444833857, -0.29206661935768946, -0.0573184633815528, -0.2921305310114379, -0.22946348832896868, -0.31524951038050364, -0.2898579069021752, -0.3780930861460725, 0.8654217628234836, -0.2919299155742149, -0.013746641811147719, -0.35843876893264776, -0.37876927816466105, -0.2906691986893293, -0.28832954469140715, -0.3512242781401244, -0.37966439720538225, -0.37385036283771406, -0.29146636939537907, -0.31528773309006375, -0.3137215333733486, -0.218391174297129, -0.3444936236984712, -0.3804056060982561, -0.31448929798209224, -0.2921114143400399, -0.38092262439299673, -0.31547753440093446, -0.3156347765322485, -0.2898475671622842, -0.2284723100351011, 0.07890501874320217, -0.35739236328011864, -0.31524765473877886, -0.3670383649895, -0.3567187954868946, -0.21982662293863575, -0.3102939355843, -0.3564667665655876, -0.23666982744813836, 3.6472092473123094, -0.380513802943263, 0.8924699417440356, -0.38087738432096857, -0.3578576626693468, -0.31517494947856634, -0.31532978519168525, -0.35843876893264776, -0.38045085177758464, -0.29197363271973226, -0.31517569064681455, -0.4198769176428318, -0.3153235723458575, -0.3108966616554316, -0.3809064736760338, -0.31453159950485216, 0.35380704916973066, -0.31552351663639777, -0.3155943267258296, -0.3583799828454028, -0.34301177699584307, -0.3118083288220197, -0.29208774987250236, -0.38081612450983354, -0.3153713932603497, -0.31549876609019845, -0.29149934549249473, -0.32556414659302285, -0.21959370145681284, -0.2962883454743159, -0.2912396289746423, -0.38007938972247673, -0.3805584269880831, -0.37881357427355267, -0.35667946492835706, -0.3799769365427783, -0.35106066711959705, -0.37590426361344037, -0.3154418650595029, -0.3154410485383744, -0.3085394742301686, 0.266167858041823, -0.38045703196061664, -0.2740829268918374, -0.3584731716349824, -0.3146498944870786, 0.9296279054212049, -0.26698594405828524, -0.37262463104891813, 0.6090697107771623, -0.3527650576170888, -0.35126226545318234, -0.3833558992827458, -0.24313314704335645, 0.15085506195364576, -0.2432041596415589, -0.3494388860655208, -0.38285914401367727, -0.3807303346225935, -0.29157381295338614, -0.35833898652184004, -0.31507583836114067, -0.3155771993741568, -0.40896336919295023, 0.6546254896298229, -0.3806709572464703, -0.3382250101701295, -0.3155326615366706, -0.3136092354571734, 0.45614545714088345, -0.2904284991585134, -0.33748080749539444, -0.35038211730119484, -0.31548283299267116, -0.38054873970627234, -0.40897537731925165, -0.31535280603728805, -0.09420403257766641, -0.3794595490560438, 3.6520815435270673, 0.20859691853272214, -0.23986388048859433, -0.31280456108422205, -0.3287956261308613, -0.35826550596146145, 0.10019053830330835, -0.31448841276092265, -0.38004266452605295, -0.35742742279252643, -0.30201258005571974, -0.31559940431314104, -0.3570164580634074, -0.37413321795450855, -0.28575312491761456, -0.24616073728628807, -0.3111297784025472, -0.21136185654964781, -0.6326502248517234, -0.3717734823640977, -0.38074762866559153, -0.30423002874396365, -0.29073095684571193, -0.36152924339320636, -0.35236266798127236, -0.31562685019650866, -0.31560849953434067, -0.2850935689377267, -0.2985231710691373, -0.35793208642991914, -0.3153240578485945, 3.78728470696163, -0.3792123548845946, -0.358121384756792, -0.35827081980473763, -0.2620152439431129, -0.2659521558551287, -0.2912670049882969, -0.11808242472864658, -0.2915198883153711, -0.3022052824412915, -0.31479631766837196, -0.18416225300115802, 2.223500646077881, -0.3539588838003046, -0.2671141469358607, 0.9742080323008185, -0.381337328437606, -0.35837941347995067, -0.38223857384192705, -0.1718469893362043, -0.33726944239036877, -0.35709466164534115, -0.3084793670608132, -0.35659244719518784, -0.38021920688441635, -0.2887561242228767, -0.3572181282631835, -0.34576223039986004, -0.3564533412059021, -0.1746332992124895, -0.5132531421925183, -0.28049092925150676, 0.474989196690512, -0.1462733861582772, -0.3815308394395732, -0.31532805004534775, -0.3819884882846273, -0.3584967818673521, 0.5942288714141166, -0.35707095370035485, -0.3148092222494979, -0.29866703325859584, -0.2567723000469119, -0.3777755746967453, -0.3804472074581445, 3.6643640763718612, 0.12106228627129335, -0.37797873082257105, -0.31419260821462963, -0.3150204212650394, -0.2683327024263606, -0.3155405021537815, -0.37204704968298946, -0.2289514736002582, -0.07102479659264464, -0.3677810376195461, -0.3148164245370638, -0.307857562588583, -0.37700435578621183, -0.31325036202142464, -0.35871531855306915, -0.38806953326692245, -0.2906059010010626, 3.6476023790903183, -0.09815844676380579, -0.31043577177072573, -0.34286713066597657, -0.24360464495951922, 3.657502944486841, 3.6587511961262766, -0.24916570266871932, -0.3890101597260775, -0.3586509730836904, -0.3286828782682711, 2.4413419763655897, -0.3136973027272413, -0.29191769516224314], \"y\": [0.7936888064169189, 0.7932044628193486, 1.2785580759653143, 1.0620606072426437, 1.7878117785667058, 0.7201220688461997, 0.7306161799536899, 1.4700811946471584, 0.793674649682599, 0.7936421842665906, 0.7936797771147853, 0.7936884208817202, 0.7936879653177376, 0.664820040068022, 1.7214134315811196, 0.38007784080631274, 0.7935904696726128, 1.0724425716875619, 1.0620599748057726, 1.6480874611429042, 0.8026140633219483, 0.7181701529710882, 0.8041628735166323, 1.5209995903755649, 1.5210033272542545, 0.4076183408447881, 0.7933512133581782, 0.7936084204588442, 0.7915378709717544, 1.0725620071905073, 1.062078096669548, 0.3299668922777757, 1.5571356112990025, 1.0620703435378958, 0.7923843462687936, 0.7936086313506324, 0.2679442370324696, 1.062073380616925, 0.33004193320717246, 1.5210020111580607, 0.7929130556002592, 1.6572751940623514, 0.7200841079267746, 0.6648197298272168, 0.8041744420588955, 1.520995112201368, 0.8037811762644135, 0.7936886987540109, 1.5209962696709383, 1.0725502324949572, 0.7936726571420815, 1.062077986457635, 1.790304661188697, 1.620759065043181, 0.9260640217725116, 0.8040926102006074, 1.5209645039995765, 0.7193709391302834, 1.4703296732337847, 0.6141530009038508, 0.720121894160465, 1.0409633809944503, 0.7201305833516501, 1.344091151706373, 0.7936560207114259, 0.8040043852506136, 1.0617836151839462, 0.7257394292092013, 0.7201080741922234, -0.050220861088175583, 1.7213970830246401, 1.0620108580438372, 0.7199685426386075, 0.719736199881833, 1.3447550019180392, 1.061969988086314, 1.6658425772827081, 0.7920993633281841, 0.7936545641117926, 0.7936049800192628, 1.5313387241173764, 1.0720149880382408, 1.062038710944462, 0.7936167989933957, 0.7201228846171602, 1.0620757545912147, 0.7936725542649538, 0.7936886641190066, 0.8041639928803442, 0.18917845562643879, 1.5641701736805427, 1.72135181427043, 0.7936863468129437, 1.060911338773966, 1.721372341069278, 1.531489973720333, 1.397624371108228, 1.7211823082669584, 1.5750837981115648, 2.7366087677123927, 1.0620538048995547, 1.51358992870893, 1.0620748674144156, 1.7213719350947807, 0.7936580735990285, 0.7936565012354098, 1.7213970830246401, 1.062031758639428, 0.720122782172667, 0.79366207965803, 0.8625263580336457, 0.793666576448517, 0.7931903207868565, 1.0620742132842138, 0.7935780472262954, 0.7768250884235999, 0.7936786080300918, 0.7936860269444846, 1.5223702890152704, 0.5377464896468285, 0.7933046017980127, 0.720122742961963, 1.0620705274978994, 0.7936726412199637, 0.7936720071976047, 0.8041341531061472, 0.37215474278478883, 1.531479893820223, 0.7928505421235049, 0.8041474590395837, 1.062000642492008, 1.6679463467380844, 1.0619858421919695, 1.7213213340548998, 1.0620000292085956, 1.7210784382890365, 1.0616867244374861, 0.7936721875306599, 0.7936668462707851, 0.7929238772222336, 0.6732523032089671, 1.0620462419240977, 0.8026249969296, 1.721390065813685, 0.7936069256043726, 1.3985272273207559, 0.7304728194242064, 1.6657872061532004, 1.3877400795634747, 1.3448220101648127, 1.3447335598743442, 1.5536965850439324, 1.520979932049569, 0.7547805365271104, 1.5209883761302192, 1.5811172188670621, 1.5536936114732982, 1.0620699032508742, 0.8041617536376375, 1.7213664374701347, 0.7936504652026494, 0.7936852857419444, 1.790695244963376, 1.6007545760760946, 1.0620569125667123, 0.4073021032690953, 0.7936766884452641, 0.7808390414698057, 0.7710109348764189, 0.7200557478624009, 1.3438709645753522, 1.5484797639965002, 0.7936725859822555, 1.5117396720597707, 1.889976713855951, 0.7936762944609536, 0.7230822422727748, 1.0619651502953904, 2.736308734269327, 1.3197994924995549, 1.5208303456505694, 0.7935200364390089, 1.3552954235098824, 1.5223659921855752, 0.7550838137122561, 0.793573454823951, 1.0620365383808912, 1.5222887439796653, 0.7929570387687535, 0.7936855631233245, 1.0725493415907756, 1.6658504101231133, 0.10506424038953202, 0.06902594672107, 0.793494120292285, 1.5308632580067763, 9.260121603057756, 0.8594726495721885, 1.0620588161498563, 1.471303972441626, 0.8040797138405174, 1.7551342574937148, 1.3447907088852944, 0.7936864497285372, 0.7936848952526927, 0.8037743782539338, 1.4262499160815445, 1.7213449326431216, 0.7936651347257127, 2.864944421645261, 1.5117316724774639, 1.7213518442965343, 0.8556193823317267, 0.789668038609396, 1.335318982302927, 0.8041537094396378, 0.7851385103002044, 0.8041422215348157, 1.5808255537513811, 0.7936229706963304, 1.4807673489858293, 0.18741106127159934, 1.52188515466038, 0.7305456897202542, 2.2156320340756883, 0.8451006470629367, 1.5223659517200034, 1.511890529644819, 0.7912649740364578, 0.7703303945358158, 1.5223011983659038, 0.7929235174214929, 1.0725222447738907, 1.0620375951611718, 0.8039696577447231, 1.721252536528682, 0.7087364523226323, 1.0724889079343416, 0.77984296993765, 2.1317526248797884, 1.4817987843073623, 1.7178536533813429, 1.0713030048850067, 1.5118510088143784, 0.7936716594535292, 1.5118790032996674, 1.5223721655453577, 0.7342131068061115, 1.072550606809817, 0.7936230479429864, 1.4709528540385686, 1.5770142514120835, 1.0617557112421923, 1.0620534062598395, 2.7358740539317763, 0.7657935933286293, 1.0620602994257962, 0.7935355684163169, 0.793645796614361, 0.7306102362183673, 0.793688099793793, 1.0616636352046454, 0.7855854766442513, 0.7186773918227283, 1.061276941657102, 0.7936729307568872, 0.7933531840131628, 1.0619042254115851, 0.7935588207231046, 1.7214066839066966, 0.7919529897786032, 0.7200531982149989, 2.7365811923636993, 0.7957870170835006, 0.7934408485909458, 0.4075753564218991, 1.5210043371875337, 2.736637439087454, 2.7366299670692387, 0.729788356900998, 4.639227910254751, 1.7214065630015327, 1.9092832930474437, 1.2500152111239164, 0.7934964877986225, 0.8041756623253447], \"z\": [-0.4510701042870325, -0.4513533144248502, -0.4619379498985668, -0.43678636077381156, -0.1099469579007664, -0.2640879936050721, -0.06530387936515049, -0.5245396206841891, -0.45107504870462883, -0.45123741637394904, -0.45110250767663457, -0.4510701205356345, -0.4510703879802681, -0.31862070770219264, -0.22960412461664906, -0.41464311604340026, -0.4510948206179853, -0.23843889072004631, -0.43678863038728105, -0.3949054861190761, -0.257890124502061, -0.26453679484105846, -0.2522876905531604, -0.4510737346185693, -0.45106032415726394, -0.2379815747528035, -0.4511329777407186, -0.45109056785387563, -0.45878912312090586, -0.23801027493567986, -0.4367837609457778, 0.05877097234901392, -0.23967219859505362, -0.43678423861490406, -0.45137562256103086, -0.4510843413161285, -0.21740705620762088, -0.43678564636847517, 0.05876678448958093, -0.45106504720517304, -0.45111916841976096, -0.18067078020222727, -0.26409841975563125, -0.3186337997321705, -0.25229042474987934, -0.4510569870643329, -0.25233430112905275, -0.4510704907695994, -0.4510583029912269, -0.23799783340216174, -0.4510733618329689, -0.43678415919590685, -0.11259207732517602, -0.5534974716135328, -0.42449323468822403, -0.25231060736021144, -0.45106290552371536, -0.26410886723546206, -0.5245331893670709, -0.4188584205593017, -0.26408862049625037, -0.43994725688165826, -0.26408888862995916, -0.46295277336513496, -0.45107289779569076, -0.2522961567853509, -0.4367903782484723, -0.26301770157636406, -0.26408898850628715, 0.026639283488833505, -0.2296080972057478, -0.43681994728399615, -0.26408999577982856, -0.26409712055700946, -0.4603242903198706, -0.4367915856092999, -0.16793426461645075, -0.45130439217465795, -0.45107174373263526, -0.4510974447754892, -0.252272831922256, -0.23817655029510607, -0.43678836357331313, -0.4510823788341817, -0.264087800921569, -0.4367839640780369, -0.4510709961687286, -0.45107061506354157, -0.2523279235065323, -0.30047192510610105, -0.5705400163793364, -0.2296228699773105, -0.45107893113314657, -0.4368685982706348, -0.2296421912953503, -0.2522701794987417, -0.4924184401414861, -0.22961036014775926, -0.5655438194645652, -0.590252675605945, -0.43678889334695026, -0.4753400095152442, -0.4367848141445723, -0.22961629935573039, -0.4510749932456053, -0.4510711733489442, -0.2296080972057478, -0.4367859645972245, -0.2640909034193768, -0.45107576789186954, -0.27935009921307663, -0.45107330463698436, -0.45107954793960153, -0.4367840256208005, -0.451073764225334, -0.2615148410307165, -0.451071150002215, -0.4510710108288371, -0.21803994515337302, -0.18172772682837565, -0.45108146312273895, -0.2640883092767239, -0.43678534515917034, -0.45107341897235154, -0.45107040688572453, -0.25228459175089557, -0.23338985132452816, -0.2522734671193522, -0.45134350927496386, -0.2522931068131, -0.43678823619621865, -0.5018844088386353, -0.43681400116176977, -0.2296330056589369, -0.43679043707405096, -0.2297123653715615, -0.436820844670483, -0.45107173214003454, -0.4510706954168544, -0.4510803330828938, -0.06608435567522977, -0.4367886858715112, -0.2523811726510404, -0.22960593115622907, -0.4510767884067988, -0.5361439439149517, -0.06530533838861208, -0.16795110586235554, -0.5813529015899638, -0.46030260775934506, -0.46031919323080284, -0.5586056853908237, -0.4510622363377143, -0.45395656323053407, -0.45106229510833185, -0.16336494332295992, -0.5586163565838795, -0.4367871662075849, -0.25228835680284767, -0.22960430432144074, -0.4510757364102223, -0.451071252576545, -0.10919623096101494, -0.13937049742071794, -0.43678594549634814, -0.23803281765806872, -0.45107056350187835, -0.021462305202697686, -0.4640822924209542, -0.26411267951343215, -0.46046112570831055, -0.4380114340687699, -0.4510708823454862, -0.41683396772216685, -0.15617341287300374, -0.45107456198151585, -0.06776123967705669, -0.43679527260558587, -0.5903038280875871, -0.468082042102203, -0.4511067797185984, -0.45110144578661215, -0.2615183389549861, -0.2180416908129894, -0.4528681985032455, -0.45107383574325055, -0.43679616020844947, -0.21804542416233516, -0.45123481264033716, -0.45107080411503503, -0.237998295714742, -0.1679294013470095, 0.05908581941916465, -0.259103856400469, -0.45113428367952424, -0.2523382131889559, -4.703593660528608, -0.2798227912171011, -0.43678458386048713, -0.6108555701760279, -0.2522912516923748, -0.0826480560736617, -0.46030554373817556, -0.45107035723007877, -0.4510704660316063, -0.25235869701237035, -0.05123142615729779, -0.2296092779322225, -0.451073008803947, -0.6002436383416878, -0.4168626756621055, -0.22960635307933236, -0.08100256579470747, -0.4514915470973597, -0.5985673247323989, -0.2522937211928848, -0.45385883526959453, -0.2522857201738894, -0.5651928499082954, -0.4510766397120391, -0.32575140652550827, -0.2552826988318094, -0.2180443026475861, -0.06531682913795685, -0.3863398664010287, -0.2797983449156684, -0.21803910117365635, -0.4168254723578024, -0.25245398118010953, -0.2202466215814557, -0.2180554265035663, -0.4510816242925662, -0.2380025523670832, -0.4367923677623378, -0.2523142671920971, -0.22960720541490845, -0.3638600893026444, -0.23799911903262372, -0.45153094726293763, 0.03810426490204646, -0.41207030856775645, -0.8463365738762573, -0.24252843115710043, -0.4168337049211155, -0.4510742073604694, -0.4168288632294363, -0.21803766870505892, -0.45994202265292605, -0.23799731056315784, -0.4510763624985196, -0.6109122844993148, -0.5654695930138871, -0.4367920616989462, -0.4367903239372684, -0.5904963280035143, -0.45545708780567634, -0.4368476322909074, -0.4510730550655796, -0.45107607007022416, -0.06530196324122192, -0.45107264024607197, -0.4369037045354347, -0.45143435895619316, -0.2688130209187654, -0.43692399522436465, -0.45108605420360837, -0.45118060283719214, -0.43683888164099394, -0.4510990042731065, -0.22960372614412544, -0.3196121245913054, -0.26410815509513824, -0.5902561378627951, -0.2550174704947541, -0.4511394884638604, -0.23798159120615342, -0.45105637164716417, -0.5904916403842075, -0.5905184550655133, -0.06557399968435845, 6.294048166924557, -0.22960516060894978, -0.379408913989632, -0.26973543472978284, -0.45107656002550467, -0.2522833107469283]}, {\"customdata\": [[\"SHA-256\"], [\"Ethash\"], [\"Scrypt\"], [\"CryptoNight-V7\"], [\"Ethash\"], [\"Equihash\"], [\"Multiple\"], [\"Scrypt\"], [\"X11\"], [\"Scrypt\"], [\"Multiple\"], [\"Scrypt\"], [\"SHA-256\"], [\"Scrypt\"], [\"Scrypt\"], [\"Quark\"], [\"Groestl\"], [\"Scrypt\"], [\"Scrypt\"], [\"Scrypt\"], [\"X11\"], [\"Scrypt\"], [\"Multiple\"], [\"SHA-256\"], [\"Scrypt\"], [\"Scrypt\"], [\"Scrypt\"], [\"Scrypt\"], [\"Scrypt\"], [\"NeoScrypt\"], [\"Scrypt\"], [\"Scrypt\"], [\"Scrypt\"], [\"Scrypt\"], [\"SHA-256\"], [\"Scrypt\"], [\"Scrypt\"], [\"Scrypt\"], [\"Scrypt\"], [\"HybridScryptHash256\"], [\"Scrypt\"], [\"Scrypt\"], [\"SHA-256\"], [\"Scrypt\"], [\"Scrypt\"], [\"Scrypt\"], [\"Scrypt\"], [\"SHA-256\"], [\"SHA-256\"], [\"SHA-256\"], [\"SHA-256\"], [\"SHA-256\"], [\"X11\"], [\"Scrypt\"], [\"Lyra2REv2\"], [\"Scrypt\"], [\"SHA-256\"], [\"CryptoNight\"], [\"CryptoNight\"], [\"Shabal256\"], [\"Scrypt\"], [\"Scrypt\"], [\"Scrypt\"], [\"Scrypt\"], [\"Scrypt\"], [\"Scrypt\"], [\"Stanford Folding\"], [\"Multiple\"], [\"QuBit\"], [\"Scrypt\"], [\"Scrypt\"], [\"M7 POW\"], [\"Scrypt\"], [\"SHA-256\"], [\"Scrypt\"], [\"X11\"], [\"Lyra2RE\"], [\"SHA-256\"], [\"X11\"], [\"Scrypt\"], [\"Scrypt\"], [\"Ethash\"], [\"Blake2b\"], [\"X11\"], [\"SHA-256\"], [\"Scrypt\"], [\"1GB AES Pattern Search\"], [\"Scrypt\"], [\"SHA-256\"], [\"X11\"], [\"Dagger\"], [\"Scrypt\"], [\"X11GOST\"], [\"Scrypt\"], [\"X11\"], [\"Scrypt\"], [\"X11\"], [\"Equihash\"], [\"CryptoNight\"], [\"SHA-256\"], [\"Multiple\"], [\"Scrypt\"], [\"SHA-256\"], [\"Scrypt\"], [\"Lyra2Z\"], [\"Ethash\"], [\"Equihash\"], [\"Scrypt\"], [\"X11\"], [\"X11\"], [\"CryptoNight\"], [\"Scrypt\"], [\"CryptoNight\"], [\"Lyra2RE\"], [\"X11\"], [\"CryptoNight-V7\"], [\"Scrypt\"], [\"X11\"], [\"Equihash\"], [\"Scrypt\"], [\"Lyra2RE\"], [\"Dagger-Hashimoto\"], [\"Scrypt\"], [\"NIST5\"], [\"Scrypt\"], [\"SHA-256\"], [\"Scrypt\"], [\"CryptoNight-V7\"], [\"Argon2d\"], [\"Blake2b\"], [\"Cloverhash\"], [\"CryptoNight\"], [\"X11\"], [\"Scrypt\"], [\"Scrypt\"], [\"X11\"], [\"X11\"], [\"CryptoNight\"], [\"Time Travel\"], [\"Scrypt\"], [\"Keccak\"], [\"X11\"], [\"SHA-256\"], [\"Scrypt\"], [\"Scrypt\"], [\"Scrypt\"], [\"Scrypt\"], [\"Scrypt\"], [\"Scrypt\"], [\"CryptoNight\"], [\"Equihash\"], [\"X11\"], [\"NeoScrypt\"], [\"Equihash\"], [\"Dagger\"], [\"Scrypt\"], [\"X11\"], [\"NeoScrypt\"], [\"Ethash\"], [\"NeoScrypt\"], [\"Multiple\"], [\"CryptoNight\"], [\"CryptoNight\"], [\"Ethash\"], [\"X11\"], [\"CryptoNight-V7\"], [\"Scrypt\"], [\"BLAKE256\"], [\"X11\"], [\"NeoScrypt\"], [\"NeoScrypt\"], [\"Scrypt\"], [\"X11\"], [\"SHA-256\"], [\"C11\"], [\"CryptoNight\"], [\"SkunkHash\"], [\"CryptoNight\"], [\"Scrypt\"], [\"Dagger\"], [\"Lyra2REv2\"], [\"Scrypt\"], [\"Scrypt\"], [\"X11\"], [\"Ethash\"], [\"CryptoNight\"], [\"Scrypt\"], [\"IMesh\"], [\"Equihash\"], [\"Lyra2Z\"], [\"X11\"], [\"CryptoNight\"], [\"NIST5\"], [\"Lyra2RE\"], [\"Tribus\"], [\"Lyra2Z\"], [\"CryptoNight\"], [\"CryptoNight Heavy\"], [\"CryptoNight\"], [\"Jump Consistent Hash\"], [\"CryptoNight\"], [\"X16R\"], [\"HMQ1725\"], [\"X11\"], [\"Scrypt\"], [\"CryptoNight-V7\"], [\"Cryptonight-GPU\"], [\"XEVAN\"], [\"CryptoNight Heavy\"], [\"SHA-256\"], [\"X11\"], [\"X16R\"], [\"Equihash\"], [\"Lyra2Z\"], [\"SHA-256\"], [\"CryptoNight\"], [\"Blake\"], [\"Blake\"], [\"Equihash\"], [\"Exosis\"], [\"Scrypt\"], [\"Equihash\"], [\"Equihash\"], [\"QuBit\"], [\"SHA-256\"], [\"X13\"], [\"SHA-256\"], [\"Scrypt\"], [\"NeoScrypt\"], [\"Blake\"], [\"Scrypt\"], [\"SHA-256\"], [\"Scrypt\"], [\"Groestl\"], [\"Scrypt\"], [\"Scrypt\"], [\"Multiple\"], [\"Equihash+Scrypt\"], [\"Ethash\"], [\"CryptoNight\"], [\"Equihash\"]], \"hovertemplate\": \"<b>%{hovertext}</b><br><br>Class=%{marker.color}<br>PC 1=%{x}<br>PC 2=%{y}<br>PC 3=%{z}<br>Algorithm=%{customdata[0]}<extra></extra>\", \"hovertext\": [\"Bitcoin\", \"Ethereum\", \"Litecoin\", \"Monero\", \"Ethereum Classic\", \"ZCash\", \"DigiByte\", \"ProsperCoin\", \"Spreadcoin\", \"Argentum\", \"MyriadCoin\", \"MoonCoin\", \"ZetaCoin\", \"SexCoin\", \"Quatloo\", \"QuarkCoin\", \"Riecoin\", \"Digitalcoin \", \"Catcoin\", \"CannaCoin\", \"CryptCoin\", \"CasinoCoin\", \"Verge\", \"DevCoin\", \"EarthCoin\", \"E-Gulden\", \"Einsteinium\", \"Emerald\", \"Franko\", \"FeatherCoin\", \"GrandCoin\", \"GlobalCoin\", \"GoldCoin\", \"Infinite Coin\", \"IXcoin\", \"KrugerCoin\", \"LuckyCoin\", \"Litebar \", \"MegaCoin\", \"MediterraneanCoin\", \"MinCoin\", \"NobleCoin\", \"Namecoin\", \"NyanCoin\", \"RonPaulCoin\", \"StableCoin\", \"SmartCoin\", \"SysCoin\", \"TigerCoin\", \"TerraCoin\", \"UnbreakableCoin\", \"Unobtanium\", \"UroCoin\", \"ViaCoin\", \"Vertcoin\", \"WorldCoin\", \"JouleCoin\", \"ByteCoin\", \"DigitalNote \", \"BurstCoin\", \"MonaCoin\", \"Gulden\", \"PesetaCoin\", \"Wild Beast Coin\", \"Flo\", \"ArtByte\", \"Folding Coin\", \"Unitus\", \"CypherPunkCoin\", \"OmniCron\", \"GreenCoin\", \"Cryptonite\", \"MasterCoin\", \"SoonCoin\", \"1Credit\", \"MarsCoin \", \"Crypto\", \"Anarchists Prime\", \"BowsCoin\", \"Song Coin\", \"BitZeny\", \"Expanse\", \"Siacoin\", \"MindCoin\", \"I0coin\", \"Revolution VR\", \"HOdlcoin\", \"Gamecredits\", \"CarpeDiemCoin\", \"Adzcoin\", \"SoilCoin\", \"YoCoin\", \"SibCoin\", \"Francs\", \"BolivarCoin\", \"Omni\", \"PizzaCoin\", \"Komodo\", \"Karbo\", \"ZayedCoin\", \"Circuits of Value\", \"DopeCoin\", \"DollarCoin\", \"Shilling\", \"ZCoin\", \"Elementrem\", \"ZClassic\", \"KiloCoin\", \"ArtexCoin\", \"Kurrent\", \"Cannabis Industry Coin\", \"OsmiumCoin\", \"Bikercoins\", \"HexxCoin\", \"PacCoin\", \"Citadel\", \"BeaverCoin\", \"VaultCoin\", \"Zero\", \"Canada eCoin\", \"Zoin\", \"DubaiCoin\", \"EB3coin\", \"Coinonat\", \"BenjiRolls\", \"ILCoin\", \"EquiTrader\", \"Quantum Resistant Ledger\", \"Dynamic\", \"Nano\", \"ChanCoin\", \"Dinastycoin\", \"DigitalPrice\", \"Unify\", \"SocialCoin\", \"ArcticCoin\", \"DAS\", \"LeviarCoin\", \"Bitcore\", \"gCn Coin\", \"SmartCash\", \"Onix\", \"Bitcoin Cash\", \"Sojourn Coin\", \"NewYorkCoin\", \"FrazCoin\", \"Kronecoin\", \"AdCoin\", \"Linx\", \"Sumokoin\", \"BitcoinZ\", \"Elements\", \"VIVO Coin\", \"Bitcoin Gold\", \"Pirl\", \"eBoost\", \"Pura\", \"Innova\", \"Ellaism\", \"GoByte\", \"SHIELD\", \"UltraNote\", \"BitCoal\", \"DaxxCoin\", \"AC3\", \"Lethean\", \"PopularCoin\", \"Photon\", \"Sucre\", \"SparksPay\", \"GunCoin\", \"IrishCoin\", \"Pioneer Coin\", \"UnitedBitcoin\", \"Interzone\", \"TurtleCoin\", \"MUNcoin\", \"Niobio Cash\", \"ShareChain\", \"Travelflex\", \"KREDS\", \"BitFlip\", \"LottoCoin\", \"Crypto Improvement Fund\", \"Callisto Network\", \"BitTube\", \"Poseidon\", \"Aidos Kuneen\", \"Bitrolium\", \"Alpenschillling\", \"FuturoCoin\", \"Monero Classic\", \"Jumpcoin\", \"Infinex\", \"KEYCO\", \"GINcoin\", \"PlatinCoin\", \"Loki\", \"Newton Coin\", \"MassGrid\", \"PluraCoin\", \"Motion\", \"PlusOneCoin\", \"Axe\", \"HexCoin\", \"Webchain\", \"Ryo\", \"Urals Coin\", \"Qwertycoin\", \"Project Pai\", \"Azart\", \"Xchange\", \"CrypticCoin\", \"Actinium\", \"Bitcoin SV\", \"FREDEnergy\", \"Universal Molecule\", \"Lithium\", \"PirateCash\", \"Exosis\", \"Block-Logic\", \"Beam\", \"Bithereum\", \"SLICE\", \"BLAST\", \"Bitcoin Rhodium\", \"GlobalToken\", \"SolarCoin\", \"UFO Coin\", \"BlakeCoin\", \"Crypto Escudo\", \"Crown Coin\", \"SmileyCoin\", \"Groestlcoin\", \"Bata\", \"Pakcoin\", \"JoinCoin\", \"Vollar\", \"Reality Clash\", \"Beldex\", \"Horizen\"], \"legendgroup\": \"1\", \"marker\": {\"color\": [1, 1, 1, 1, 1, 1, 1, 1, 1, 1, 1, 1, 1, 1, 1, 1, 1, 1, 1, 1, 1, 1, 1, 1, 1, 1, 1, 1, 1, 1, 1, 1, 1, 1, 1, 1, 1, 1, 1, 1, 1, 1, 1, 1, 1, 1, 1, 1, 1, 1, 1, 1, 1, 1, 1, 1, 1, 1, 1, 1, 1, 1, 1, 1, 1, 1, 1, 1, 1, 1, 1, 1, 1, 1, 1, 1, 1, 1, 1, 1, 1, 1, 1, 1, 1, 1, 1, 1, 1, 1, 1, 1, 1, 1, 1, 1, 1, 1, 1, 1, 1, 1, 1, 1, 1, 1, 1, 1, 1, 1, 1, 1, 1, 1, 1, 1, 1, 1, 1, 1, 1, 1, 1, 1, 1, 1, 1, 1, 1, 1, 1, 1, 1, 1, 1, 1, 1, 1, 1, 1, 1, 1, 1, 1, 1, 1, 1, 1, 1, 1, 1, 1, 1, 1, 1, 1, 1, 1, 1, 1, 1, 1, 1, 1, 1, 1, 1, 1, 1, 1, 1, 1, 1, 1, 1, 1, 1, 1, 1, 1, 1, 1, 1, 1, 1, 1, 1, 1, 1, 1, 1, 1, 1, 1, 1, 1, 1, 1, 1, 1, 1, 1, 1, 1, 1, 1, 1, 1, 1, 1, 1, 1, 1, 1, 1, 1, 1, 1, 1, 1, 1, 1, 1, 1, 1, 1, 1, 1, 1, 1, 1, 1, 1, 1, 1, 1, 1, 1, 1, 1, 1], \"coloraxis\": \"coloraxis\", \"symbol\": \"diamond\"}, \"mode\": \"markers\", \"name\": \"1\", \"scene\": \"scene\", \"showlegend\": true, \"type\": \"scatter3d\", \"x\": [-0.15068805362303303, -0.16698580547590927, -0.17307745705826116, -0.20217982981767701, -0.16542251986057088, -0.12230541378090844, 0.13102090555407783, -0.17422755756607813, -0.23946217883254256, -0.1738427947402073, -0.12324076781988605, 2.556925702461702, -0.14776317682316953, -0.1710889329315591, -0.17364615168188732, -0.23619849034863383, -0.19022656579134986, -0.1736951114730615, -0.17420976435950347, -0.17429651236240332, -0.23955182054863414, 0.7194644695736835, 0.15484723024658875, 0.22843081911317092, 0.07527114708207351, -0.1740419561056598, -0.16963245485452383, -0.17398104163313213, -0.17435370665186353, -0.19715025310977247, -0.1535059485586115, -0.1731447591702515, -0.17342313228243714, 1.5804412256199079, -0.15064929404243232, -0.1707033751329066, -0.17406848650977333, -0.1744244944898173, -0.17368125036353613, -0.17020232469376506, -0.1743053600585116, -0.03875187862462633, -0.1507271637734638, -0.1679479514852861, -0.17428472728471128, -0.17237258364260113, -0.17376974107087673, -0.13783590178335153, -0.1501891279938878, -0.15047729458996192, -0.15046020361813772, -0.15105292273503268, -0.23972630471035095, -0.17400026887965317, -0.19537063520172535, -0.17109365489597464, -0.15025664852203516, 3.853482313470905, 0.44100521326780606, 0.13445154950745852, -0.17286404007316236, -0.15741071567196122, -0.17157854839025083, -0.17442671053840683, -0.17144314025159932, -0.15762034875340983, -0.10359806055726425, -0.15736192697523285, -0.20265409527140754, -0.17429936391482084, -0.04680798741825892, -0.1085252644768635, -0.1744356337874648, -0.1507550340801598, 0.4799449761223361, -0.23911142748790623, -0.18966255028460885, -0.1504940111074746, -0.23939728390118442, -0.17255304504106514, -0.17174256896911416, -0.16805682100578476, 0.33412087843767896, -0.23943280137577486, -0.15065042014282493, -0.17037988936254964, -0.15076585871846343, -0.17299414623628312, 0.26924194629931764, -0.2385906862508543, -0.18511242060532382, -0.17324235730653925, -0.14875147396877578, -0.1742248340971407, -0.23939591763142234, -0.1744356924791974, -0.23954638975163645, -0.056776153303263716, 0.28538688844204924, -0.150911379551719, -0.13736723842186957, -0.17159284089347382, -0.15086987056642617, -0.1740979537675825, -0.18518943401024662, -0.1677981119480947, -0.12232710307445832, -0.10091204452946516, -0.22608464723881966, -0.23736718579505633, 0.28538123871111115, -0.1744173683144846, 0.28551239337764134, -0.19020482731521837, 0.4781359636879545, -0.20094031888849426, -0.17438554916985446, -0.2322557082430574, -0.12233952111384118, -0.17251253171256395, -0.1899222611295729, -0.23971642903865256, -0.1452101858303277, -0.21120909898994242, -0.17394644896103395, -0.1171228148446849, -0.17376790224345504, -0.20079761653319741, -0.1547721464366783, -0.06751979051206437, -0.14968302911402023, 0.3216248846417959, -0.23859910041974397, -0.17408825502594186, -0.17385081910296504, -0.23899511797320563, -0.23957451884965963, 0.28577756159642803, -0.17610577150809836, 3.2467509431455546, -0.14417853886491935, -0.23041564106531046, -0.1506872150470968, -0.09975569619511236, 1.57842192552483, -0.1741864292373497, -0.17363621018994274, -0.17333617868103776, -0.17332306592914695, 0.28596180112504965, 0.09070604711119153, -0.19380819290747292, -0.20185480253432211, -0.12218505603415966, -0.18386731126342712, -0.17251073488225507, -0.23510390415089127, -0.20169968955513937, -0.16615773424621558, -0.20180023561794966, -0.14756079401377567, 1.1261629935983015, 0.28536394690748385, -0.09079150017109562, -0.23484452333272757, -0.18987288753435158, -0.09029264122042996, 1.1061544313950074, -0.2395484301442528, -0.2018523557654362, -0.19486673918937283, -0.17343490687416707, -0.23947358683071962, -0.15066654397023, -0.23052837805143025, 8.049519907102463, -0.1955754213178874, 0.289251473754271, 0.019254454561374385, -0.1833688920682607, -0.18087995390057407, -0.17401056009880322, 0.13410041319404808, -0.2335946977838379, -0.11903648509256311, 0.2933140109615818, -0.17424837158849837, -0.11470240884149073, -0.12117275273604762, -0.18296541255786072, -0.23864000918557707, 0.28554707848700833, -0.21126877140929887, -0.19004954117443948, -0.17861059347553376, -0.18527409745228857, 0.28948868516345255, 0.5798375575073407, 2.100160493933565, -0.176414187665607, 0.2991979464251011, -0.24090950908237116, -0.26346685165487427, -0.239530530178142, -0.1742730351406003, -0.18975203320720588, -0.1766600783553913, -0.16177655676209324, 3.1109100862962418, -0.1103797251693443, -0.23950179828595883, -0.240335283874711, -0.016575999443707475, -0.18466980375848227, -0.150687252738163, 0.36557749673839984, -0.11968999742045101, -0.12008336771219731, -0.23911199190977625, -0.1457824434207354, -0.17316158517845645, -0.12023856703696953, -0.12201731148837507, -0.20186238632865294, -0.14996095569615053, -0.10236702124317086, -0.14882506322173408, 0.5240139738079149, -0.1267659613832045, -0.0703801063476758, -0.1577714384494232, -0.15047666293567, 0.5438185079949286, -0.18978608862235907, -0.1743501379703377, -0.17229893574627067, -0.15809926872418112, -0.15812634889157923, -0.167831382120664, 0.3071944333610437, -0.12230647426349563], \"y\": [-1.1860540770659231, -1.8116056244580008, -1.1125557598452995, -1.9475781071650433, -1.811766668312367, -2.2201481208364013, -1.603513687895784, -1.1125033695444462, -0.8441137084279099, -1.1125367322536335, -1.5882677051328715, -1.4062056204717874, -1.1861790625527668, -1.112687567333522, -1.1125639126787576, -0.3944887587228746, -1.2414199437102331, -1.1125261791558354, -1.1125034760543513, -1.1124972793898862, -0.844111727204736, -0.08195127509727178, -1.6004456239769238, -1.2034769138266417, -1.1237329428354517, -1.1125044805523943, -1.1127322516073441, -1.112512790645237, -1.11249556160371, -1.4988265435484371, -1.1136383671594268, -1.1125452445726047, -1.1125452003364378, -1.1884333201341593, -1.1860543090802713, -1.1127010139451077, -1.1125035994272288, -1.1124879972024648, -1.1125218083369972, -2.0609056908880112, -1.112494958360134, -1.1241338742371896, -1.186053842953066, -1.1127692105702065, -1.1125030273272478, -1.1126798834169214, -1.1125279239262447, -1.1867572565601228, -1.1860758524501893, -1.1860705072714584, -1.1860980575291256, -1.1860369049380677, -0.8440976810836378, -1.1125061747206089, -1.1358721660707378, -1.1126986777354797, -1.1860739949995018, -2.296087521829472, -2.1496401141797534, -0.2698500851667338, -1.112572292639045, -1.1138023547130722, -1.1126242408963698, -1.1124889070551682, -1.112620438747289, -1.1133099259862327, -2.1632113420382106, -1.5866188272968282, -1.3683671490867926, -1.1124902062735147, -1.120474077930343, -2.030222002701968, -1.1124874028561327, -1.1860536761217695, -1.1828570040900506, -0.8441251981095482, -1.899134426878869, -1.1860789016252224, -0.8441148192026405, -1.112650083952451, -1.1126836546766306, -1.8116114251087023, -1.989263230662191, -0.8441109950229524, -1.1860543023394492, -1.1126629190788333, -2.1315135954317297, -1.112556258542807, -1.2041735798381425, -0.8441651532998212, -1.9767427638503952, -1.1126157009223592, -2.0808393494697763, -1.1125026635325872, -0.8441177166391486, -1.112487400316192, -0.8441168159149777, -2.8360983687451338, -2.141492662952441, -1.186044604089167, -1.5876052926550774, -1.1126484352215256, -1.1860455043043547, -1.1125106461816907, -2.0058475439175503, -1.8116196906429702, -2.220147991004569, -1.12015021174226, -0.8445404971236752, -0.8442764904470229, -2.14150057459282, -1.1124890253032298, -2.1415042489409983, -1.8990908835384772, -0.9206262462340988, -1.9477191550455915, -1.11248968218081, -0.8448647144864437, -2.220145027412311, -1.1125706985132737, -1.8991005204363385, -1.7007770180853898, -1.1155511565875404, -0.5613833752222359, -1.1125155405525224, -1.1880456158194266, -1.1125429590752227, -1.9476622240993537, -2.100186130968817, -1.9871048056885934, -2.079477421218038, -2.143146989002644, -0.8441766599648539, -1.1125029587152933, -1.1125446296794974, -0.8441453968285383, -0.8441122414160566, -2.1415267833552867, -2.053850293833055, -1.277429035864678, -1.201147833758156, -0.8449479605557082, -1.1860540820856267, -1.1205182908828266, -1.122979538141463, -1.1125028934235826, -1.1125524151562614, -1.1125657681731433, -1.1125658466659065, -2.141553086960724, -2.236576640772125, -0.8456727124243426, -1.4985751869930684, -2.2201488412963206, -1.9768414502444405, -1.1125707092690766, -0.8443781607918167, -1.4985891171585177, -1.8118128293441456, -1.4985789807395675, -1.5871542243280727, -2.2079150479688923, -2.1414943314109833, -1.819284867673894, -0.8445241763437896, -1.9483737163630157, -1.116602206809278, -1.363053927731418, -0.8441130476657687, -1.4985708677523428, -1.4989586722127413, -1.1125391738651391, -0.8441158070833059, -1.1860536034121256, -1.0467058883124036, -2.910275948623965, -1.9332607636940022, -2.141751270840115, -1.1208695268560194, -1.9768037626053405, -1.13669277864296, -1.1125183924641517, -1.1276294767960098, -0.8444955420579706, -1.816587692777976, -2.1422552059692204, -1.1125032449519763, -2.0354942112162777, -2.220190294341733, -2.0060620937034055, -0.8441764150855092, -2.141499689289858, -0.561363333508912, -1.8991035723602374, -1.96669626979439, -2.0058391638951343, -2.141943382189007, -2.2035601967531524, -2.2852545208056267, -2.123647050057818, -2.14229042713102, -1.0610266763399727, -1.7375085313194314, -0.8441140215921452, -1.1125038956637723, -1.9489165501855008, -2.093856659826691, -0.4349875026505072, -2.3518481745108955, -1.1877970540637761, -0.8441170828389164, -1.0610863994971305, -2.226255437408471, -2.0058958713057806, -1.1860540818600083, -2.1478017609846995, -2.2390129957800564, -2.238952934496646, -0.3035494986510905, -2.0802379197729906, -1.1125812595777718, -2.2203351486025578, -2.220156986214241, -1.3684441196971828, -1.1860894889886089, -0.3851729428589848, -1.1861714091352158, -1.1875269190449147, -1.501894423370843, -2.2442884360107813, -1.113309021565261, -1.186070511052533, -1.1529021408625875, -1.241437749005568, -1.1124910787475877, -1.112631206885687, -1.586616436059253, -2.0897590204593333, -1.811618250844358, -2.1426273805966005, -2.220148114488366], \"z\": [0.20654799259467277, 0.33091142738242957, 0.019552805937149323, 0.3661162854247984, 0.3309078125817106, 0.35191289742221143, 0.3274312477450211, 0.019568521943899065, 0.03385345871967172, 0.019566392725875768, 0.3301819100629497, 0.01569294588768165, 0.2065063943973823, 0.019533777372930102, 0.019567305744961624, 0.053745657966783426, 0.1520066690297269, 0.019560960684686064, 0.019568139713947684, 0.01956888158042237, 0.0338550989807466, 0.016290216988401267, 0.3262851061767626, 0.2013975807995343, 0.016132320174470718, 0.019564534892047073, 0.019509595087342714, 0.019564796059685457, 0.019569838485333564, 0.23260133157499446, 0.019323111451663412, 0.019552253882094715, 0.019558554300613252, -0.005199121858206812, 0.20654715996944956, 0.019527695476413285, 0.01956496211086896, 0.019569948411744757, 0.01955978302401986, 0.29835719478238226, 0.01956862356118112, 0.018795791701604777, 0.20654883275076624, 0.01947871852002904, 0.01956975005186794, 0.019561352489705905, 0.019562996819350628, 0.20639562779723114, 0.20654098673264676, 0.2065464618505683, 0.20655151737368665, 0.20655286957479033, 0.033856278580986957, 0.01956392477932385, 0.2503834535990831, 0.019536079384862206, 0.2065421500831222, 0.3231528090201943, 0.37156211504360653, 0.590793821151471, 0.01955123521968581, 0.019444008315123523, 0.019532363323062924, 0.019570178389318703, 0.019528543220082146, 0.019351474395812026, 0.30996934403132076, 0.3306294901165575, 0.28891970945794304, 0.019567548831234707, 0.01825534242772193, 0.4092596915087123, 0.01957008345701991, 0.2065494314548803, 0.01864129148328286, 0.03384777907565884, 0.3970957342959573, 0.20654849912429535, 0.033852207362079355, 0.019559555300869214, 0.01954781864592555, 0.33093684728762063, 0.32206285880822927, 0.03385225683213631, 0.20654718416010326, 0.019512837775524566, 0.4835198708419098, 0.019551016271451095, 0.20061025595301937, 0.03384387041205038, 0.3996460095946214, 0.019568385370911344, 0.3943907315159649, 0.019568320737123213, 0.03385274881929509, 0.019570084285437085, 0.03385598122998967, 0.3853811669642926, 0.37347948460524666, 0.20655118264278302, 0.33037121052975144, 0.019537467129418236, 0.20655041971495522, 0.019567022138198185, 0.34993292825969347, 0.33093261675777297, 0.3519133633470912, 0.019417594495252193, 0.03363458223337254, 0.03383813648747111, 0.3734811756912171, 0.019569990014779576, 0.3734789290611703, 0.3970994221737311, 0.032705489539610014, 0.36611605833973165, 0.01956939862709304, 0.03383849857067235, 0.35191305930168487, 0.01954295355727952, 0.39709492186565304, 0.3731205446497678, 0.019512987218320215, 0.010335795944914752, 0.019564555314482243, 0.20618070886138373, 0.019565925515160613, 0.366101576694749, 0.3143417959075992, 0.330739378768252, 0.3488856252663609, 0.3729850040820268, 0.03384633439202241, 0.019565283572078592, 0.01956813482319153, 0.03384913348710924, 0.03385571501251986, 0.3734773711245638, 0.35166681950163836, -0.02538286436017652, 0.10614463260696502, 0.03381324080988593, 0.20654797458056076, 0.019464104953804188, -0.01808452534692594, 0.019567495731937227, 0.01956480895535444, 0.019560646969624708, 0.019560365284224387, 0.37347839203602207, 0.3503307703945365, 0.033126738494824635, 0.2326582988728589, 0.35191031192220584, 0.3996372866116439, 0.019542914958145686, 0.0338069267610672, 0.23265753540032016, 0.3309335954286723, 0.23265781164631044, 0.3305131274007616, 0.3675463323805007, 0.3734803341849672, 0.33070165505632787, 0.033829895153336016, 0.36599453805404203, 0.018475961766372114, 0.04295328737461106, 0.03385528301199904, 0.23265739010117345, 0.23257568069800064, 0.019557630563832168, 0.03385413188926205, 0.2065474115155115, 0.19081735376979814, 0.3493923563148213, 0.40164084201737377, 0.3734429871715437, 0.016836202831238184, 0.3996185446032399, 0.25021715281946777, 0.01956657178348246, 0.01556879693244966, 0.03379591157241384, 0.3308089516842563, 0.3734504705796751, 0.019568969066386433, 0.25340556352913457, 0.3518955582213839, 0.3499249090119853, 0.03384721318559558, 0.3734772421311096, 0.010333188906348326, 0.3970984095344451, 0.33739656077776387, 0.34993319153264224, 0.37347556479055616, 0.3547353927441706, 0.3607505979378095, 0.3432857219973419, 0.37332407310556986, 0.1908502053122153, 0.4194475951630064, 0.03385506973080278, 0.01956965660666974, 0.36609904221353623, 0.3683630798922768, -0.14022050002740266, 0.32666621363152143, 0.2059787745019554, 0.03385502332542663, 0.19084898986276366, 0.35072317702539635, 0.34993069880273875, 0.20654797539023226, 0.37290845008799667, 0.44977825814231914, 0.44977530782385244, 0.08005692527682265, 0.30357879934380644, 0.019559750424115833, 0.3519030031431327, 0.35190811921871007, 0.28891697231004904, 0.20653850940542962, 0.019583694382111324, 0.20652894938585092, 0.018565091353999807, 0.23161221024214482, 0.44970290502888793, 0.019354720073141027, 0.20654644828150265, 0.011275698649735965, 0.15200020352854987, 0.01956887196201907, 0.019550066679618217, 0.3306457291031785, 0.3151453082658282, 0.33093308635680774, 0.3732094067220888, 0.351912920203278]}, {\"customdata\": [[\"VeChainThor Authority\"], [\"Proof-of-BibleHash\"], [\"Proof-of-Authority\"], [\"ECC 256K1\"]], \"hovertemplate\": \"<b>%{hovertext}</b><br><br>Class=%{marker.color}<br>PC 1=%{x}<br>PC 2=%{y}<br>PC 3=%{z}<br>Algorithm=%{customdata[0]}<extra></extra>\", \"hovertext\": [\"Vechain\", \"BiblePay\", \"Poa Network\", \"Acute Angle Cloud\"], \"legendgroup\": \"3\", \"marker\": {\"color\": [3, 3, 3, 3], \"coloraxis\": \"coloraxis\", \"symbol\": \"square\"}, \"mode\": \"markers\", \"name\": \"3\", \"scene\": \"scene\", \"showlegend\": true, \"type\": \"scatter3d\", \"x\": [4.4547600154100016, -0.20146543560041802, -0.36406821431855335, -0.3966696317294475], \"y\": [2.0492130127085635, 3.79027615631753, 3.8413896370209084, 3.749469601954026], \"z\": [9.363590892899325, 19.732990313617798, 11.429061528386132, 18.467740580395194]}, {\"customdata\": [[\"TRC10\"]], \"hovertemplate\": \"<b>%{hovertext}</b><br><br>Class=%{marker.color}<br>PC 1=%{x}<br>PC 2=%{y}<br>PC 3=%{z}<br>Algorithm=%{customdata[0]}<extra></extra>\", \"hovertext\": [\"BitTorrent\"], \"legendgroup\": \"2\", \"marker\": {\"color\": [2], \"coloraxis\": \"coloraxis\", \"symbol\": \"x\"}, \"mode\": \"markers\", \"name\": \"2\", \"scene\": \"scene\", \"showlegend\": true, \"type\": \"scatter3d\", \"x\": [34.12600465194169], \"y\": [0.9555309272647233], \"z\": [-1.1007582122143027]}],                        {\"coloraxis\": {\"colorbar\": {\"title\": {\"text\": \"Class\"}}, \"colorscale\": [[0.0, \"#0d0887\"], [0.1111111111111111, \"#46039f\"], [0.2222222222222222, \"#7201a8\"], [0.3333333333333333, \"#9c179e\"], [0.4444444444444444, \"#bd3786\"], [0.5555555555555556, \"#d8576b\"], [0.6666666666666666, \"#ed7953\"], [0.7777777777777778, \"#fb9f3a\"], [0.8888888888888888, \"#fdca26\"], [1.0, \"#f0f921\"]]}, \"legend\": {\"title\": {\"text\": \"Class\"}, \"tracegroupgap\": 0, \"x\": 0, \"y\": 1}, \"margin\": {\"t\": 60}, \"scene\": {\"domain\": {\"x\": [0.0, 1.0], \"y\": [0.0, 1.0]}, \"xaxis\": {\"title\": {\"text\": \"PC 1\"}}, \"yaxis\": {\"title\": {\"text\": \"PC 2\"}}, \"zaxis\": {\"title\": {\"text\": \"PC 3\"}}}, \"template\": {\"data\": {\"bar\": [{\"error_x\": {\"color\": \"#2a3f5f\"}, \"error_y\": {\"color\": \"#2a3f5f\"}, \"marker\": {\"line\": {\"color\": \"#E5ECF6\", \"width\": 0.5}}, \"type\": \"bar\"}], \"barpolar\": [{\"marker\": {\"line\": {\"color\": \"#E5ECF6\", \"width\": 0.5}}, \"type\": \"barpolar\"}], \"carpet\": [{\"aaxis\": {\"endlinecolor\": \"#2a3f5f\", \"gridcolor\": \"white\", \"linecolor\": \"white\", \"minorgridcolor\": \"white\", \"startlinecolor\": \"#2a3f5f\"}, \"baxis\": {\"endlinecolor\": \"#2a3f5f\", \"gridcolor\": \"white\", \"linecolor\": \"white\", \"minorgridcolor\": \"white\", \"startlinecolor\": \"#2a3f5f\"}, \"type\": \"carpet\"}], \"choropleth\": [{\"colorbar\": {\"outlinewidth\": 0, \"ticks\": \"\"}, \"type\": \"choropleth\"}], \"contour\": [{\"colorbar\": {\"outlinewidth\": 0, \"ticks\": \"\"}, \"colorscale\": [[0.0, \"#0d0887\"], [0.1111111111111111, \"#46039f\"], [0.2222222222222222, \"#7201a8\"], [0.3333333333333333, \"#9c179e\"], [0.4444444444444444, \"#bd3786\"], [0.5555555555555556, \"#d8576b\"], [0.6666666666666666, \"#ed7953\"], [0.7777777777777778, \"#fb9f3a\"], [0.8888888888888888, \"#fdca26\"], [1.0, \"#f0f921\"]], \"type\": \"contour\"}], \"contourcarpet\": [{\"colorbar\": {\"outlinewidth\": 0, \"ticks\": \"\"}, \"type\": \"contourcarpet\"}], \"heatmap\": [{\"colorbar\": {\"outlinewidth\": 0, \"ticks\": \"\"}, \"colorscale\": [[0.0, \"#0d0887\"], [0.1111111111111111, \"#46039f\"], [0.2222222222222222, \"#7201a8\"], [0.3333333333333333, \"#9c179e\"], [0.4444444444444444, \"#bd3786\"], [0.5555555555555556, \"#d8576b\"], [0.6666666666666666, \"#ed7953\"], [0.7777777777777778, \"#fb9f3a\"], [0.8888888888888888, \"#fdca26\"], [1.0, \"#f0f921\"]], \"type\": \"heatmap\"}], \"heatmapgl\": [{\"colorbar\": {\"outlinewidth\": 0, \"ticks\": \"\"}, \"colorscale\": [[0.0, \"#0d0887\"], [0.1111111111111111, \"#46039f\"], [0.2222222222222222, \"#7201a8\"], [0.3333333333333333, \"#9c179e\"], [0.4444444444444444, \"#bd3786\"], [0.5555555555555556, \"#d8576b\"], [0.6666666666666666, \"#ed7953\"], [0.7777777777777778, \"#fb9f3a\"], [0.8888888888888888, \"#fdca26\"], [1.0, \"#f0f921\"]], \"type\": \"heatmapgl\"}], \"histogram\": [{\"marker\": {\"colorbar\": {\"outlinewidth\": 0, \"ticks\": \"\"}}, \"type\": \"histogram\"}], \"histogram2d\": [{\"colorbar\": {\"outlinewidth\": 0, \"ticks\": \"\"}, \"colorscale\": [[0.0, \"#0d0887\"], [0.1111111111111111, \"#46039f\"], [0.2222222222222222, \"#7201a8\"], [0.3333333333333333, \"#9c179e\"], [0.4444444444444444, \"#bd3786\"], [0.5555555555555556, \"#d8576b\"], [0.6666666666666666, \"#ed7953\"], [0.7777777777777778, \"#fb9f3a\"], [0.8888888888888888, \"#fdca26\"], [1.0, \"#f0f921\"]], \"type\": \"histogram2d\"}], \"histogram2dcontour\": [{\"colorbar\": {\"outlinewidth\": 0, \"ticks\": \"\"}, \"colorscale\": [[0.0, \"#0d0887\"], [0.1111111111111111, \"#46039f\"], [0.2222222222222222, \"#7201a8\"], [0.3333333333333333, \"#9c179e\"], [0.4444444444444444, \"#bd3786\"], [0.5555555555555556, \"#d8576b\"], [0.6666666666666666, \"#ed7953\"], [0.7777777777777778, \"#fb9f3a\"], [0.8888888888888888, \"#fdca26\"], [1.0, \"#f0f921\"]], \"type\": \"histogram2dcontour\"}], \"mesh3d\": [{\"colorbar\": {\"outlinewidth\": 0, \"ticks\": \"\"}, \"type\": \"mesh3d\"}], \"parcoords\": [{\"line\": {\"colorbar\": {\"outlinewidth\": 0, \"ticks\": \"\"}}, \"type\": \"parcoords\"}], \"pie\": [{\"automargin\": true, \"type\": \"pie\"}], \"scatter\": [{\"marker\": {\"colorbar\": {\"outlinewidth\": 0, \"ticks\": \"\"}}, \"type\": \"scatter\"}], \"scatter3d\": [{\"line\": {\"colorbar\": {\"outlinewidth\": 0, \"ticks\": \"\"}}, \"marker\": {\"colorbar\": {\"outlinewidth\": 0, \"ticks\": \"\"}}, \"type\": \"scatter3d\"}], \"scattercarpet\": [{\"marker\": {\"colorbar\": {\"outlinewidth\": 0, \"ticks\": \"\"}}, \"type\": \"scattercarpet\"}], \"scattergeo\": [{\"marker\": {\"colorbar\": {\"outlinewidth\": 0, \"ticks\": \"\"}}, \"type\": \"scattergeo\"}], \"scattergl\": [{\"marker\": {\"colorbar\": {\"outlinewidth\": 0, \"ticks\": \"\"}}, \"type\": \"scattergl\"}], \"scattermapbox\": [{\"marker\": {\"colorbar\": {\"outlinewidth\": 0, \"ticks\": \"\"}}, \"type\": \"scattermapbox\"}], \"scatterpolar\": [{\"marker\": {\"colorbar\": {\"outlinewidth\": 0, \"ticks\": \"\"}}, \"type\": \"scatterpolar\"}], \"scatterpolargl\": [{\"marker\": {\"colorbar\": {\"outlinewidth\": 0, \"ticks\": \"\"}}, \"type\": \"scatterpolargl\"}], \"scatterternary\": [{\"marker\": {\"colorbar\": {\"outlinewidth\": 0, \"ticks\": \"\"}}, \"type\": \"scatterternary\"}], \"surface\": [{\"colorbar\": {\"outlinewidth\": 0, \"ticks\": \"\"}, \"colorscale\": [[0.0, \"#0d0887\"], [0.1111111111111111, \"#46039f\"], [0.2222222222222222, \"#7201a8\"], [0.3333333333333333, \"#9c179e\"], [0.4444444444444444, \"#bd3786\"], [0.5555555555555556, \"#d8576b\"], [0.6666666666666666, \"#ed7953\"], [0.7777777777777778, \"#fb9f3a\"], [0.8888888888888888, \"#fdca26\"], [1.0, \"#f0f921\"]], \"type\": \"surface\"}], \"table\": [{\"cells\": {\"fill\": {\"color\": \"#EBF0F8\"}, \"line\": {\"color\": \"white\"}}, \"header\": {\"fill\": {\"color\": \"#C8D4E3\"}, \"line\": {\"color\": \"white\"}}, \"type\": \"table\"}]}, \"layout\": {\"annotationdefaults\": {\"arrowcolor\": \"#2a3f5f\", \"arrowhead\": 0, \"arrowwidth\": 1}, \"coloraxis\": {\"colorbar\": {\"outlinewidth\": 0, \"ticks\": \"\"}}, \"colorscale\": {\"diverging\": [[0, \"#8e0152\"], [0.1, \"#c51b7d\"], [0.2, \"#de77ae\"], [0.3, \"#f1b6da\"], [0.4, \"#fde0ef\"], [0.5, \"#f7f7f7\"], [0.6, \"#e6f5d0\"], [0.7, \"#b8e186\"], [0.8, \"#7fbc41\"], [0.9, \"#4d9221\"], [1, \"#276419\"]], \"sequential\": [[0.0, \"#0d0887\"], [0.1111111111111111, \"#46039f\"], [0.2222222222222222, \"#7201a8\"], [0.3333333333333333, \"#9c179e\"], [0.4444444444444444, \"#bd3786\"], [0.5555555555555556, \"#d8576b\"], [0.6666666666666666, \"#ed7953\"], [0.7777777777777778, \"#fb9f3a\"], [0.8888888888888888, \"#fdca26\"], [1.0, \"#f0f921\"]], \"sequentialminus\": [[0.0, \"#0d0887\"], [0.1111111111111111, \"#46039f\"], [0.2222222222222222, \"#7201a8\"], [0.3333333333333333, \"#9c179e\"], [0.4444444444444444, \"#bd3786\"], [0.5555555555555556, \"#d8576b\"], [0.6666666666666666, \"#ed7953\"], [0.7777777777777778, \"#fb9f3a\"], [0.8888888888888888, \"#fdca26\"], [1.0, \"#f0f921\"]]}, \"colorway\": [\"#636efa\", \"#EF553B\", \"#00cc96\", \"#ab63fa\", \"#FFA15A\", \"#19d3f3\", \"#FF6692\", \"#B6E880\", \"#FF97FF\", \"#FECB52\"], \"font\": {\"color\": \"#2a3f5f\"}, \"geo\": {\"bgcolor\": \"white\", \"lakecolor\": \"white\", \"landcolor\": \"#E5ECF6\", \"showlakes\": true, \"showland\": true, \"subunitcolor\": \"white\"}, \"hoverlabel\": {\"align\": \"left\"}, \"hovermode\": \"closest\", \"mapbox\": {\"style\": \"light\"}, \"paper_bgcolor\": \"white\", \"plot_bgcolor\": \"#E5ECF6\", \"polar\": {\"angularaxis\": {\"gridcolor\": \"white\", \"linecolor\": \"white\", \"ticks\": \"\"}, \"bgcolor\": \"#E5ECF6\", \"radialaxis\": {\"gridcolor\": \"white\", \"linecolor\": \"white\", \"ticks\": \"\"}}, \"scene\": {\"xaxis\": {\"backgroundcolor\": \"#E5ECF6\", \"gridcolor\": \"white\", \"gridwidth\": 2, \"linecolor\": \"white\", \"showbackground\": true, \"ticks\": \"\", \"zerolinecolor\": \"white\"}, \"yaxis\": {\"backgroundcolor\": \"#E5ECF6\", \"gridcolor\": \"white\", \"gridwidth\": 2, \"linecolor\": \"white\", \"showbackground\": true, \"ticks\": \"\", \"zerolinecolor\": \"white\"}, \"zaxis\": {\"backgroundcolor\": \"#E5ECF6\", \"gridcolor\": \"white\", \"gridwidth\": 2, \"linecolor\": \"white\", \"showbackground\": true, \"ticks\": \"\", \"zerolinecolor\": \"white\"}}, \"shapedefaults\": {\"line\": {\"color\": \"#2a3f5f\"}}, \"ternary\": {\"aaxis\": {\"gridcolor\": \"white\", \"linecolor\": \"white\", \"ticks\": \"\"}, \"baxis\": {\"gridcolor\": \"white\", \"linecolor\": \"white\", \"ticks\": \"\"}, \"bgcolor\": \"#E5ECF6\", \"caxis\": {\"gridcolor\": \"white\", \"linecolor\": \"white\", \"ticks\": \"\"}}, \"title\": {\"x\": 0.05}, \"xaxis\": {\"automargin\": true, \"gridcolor\": \"white\", \"linecolor\": \"white\", \"ticks\": \"\", \"title\": {\"standoff\": 15}, \"zerolinecolor\": \"white\", \"zerolinewidth\": 2}, \"yaxis\": {\"automargin\": true, \"gridcolor\": \"white\", \"linecolor\": \"white\", \"ticks\": \"\", \"title\": {\"standoff\": 15}, \"zerolinecolor\": \"white\", \"zerolinewidth\": 2}}}, \"width\": 800},                        {\"responsive\": true}                    ).then(function(){\n",
       "                            \n",
       "var gd = document.getElementById('b47680cc-f8cc-41cf-850d-1fceb01ac713');\n",
       "var x = new MutationObserver(function (mutations, observer) {{\n",
       "        var display = window.getComputedStyle(gd).display;\n",
       "        if (!display || display === 'none') {{\n",
       "            console.log([gd, 'removed!']);\n",
       "            Plotly.purge(gd);\n",
       "            observer.disconnect();\n",
       "        }}\n",
       "}});\n",
       "\n",
       "// Listen for the removal of the full notebook cells\n",
       "var notebookContainer = gd.closest('#notebook-container');\n",
       "if (notebookContainer) {{\n",
       "    x.observe(notebookContainer, {childList: true});\n",
       "}}\n",
       "\n",
       "// Listen for the clearing of the current output cell\n",
       "var outputEl = gd.closest('.output');\n",
       "if (outputEl) {{\n",
       "    x.observe(outputEl, {childList: true});\n",
       "}}\n",
       "\n",
       "                        })                };                });            </script>        </div>"
      ]
     },
     "metadata": {},
     "output_type": "display_data"
    }
   ],
   "source": [
    "# Creating a 3D-Scatter with the PCA data and the clusters\n",
    "fig = px.scatter_3d(\n",
    "        clustered_df, \n",
    "        x=\"PC 1\",\n",
    "        y=\"PC 2\",\n",
    "        z=\"PC 3\",\n",
    "        color=\"Class\", \n",
    "        symbol=\"Class\",\n",
    "        width=800,\n",
    "        hover_name= \"CoinName\",\n",
    "        hover_data= [\"Algorithm\"],\n",
    ")\n",
    "fig.update_layout(legend=dict(x=0,y=1))\n",
    "fig.show()"
   ]
  },
  {
   "cell_type": "code",
   "execution_count": 25,
   "metadata": {},
   "outputs": [
    {
     "data": {},
     "metadata": {},
     "output_type": "display_data"
    },
    {
     "data": {
      "application/vnd.holoviews_exec.v0+json": "",
      "text/html": [
       "<div id='1120'>\n",
       "\n",
       "\n",
       "\n",
       "\n",
       "\n",
       "  <div class=\"bk-root\" id=\"3ea937c2-bccd-4893-8fcf-45411abf8295\" data-root-id=\"1120\"></div>\n",
       "</div>\n",
       "<script type=\"application/javascript\">(function(root) {\n",
       "  function embed_document(root) {\n",
       "    var docs_json = {\"96f457eb-8586-4651-a50a-d3b9ac5594e0\":{\"defs\":[{\"extends\":null,\"module\":null,\"name\":\"ReactiveHTML1\",\"overrides\":[],\"properties\":[]},{\"extends\":null,\"module\":null,\"name\":\"FlexBox1\",\"overrides\":[],\"properties\":[{\"default\":\"flex-start\",\"kind\":null,\"name\":\"align_content\"},{\"default\":\"flex-start\",\"kind\":null,\"name\":\"align_items\"},{\"default\":\"row\",\"kind\":null,\"name\":\"flex_direction\"},{\"default\":\"wrap\",\"kind\":null,\"name\":\"flex_wrap\"},{\"default\":\"flex-start\",\"kind\":null,\"name\":\"justify_content\"}]},{\"extends\":null,\"module\":null,\"name\":\"GridStack1\",\"overrides\":[],\"properties\":[{\"default\":\"warn\",\"kind\":null,\"name\":\"mode\"},{\"default\":null,\"kind\":null,\"name\":\"ncols\"},{\"default\":null,\"kind\":null,\"name\":\"nrows\"},{\"default\":true,\"kind\":null,\"name\":\"allow_resize\"},{\"default\":true,\"kind\":null,\"name\":\"allow_drag\"},{\"default\":[],\"kind\":null,\"name\":\"state\"}]},{\"extends\":null,\"module\":null,\"name\":\"click1\",\"overrides\":[],\"properties\":[{\"default\":\"\",\"kind\":null,\"name\":\"terminal_output\"},{\"default\":\"\",\"kind\":null,\"name\":\"debug_name\"},{\"default\":0,\"kind\":null,\"name\":\"clears\"}]},{\"extends\":null,\"module\":null,\"name\":\"TemplateActions1\",\"overrides\":[],\"properties\":[{\"default\":0,\"kind\":null,\"name\":\"open_modal\"},{\"default\":0,\"kind\":null,\"name\":\"close_modal\"}]},{\"extends\":null,\"module\":null,\"name\":\"MaterialTemplateActions1\",\"overrides\":[],\"properties\":[{\"default\":0,\"kind\":null,\"name\":\"open_modal\"},{\"default\":0,\"kind\":null,\"name\":\"close_modal\"}]}],\"roots\":{\"references\":[{\"attributes\":{\"format\":\"0,0.0[00000]\"},\"id\":\"1144\",\"type\":\"NumberFormatter\"},{\"attributes\":{},\"id\":\"1129\",\"type\":\"StringFormatter\"},{\"attributes\":{},\"id\":\"1139\",\"type\":\"StringFormatter\"},{\"attributes\":{\"source\":{\"id\":\"1122\"}},\"id\":\"1156\",\"type\":\"CDSView\"},{\"attributes\":{\"editor\":{\"id\":\"1130\"},\"field\":\"Algorithm\",\"formatter\":{\"id\":\"1129\"},\"title\":\"Algorithm\"},\"id\":\"1131\",\"type\":\"TableColumn\"},{\"attributes\":{\"data\":{\"Algorithm\":[\"Scrypt\",\"Scrypt\",\"X13\",\"SHA-256\",\"Ethash\",\"Scrypt\",\"X11\",\"CryptoNight-V7\",\"Ethash\",\"Equihash\",\"SHA-512\",\"Multiple\",\"SHA-256\",\"SHA-256\",\"Scrypt\",\"X15\",\"X11\",\"Scrypt\",\"Scrypt\",\"Scrypt\",\"Multiple\",\"Scrypt\",\"SHA-256\",\"Scrypt\",\"Scrypt\",\"Scrypt\",\"Quark\",\"Groestl\",\"Scrypt\",\"Scrypt\",\"Scrypt\",\"Scrypt\",\"Scrypt\",\"X11\",\"Scrypt\",\"Groestl\",\"Multiple\",\"SHA-256\",\"Scrypt\",\"Scrypt\",\"Scrypt\",\"Scrypt\",\"PoS\",\"Scrypt\",\"Scrypt\",\"NeoScrypt\",\"Scrypt\",\"Scrypt\",\"Scrypt\",\"Scrypt\",\"X11\",\"Scrypt\",\"X11\",\"SHA-256\",\"Scrypt\",\"Scrypt\",\"Scrypt\",\"SHA3\",\"Scrypt\",\"HybridScryptHash256\",\"Scrypt\",\"Scrypt\",\"SHA-256\",\"Scrypt\",\"X13\",\"Scrypt\",\"SHA-256\",\"Scrypt\",\"X13\",\"NeoScrypt\",\"Scrypt\",\"Scrypt\",\"Scrypt\",\"Scrypt\",\"Scrypt\",\"Scrypt\",\"X11\",\"X11\",\"SHA-256\",\"Multiple\",\"SHA-256\",\"PHI1612\",\"X11\",\"SHA-256\",\"SHA-256\",\"SHA-256\",\"X11\",\"Scrypt\",\"Scrypt\",\"Scrypt\",\"Scrypt\",\"Lyra2REv2\",\"Scrypt\",\"X11\",\"Multiple\",\"SHA-256\",\"X13\",\"Scrypt\",\"CryptoNight\",\"CryptoNight\",\"Shabal256\",\"Counterparty\",\"Scrypt\",\"SHA-256\",\"Groestl\",\"Scrypt\",\"Scrypt\",\"Scrypt\",\"X13\",\"Scrypt\",\"Scrypt\",\"Scrypt\",\"Scrypt\",\"X13\",\"Scrypt\",\"Stanford Folding\",\"X11\",\"Multiple\",\"QuBit\",\"Scrypt\",\"Scrypt\",\"Scrypt\",\"M7 POW\",\"Scrypt\",\"SHA-256\",\"Scrypt\",\"X11\",\"SHA3\",\"X11\",\"Lyra2RE\",\"SHA-256\",\"QUAIT\",\"X11\",\"X11\",\"Scrypt\",\"Scrypt\",\"Scrypt\",\"Ethash\",\"X13\",\"Blake2b\",\"SHA-256\",\"X15\",\"X11\",\"SHA-256\",\"BLAKE256\",\"Scrypt\",\"1GB AES Pattern Search\",\"SHA-256\",\"X11\",\"Scrypt\",\"SHA-256\",\"SHA-256\",\"NIST5\",\"Scrypt\",\"Scrypt\",\"X11\",\"Dagger\",\"Scrypt\",\"X11GOST\",\"X11\",\"Scrypt\",\"SHA-256\",\"Scrypt\",\"PoS\",\"Scrypt\",\"X11\",\"X11\",\"SHA-256\",\"SHA-256\",\"NIST5\",\"X11\",\"Scrypt\",\"POS 3.0\",\"Scrypt\",\"Scrypt\",\"Scrypt\",\"X13\",\"X11\",\"X11\",\"Equihash\",\"X11\",\"Scrypt\",\"CryptoNight\",\"SHA-256\",\"SHA-256\",\"X11\",\"Scrypt\",\"Multiple\",\"Scrypt\",\"Scrypt\",\"Scrypt\",\"SHA-256\",\"Scrypt\",\"Scrypt\",\"SHA-256D\",\"PoS\",\"Scrypt\",\"X11\",\"Lyra2Z\",\"PoS\",\"X13\",\"X14\",\"PoS\",\"SHA-256D\",\"Ethash\",\"Equihash\",\"DPoS\",\"X11\",\"Scrypt\",\"X11\",\"X13\",\"X11\",\"PoS\",\"Scrypt\",\"Scrypt\",\"X11\",\"PoS\",\"X11\",\"SHA-256\",\"Scrypt\",\"X11\",\"Scrypt\",\"Scrypt\",\"X11\",\"CryptoNight\",\"Scrypt\",\"Scrypt\",\"Scrypt\",\"Scrypt\",\"Quark\",\"QuBit\",\"Scrypt\",\"CryptoNight\",\"Lyra2RE\",\"Scrypt\",\"SHA-256\",\"X11\",\"Scrypt\",\"X11\",\"Scrypt\",\"CryptoNight-V7\",\"Scrypt\",\"Scrypt\",\"Scrypt\",\"X13\",\"X11\",\"Equihash\",\"Scrypt\",\"Scrypt\",\"Lyra2RE\",\"Scrypt\",\"Dagger-Hashimoto\",\"X11\",\"Blake2S\",\"X11\",\"Scrypt\",\"PoS\",\"X11\",\"NIST5\",\"PoS\",\"X11\",\"Scrypt\",\"Scrypt\",\"Scrypt\",\"SHA-256\",\"X11\",\"Scrypt\",\"Scrypt\",\"SHA-256\",\"PoS\",\"Scrypt\",\"X15\",\"SHA-256\",\"Scrypt\",\"POS 3.0\",\"CryptoNight-V7\",\"536\",\"Argon2d\",\"Blake2b\",\"Cloverhash\",\"CryptoNight\",\"NIST5\",\"X11\",\"NIST5\",\"Skein\",\"Scrypt\",\"X13\",\"Scrypt\",\"X11\",\"X11\",\"Scrypt\",\"CryptoNight\",\"X13\",\"Time Travel\",\"Scrypt\",\"Keccak\",\"SkunkHash v2 Raptor\",\"X11\",\"Skein\",\"SHA-256\",\"X11\",\"Scrypt\",\"VeChainThor Authority\",\"Scrypt\",\"PoS\",\"Scrypt\",\"Scrypt\",\"Scrypt\",\"Scrypt\",\"Scrypt\",\"Scrypt\",\"Scrypt\",\"CryptoNight\",\"SHA-512\",\"Ouroboros\",\"X11\",\"Equihash\",\"NeoScrypt\",\"X11\",\"Scrypt\",\"NeoScrypt\",\"Lyra2REv2\",\"Equihash\",\"Scrypt\",\"SHA-256\",\"NIST5\",\"PHI1612\",\"Dagger\",\"Scrypt\",\"Quark\",\"Scrypt\",\"POS 2.0\",\"Scrypt\",\"SHA-256\",\"X11\",\"NeoScrypt\",\"Ethash\",\"NeoScrypt\",\"X11\",\"DPoS\",\"NIST5\",\"X13\",\"Multiple\",\"Scrypt\",\"CryptoNight\",\"CryptoNight\",\"Ethash\",\"NIST5\",\"Quark\",\"X11\",\"CryptoNight-V7\",\"Scrypt\",\"Scrypt\",\"Scrypt\",\"X11\",\"BLAKE256\",\"X11\",\"NeoScrypt\",\"Quark\",\"NeoScrypt\",\"Scrypt\",\"Scrypt\",\"Scrypt\",\"X11\",\"X11\",\"SHA-256\",\"C11\",\"POS 3.0\",\"Ethash\",\"Scrypt\",\"CryptoNight\",\"SkunkHash\",\"Scrypt\",\"CryptoNight\",\"Scrypt\",\"Dagger\",\"Lyra2REv2\",\"X13\",\"Proof-of-BibleHash\",\"SHA-256 + Hive\",\"Scrypt\",\"Scrypt\",\"X11\",\"C11\",\"Proof-of-Authority\",\"X11\",\"XEVAN\",\"Scrypt\",\"VBFT\",\"Ethash\",\"CryptoNight\",\"Scrypt\",\"IMesh\",\"NIST5\",\"Scrypt\",\"Scrypt\",\"Equihash\",\"Scrypt\",\"Lyra2Z\",\"Green Protocol\",\"PoS\",\"Scrypt\",\"Semux BFT consensus\",\"X11\",\"Quark\",\"PoS\",\"CryptoNight\",\"X16R\",\"Scrypt\",\"NIST5\",\"Lyra2RE\",\"XEVAN\",\"Tribus\",\"Scrypt\",\"Lyra2Z\",\"CryptoNight\",\"CryptoNight Heavy\",\"CryptoNight\",\"Scrypt\",\"Scrypt\",\"Jump Consistent Hash\",\"SHA-256D\",\"CryptoNight\",\"Scrypt\",\"X15\",\"Scrypt\",\"Quark\",\"SHA-256\",\"DPoS\",\"X16R\",\"HMQ1725\",\"X11\",\"X16R\",\"Quark\",\"Quark\",\"Scrypt\",\"Lyra2REv2\",\"Quark\",\"Scrypt\",\"Scrypt\",\"CryptoNight-V7\",\"Cryptonight-GPU\",\"XEVAN\",\"CryptoNight Heavy\",\"X11\",\"X11\",\"Scrypt\",\"PoS\",\"SHA-256\",\"Keccak\",\"X11\",\"X11\",\"Scrypt\",\"SHA-512\",\"X16R\",\"ECC 256K1\",\"Equihash\",\"XEVAN\",\"Lyra2Z\",\"SHA-256\",\"XEVAN\",\"X11\",\"CryptoNight\",\"Quark\",\"Blake\",\"Blake\",\"Equihash\",\"Exosis\",\"Scrypt\",\"Scrypt\",\"Equihash\",\"Quark\",\"Equihash\",\"Quark\",\"Scrypt\",\"QuBit\",\"X11\",\"Scrypt\",\"XEVAN\",\"SHA-256D\",\"X11\",\"SHA-256\",\"X13\",\"SHA-256\",\"X11\",\"DPoS\",\"Scrypt\",\"Scrypt\",\"X11\",\"NeoScrypt\",\"Scrypt\",\"Blake\",\"Scrypt\",\"SHA-256\",\"Scrypt\",\"X11\",\"Scrypt\",\"Scrypt\",\"SHA-256\",\"X11\",\"SHA-256\",\"Scrypt\",\"Scrypt\",\"Scrypt\",\"Groestl\",\"X11\",\"Scrypt\",\"PoS\",\"Scrypt\",\"Scrypt\",\"X11\",\"SHA-256\",\"DPoS\",\"Scrypt\",\"Scrypt\",\"NeoScrypt\",\"Multiple\",\"X13\",\"Equihash+Scrypt\",\"DPoS\",\"Ethash\",\"DPoS\",\"SHA-256\",\"Leased POS\",\"PoS\",\"TRC10\",\"PoS\",\"SHA-256\",\"Scrypt\",\"CryptoNight\",\"Equihash\",\"Scrypt\"],\"Class\":{\"__ndarray__\":\"AAAAAAAAAAAAAAAAAQAAAAEAAAABAAAAAAAAAAEAAAABAAAAAQAAAAAAAAABAAAAAAAAAAAAAAABAAAAAAAAAAEAAAABAAAAAAAAAAAAAAABAAAAAQAAAAEAAAABAAAAAQAAAAAAAAABAAAAAQAAAAEAAAAAAAAAAQAAAAAAAAABAAAAAQAAAAEAAAAAAAAAAQAAAAEAAAABAAAAAQAAAAEAAAABAAAAAAAAAAAAAAABAAAAAQAAAAEAAAABAAAAAQAAAAAAAAAAAAAAAQAAAAAAAAABAAAAAQAAAAEAAAABAAAAAAAAAAEAAAABAAAAAAAAAAEAAAAAAAAAAAAAAAAAAAABAAAAAQAAAAEAAAAAAAAAAAAAAAAAAAAAAAAAAAAAAAEAAAABAAAAAQAAAAAAAAAAAAAAAQAAAAAAAAABAAAAAAAAAAAAAAABAAAAAQAAAAEAAAABAAAAAAAAAAAAAAABAAAAAAAAAAEAAAABAAAAAAAAAAAAAAABAAAAAAAAAAAAAAABAAAAAQAAAAEAAAAAAAAAAQAAAAAAAAAAAAAAAQAAAAAAAAABAAAAAAAAAAEAAAAAAAAAAQAAAAAAAAAAAAAAAQAAAAEAAAAAAAAAAQAAAAEAAAABAAAAAAAAAAEAAAABAAAAAQAAAAEAAAABAAAAAAAAAAAAAAABAAAAAQAAAAEAAAAAAAAAAQAAAAAAAAABAAAAAQAAAAAAAAABAAAAAAAAAAEAAAAAAAAAAAAAAAEAAAABAAAAAAAAAAEAAAABAAAAAAAAAAAAAAABAAAAAAAAAAEAAAAAAAAAAAAAAAAAAAABAAAAAQAAAAEAAAABAAAAAAAAAAAAAAAAAAAAAAAAAAAAAAABAAAAAQAAAAAAAAAAAAAAAAAAAAAAAAAAAAAAAQAAAAAAAAAAAAAAAAAAAAAAAAAAAAAAAQAAAAAAAAABAAAAAAAAAAAAAAABAAAAAAAAAAEAAAAAAAAAAAAAAAEAAAAAAAAAAQAAAAAAAAABAAAAAAAAAAEAAAAAAAAAAAAAAAAAAAAAAAAAAQAAAAAAAAAAAAAAAAAAAAAAAAAAAAAAAQAAAAEAAAAAAAAAAAAAAAEAAAABAAAAAAAAAAAAAAAAAAAAAAAAAAAAAAABAAAAAAAAAAAAAAAAAAAAAAAAAAAAAAAAAAAAAAAAAAAAAAABAAAAAAAAAAAAAAAAAAAAAAAAAAAAAAAAAAAAAQAAAAEAAAABAAAAAAAAAAAAAAAAAAAAAAAAAAEAAAAAAAAAAQAAAAAAAAAAAAAAAQAAAAAAAAABAAAAAQAAAAAAAAABAAAAAQAAAAAAAAABAAAAAAAAAAAAAAAAAAAAAQAAAAAAAAAAAAAAAQAAAAAAAAAAAAAAAAAAAAAAAAAAAAAAAAAAAAAAAAABAAAAAAAAAAEAAAAAAAAAAAAAAAAAAAAAAAAAAQAAAAAAAAABAAAAAAAAAAEAAAABAAAAAQAAAAEAAAAAAAAAAQAAAAAAAAAAAAAAAQAAAAAAAAABAAAAAQAAAAEAAAAAAAAAAQAAAAAAAAABAAAAAQAAAAEAAAAAAAAAAQAAAAAAAAABAAAAAAAAAAAAAAADAAAAAQAAAAAAAAABAAAAAQAAAAEAAAABAAAAAQAAAAAAAAAAAAAAAQAAAAAAAAAAAAAAAAAAAAEAAAAAAAAAAQAAAAAAAAABAAAAAAAAAAEAAAAAAAAAAAAAAAAAAAAAAAAAAQAAAAAAAAAAAAAAAQAAAAAAAAAAAAAAAAAAAAEAAAABAAAAAQAAAAEAAAAAAAAAAAAAAAAAAAAAAAAAAQAAAAAAAAABAAAAAQAAAAEAAAAAAAAAAAAAAAEAAAABAAAAAAAAAAAAAAABAAAAAAAAAAEAAAABAAAAAQAAAAAAAAABAAAAAQAAAAAAAAAAAAAAAAAAAAEAAAABAAAAAQAAAAAAAAAAAAAAAAAAAAEAAAABAAAAAAAAAAEAAAABAAAAAQAAAAEAAAAAAAAAAwAAAAAAAAABAAAAAQAAAAEAAAAAAAAAAwAAAAAAAAAAAAAAAAAAAAAAAAABAAAAAQAAAAEAAAABAAAAAAAAAAAAAAAAAAAAAQAAAAAAAAABAAAAAAAAAAAAAAAAAAAAAAAAAAEAAAAAAAAAAAAAAAEAAAAAAAAAAAAAAAEAAAABAAAAAAAAAAEAAAAAAAAAAQAAAAEAAAABAAAAAQAAAAAAAAAAAAAAAQAAAAAAAAABAAAAAAAAAAAAAAAAAAAAAAAAAAAAAAAAAAAAAQAAAAEAAAABAAAAAAAAAAAAAAAAAAAAAAAAAAAAAAAAAAAAAQAAAAAAAAABAAAAAQAAAAEAAAABAAAAAAAAAAAAAAAAAAAAAAAAAAEAAAAAAAAAAAAAAAEAAAAAAAAAAAAAAAEAAAADAAAAAQAAAAAAAAABAAAAAQAAAAAAAAAAAAAAAQAAAAAAAAABAAAAAQAAAAEAAAABAAAAAQAAAAAAAAABAAAAAAAAAAEAAAAAAAAAAAAAAAEAAAAAAAAAAAAAAAAAAAAAAAAAAAAAAAEAAAABAAAAAQAAAAAAAAAAAAAAAAAAAAEAAAAAAAAAAQAAAAAAAAABAAAAAAAAAAAAAAAAAAAAAAAAAAEAAAAAAAAAAAAAAAAAAAABAAAAAAAAAAEAAAAAAAAAAQAAAAAAAAAAAAAAAAAAAAEAAAABAAAAAAAAAAAAAAAAAAAAAAAAAAAAAAAAAAAAAQAAAAAAAAABAAAAAAAAAAEAAAAAAAAAAAAAAAAAAAAAAAAAAgAAAAAAAAAAAAAAAAAAAAEAAAABAAAAAAAAAA==\",\"dtype\":\"int32\",\"order\":\"little\",\"shape\":[532]},\"CoinName\":[\"42 Coin\",\"404Coin\",\"EliteCoin\",\"Bitcoin\",\"Ethereum\",\"Litecoin\",\"Dash\",\"Monero\",\"Ethereum Classic\",\"ZCash\",\"Bitshares\",\"DigiByte\",\"BitcoinDark\",\"PayCoin\",\"ProsperCoin\",\"KoboCoin\",\"Spreadcoin\",\"Argentum\",\"Aurora Coin\",\"BlueCoin\",\"MyriadCoin\",\"MoonCoin\",\"ZetaCoin\",\"SexCoin\",\"Quatloo\",\"EnergyCoin\",\"QuarkCoin\",\"Riecoin\",\"Digitalcoin \",\"BitBar\",\"Catcoin\",\"CryptoBullion\",\"CannaCoin\",\"CryptCoin\",\"CasinoCoin\",\"Diamond\",\"Verge\",\"DevCoin\",\"EarthCoin\",\"E-Gulden\",\"Einsteinium\",\"Emerald\",\"Exclusive Coin\",\"FlutterCoin\",\"Franko\",\"FeatherCoin\",\"GrandCoin\",\"GlobalCoin\",\"GoldCoin\",\"HoboNickels\",\"HyperStake\",\"Infinite Coin\",\"IOCoin\",\"IXcoin\",\"KrugerCoin\",\"LuckyCoin\",\"Litebar \",\"MaxCoin\",\"MegaCoin\",\"MediterraneanCoin\",\"MintCoin\",\"MinCoin\",\"MazaCoin\",\"Nautilus Coin\",\"NavCoin\",\"NobleCoin\",\"Namecoin\",\"NyanCoin\",\"OpalCoin\",\"Orbitcoin\",\"PotCoin\",\"PhoenixCoin\",\"Reddcoin\",\"RonPaulCoin\",\"StableCoin\",\"SmartCoin\",\"SuperCoin\",\"SyncCoin\",\"SysCoin\",\"TeslaCoin\",\"TigerCoin\",\"TittieCoin\",\"TorCoin\",\"TerraCoin\",\"UnbreakableCoin\",\"Unobtanium\",\"UroCoin\",\"UnitaryStatus Dollar\",\"UltraCoin\",\"ViaCoin\",\"VeriCoin\",\"Vertcoin\",\"WorldCoin\",\"X11 Coin\",\"Crypti\",\"JouleCoin\",\"StealthCoin\",\"ZCC Coin\",\"ByteCoin\",\"DigitalNote \",\"BurstCoin\",\"StorjCoin\",\"MonaCoin\",\"Neutron\",\"FairCoin\",\"Gulden\",\"RubyCoin\",\"PesetaCoin\",\"Kore\",\"Wild Beast Coin\",\"Dnotes\",\"Flo\",\"8BIT Coin\",\"Sativa Coin\",\"ArtByte\",\"Folding Coin\",\"Ucoin\",\"Unitus\",\"CypherPunkCoin\",\"OmniCron\",\"Vtorrent\",\"GreenCoin\",\"Cryptonite\",\"MasterCoin\",\"SoonCoin\",\"1Credit\",\"IslaCoin\",\"Nexus\",\"MarsCoin \",\"Crypto\",\"Anarchists Prime\",\"Droidz\",\"BowsCoin\",\"Squall Coin\",\"Song Coin\",\"BitZeny\",\"Diggits\",\"Expanse\",\"Paycon\",\"Siacoin\",\"Emercoin\",\"EverGreenCoin\",\"MindCoin\",\"I0coin\",\"Decred\",\"Revolution VR\",\"HOdlcoin\",\"EDRCoin\",\"Hitcoin\",\"Gamecredits\",\"DubaiCoin\",\"CarpeDiemCoin\",\"PWR Coin\",\"BillaryCoin\",\"GPU Coin\",\"Adzcoin\",\"SoilCoin\",\"YoCoin\",\"SibCoin\",\"EuropeCoin\",\"ZeitCoin\",\"SwingCoin\",\"SafeExchangeCoin\",\"Nebuchadnezzar\",\"Francs\",\"BolivarCoin\",\"Ratecoin\",\"Revenu\",\"Clockcoin\",\"VIP Tokens\",\"BitSend\",\"Omni\",\"Let it Ride\",\"PutinCoin\",\"iBankCoin\",\"Frankywillcoin\",\"MudraCoin\",\"PizzaCoin\",\"Lutetium Coin\",\"Komodo\",\"GoldBlocks\",\"CarterCoin\",\"Karbo\",\"BitTokens\",\"ZayedCoin\",\"MustangCoin\",\"ZoneCoin\",\"Circuits of Value\",\"RootCoin\",\"DopeCoin\",\"BitCurrency\",\"DollarCoin\",\"Swiscoin\",\"Shilling\",\"BuzzCoin\",\"Opair\",\"PesoBit\",\"Halloween Coin\",\"ZCoin\",\"CoffeeCoin\",\"RoyalCoin\",\"GanjaCoin V2\",\"TeamUP\",\"LanaCoin\",\"Elementrem\",\"ZClassic\",\"ARK\",\"InsaneCoin\",\"KiloCoin\",\"ArtexCoin\",\"EmberCoin\",\"XenixCoin\",\"FreeCoin\",\"PLNCoin\",\"AquariusCoin\",\"Kurrent\",\"Creatio\",\"Eternity\",\"Eurocoin\",\"BitcoinFast\",\"Stakenet\",\"BitConnect Coin\",\"MoneyCoin\",\"Enigma\",\"Cannabis Industry Coin\",\"Russiacoin\",\"PandaCoin\",\"GameUnits\",\"GAKHcoin\",\"Allsafe\",\"LiteCreed\",\"OsmiumCoin\",\"Bikercoins\",\"HexxCoin\",\"Klingon Empire Darsek\",\"Internet of People\",\"KushCoin\",\"Printerium\",\"PacCoin\",\"Impeach\",\"Citadel\",\"Zilbercoin\",\"FirstCoin\",\"BeaverCoin\",\"FindCoin\",\"VaultCoin\",\"Zero\",\"OpenChat\",\"Canada eCoin\",\"Zoin\",\"RenosCoin\",\"DubaiCoin\",\"VirtacoinPlus\",\"TajCoin\",\"Impact\",\"EB3coin\",\"Atmos\",\"HappyCoin\",\"Coinonat\",\"MacronCoin\",\"Condensate\",\"Independent Money System\",\"ArgusCoin\",\"LomoCoin\",\"ProCurrency\",\"GoldReserve\",\"BenjiRolls\",\"GrowthCoin\",\"ILCoin\",\"Phreak\",\"Degas Coin\",\"HTML5 Coin\",\"Ultimate Secure Cash\",\"EquiTrader\",\"QTUM\",\"Quantum Resistant Ledger\",\"Espers\",\"Dynamic\",\"Nano\",\"ChanCoin\",\"Dinastycoin\",\"Denarius\",\"DigitalPrice\",\"Virta Unique Coin\",\"Bitcoin Planet\",\"Unify\",\"BritCoin\",\"SocialCoin\",\"ArcticCoin\",\"DAS\",\"Linda\",\"LeviarCoin\",\"DeepOnion\",\"Bitcore\",\"gCn Coin\",\"SmartCash\",\"Signatum\",\"Onix\",\"Cream\",\"Bitcoin Cash\",\"Monoeci\",\"Draftcoin\",\"Vechain\",\"Sojourn Coin\",\"Stakecoin\",\"NewYorkCoin\",\"FrazCoin\",\"Kronecoin\",\"AdCoin\",\"Linx\",\"CoinonatX\",\"Ethereum Dark\",\"Sumokoin\",\"Obsidian\",\"Cardano\",\"Regalcoin\",\"BitcoinZ\",\"TrezarCoin\",\"Elements\",\"TerraNovaCoin\",\"VIVO Coin\",\"Rupee\",\"Bitcoin Gold\",\"WomenCoin\",\"Theresa May Coin\",\"NamoCoin\",\"LUXCoin\",\"Pirl\",\"Xios\",\"Bitcloud 2.0\",\"eBoost\",\"KekCoin\",\"BlackholeCoin\",\"Infinity Economics\",\"Pura\",\"Innova\",\"Ellaism\",\"GoByte\",\"Magnet\",\"Lamden Tau\",\"Electra\",\"Bitcoin Diamond\",\"SHIELD\",\"Cash & Back Coin\",\"UltraNote\",\"BitCoal\",\"DaxxCoin\",\"Bulwark\",\"Kalkulus\",\"AC3\",\"Lethean\",\"GermanCoin\",\"LiteCoin Ultra\",\"PopularCoin\",\"PhantomX\",\"Photon\",\"Sucre\",\"SparksPay\",\"Digiwage\",\"GunCoin\",\"IrishCoin\",\"Trollcoin\",\"Litecoin Plus\",\"Monkey Project\",\"Pioneer Coin\",\"UnitedBitcoin\",\"Interzone\",\"TokenPay\",\"1717 Masonic Commemorative Token\",\"My Big Coin\",\"TurtleCoin\",\"MUNcoin\",\"Unified Society USDEX\",\"Niobio Cash\",\"ShareChain\",\"Travelflex\",\"KREDS\",\"Tokyo Coin\",\"BiblePay\",\"LitecoinCash\",\"BitFlip\",\"LottoCoin\",\"Crypto Improvement Fund\",\"Stipend\",\"Poa Network\",\"Pushi\",\"Ellerium\",\"Velox\",\"Ontology\",\"Callisto Network\",\"BitTube\",\"Poseidon\",\"Aidos Kuneen\",\"Bitspace\",\"Briacoin\",\"Ignition\",\"Bitrolium\",\"MedicCoin\",\"Alpenschillling\",\"Bitcoin Green\",\"Deviant Coin\",\"Abjcoin\",\"Semux\",\"FuturoCoin\",\"Carebit\",\"Zealium\",\"Monero Classic\",\"Proton\",\"iDealCash\",\"Jumpcoin\",\"Infinex\",\"Bitcoin Incognito\",\"KEYCO\",\"HollyWoodCoin\",\"GINcoin\",\"PlatinCoin\",\"Loki\",\"Newton Coin\",\"Swisscoin\",\"Xt3ch\",\"MassGrid\",\"TheVig\",\"PluraCoin\",\"EmaratCoin\",\"Dekado\",\"Lynx\",\"Poseidon Quark\",\"BitcoinWSpectrum\",\"Muse\",\"Motion\",\"PlusOneCoin\",\"Axe\",\"Trivechain\",\"Dystem\",\"Giant\",\"Peony Coin\",\"Absolute Coin\",\"Vitae\",\"HexCoin\",\"TPCash\",\"Webchain\",\"Ryo\",\"Urals Coin\",\"Qwertycoin\",\"ARENON\",\"EUNO\",\"MMOCoin\",\"Ketan\",\"Project Pai\",\"XDNA\",\"PAXEX\",\"Azart\",\"ThunderStake\",\"Kcash\",\"Xchange\",\"Acute Angle Cloud\",\"CrypticCoin\",\"Bettex coin\",\"Actinium\",\"Bitcoin SV\",\"BitMoney\",\"Junson Ming Chan Coin\",\"FREDEnergy\",\"HerbCoin\",\"Universal Molecule\",\"Lithium\",\"PirateCash\",\"Exosis\",\"Block-Logic\",\"Oduwa\",\"Beam\",\"Galilel\",\"Bithereum\",\"Crypto Sports\",\"Credit\",\"SLICE\",\"Dash Platinum\",\"Nasdacoin\",\"Beetle Coin\",\"Titan Coin\",\"Award\",\"BLAST\",\"Bitcoin Rhodium\",\"GlobalToken\",\"Insane Coin\",\"ALAX\",\"LiteDoge\",\"SolarCoin\",\"TruckCoin\",\"UFO Coin\",\"OrangeCoin\",\"BlakeCoin\",\"BitstarCoin\",\"NeosCoin\",\"HyperCoin\",\"PinkCoin\",\"Crypto Escudo\",\"AudioCoin\",\"IncaKoin\",\"Piggy Coin\",\"Crown Coin\",\"Genstake\",\"SmileyCoin\",\"XiaoMiCoin\",\"Groestlcoin\",\"CapriCoin\",\" ClubCoin\",\"Radium\",\"Bata\",\"Pakcoin\",\"Creditbit \",\"OKCash\",\"Lisk\",\"HiCoin\",\"WhiteCoin\",\"FriendshipCoin\",\"JoinCoin\",\"Triangles Coin\",\"Vollar\",\"EOS\",\"Reality Clash\",\"Oxycoin\",\"TigerCash\",\"Waves\",\"Particl\",\"BitTorrent\",\"Nxt\",\"ZEPHYR\",\"Gapcoin\",\"Beldex\",\"Horizen\",\"BitcoinPlus\"],\"ProofType\":[\"PoW/PoS\",\"PoW/PoS\",\"PoW/PoS\",\"PoW\",\"PoW\",\"PoW\",\"PoW/PoS\",\"PoW\",\"PoW\",\"PoW\",\"PoS\",\"PoW\",\"PoW/PoS\",\"PoS\",\"PoW\",\"PoW/PoS\",\"PoW\",\"PoW\",\"PoW/PoS\",\"PoW/PoS\",\"PoW\",\"PoW\",\"PoW\",\"PoW\",\"PoW\",\"PoW/PoS\",\"PoW\",\"PoW\",\"PoW\",\"PoW/PoS\",\"PoW\",\"PoW/PoS\",\"PoW\",\"PoW\",\"PoC\",\"PoW/PoS\",\"PoW\",\"PoW\",\"PoW\",\"PoW\",\"PoW\",\"PoW\",\"PoS\",\"PoS/PoW/PoT\",\"PoW\",\"PoW\",\"PoW\",\"PoW\",\"PoW\",\"PoW/PoS\",\"PoS\",\"PoW\",\"PoW/PoS\",\"PoW\",\"PoW\",\"PoW\",\"PoW\",\"PoW/PoS\",\"PoW\",\"PoW\",\"PoS\",\"PoW\",\"PoW/PoS\",\"PoS\",\"PoW/PoS\",\"PoW\",\"PoW\",\"PoW\",\"PoW/PoS\",\"PoW/PoS\",\"PoW/PoS\",\"PoW/PoS\",\"PoW/PoS\",\"PoW\",\"PoW\",\"PoW\",\"PoS\",\"PoW/PoS\",\"PoW\",\"PoS\",\"PoW\",\"PoS\",\"PoW/PoS\",\"PoW\",\"PoW\",\"PoW\",\"PoW\",\"PoW/PoS\",\"PoW/PoS\",\"PoW\",\"PoST\",\"PoW\",\"PoW\",\"PoW/PoS\",\"PoS\",\"PoW\",\"PoW/PoS\",\"PoW/PoS\",\"PoW\",\"PoW\",\"PoC\",\"PoS\",\"PoW\",\"PoW/PoS\",\"PoW/PoS\",\"PoW\",\"PoS\",\"PoW\",\"PoW/PoS\",\"PoW\",\"PoS\",\"PoW\",\"PoW/PoS\",\"PoW/PoS\",\"PoW\",\"PoW\",\"PoS\",\"PoW\",\"PoW\",\"PoW\",\"PoW/PoS\",\"PoW\",\"PoW\",\"PoW\",\"PoW\",\"PoW\",\"PoW/PoS\",\"PoW/nPoS\",\"PoW\",\"PoW\",\"PoW\",\"PoW/PoS\",\"PoW\",\"PoS/PoW\",\"PoW\",\"PoW\",\"PoS\",\"PoW\",\"PoW/PoS\",\"PoW\",\"PoW/PoS\",\"PoW/PoS\",\"PoW\",\"PoW\",\"PoW/PoS\",\"PoW\",\"PoW\",\"PoW/PoS\",\"PoW/PoS\",\"PoW\",\"PoW/PoS\",\"PoW\",\"PoW/PoS\",\"PoW/PoS\",\"PoS\",\"PoW\",\"PoW\",\"PoW\",\"PoW\",\"PoW/PoS\",\"PoS\",\"PoW/PoS\",\"PoC\",\"PoS\",\"PoW\",\"PoW\",\"PoW/PoS\",\"PoW/PoS\",\"PoW/PoS\",\"PoW/PoS\",\"PoW/PoS\",\"PoW\",\"PoS\",\"PoW/PoS\",\"PoW/PoS\",\"PoW/PoS\",\"PoS\",\"PoW\",\"PoS\",\"dPoW/PoW\",\"PoW/PoS\",\"PoW/PoS\",\"PoW\",\"PoW/PoS\",\"PoW\",\"PoW/PoS\",\"PoW/PoS\",\"PoW\",\"PoW/PoS\",\"PoW\",\"PoS\",\"PoW\",\"PoW/PoW\",\"PoW\",\"PoW/PoS\",\"PoS\",\"PoW/PoS\",\"PoW/PoS\",\"PoW\",\"PoS\",\"PoS\",\"PoW/PoS\",\"PoS\",\"PoW/PoS\",\"PoW\",\"PoW\",\"DPoS\",\"PoW/PoS\",\"PoW\",\"PoW\",\"PoW/PoS\",\"PoW/PoS\",\"PoS\",\"PoW/PoS\",\"PoW/PoS\",\"PoW\",\"PoS\",\"PoW/PoS\",\"PoW/PoS\",\"PoW/PoS\",\"TPoS\",\"PoW/PoS\",\"PoW/PoS\",\"PoW/PoS\",\"PoW\",\"PoW/PoS\",\"PoS\",\"PoW/PoS\",\"PoW/PoS\",\"PoS\",\"PoW/PoS\",\"PoW\",\"PoW\",\"PoW\",\"PoW/PoS\",\"PoW/PoS\",\"PoW/PoS\",\"PoW/PoS\",\"PoW\",\"PoW/PoS\",\"PoW\",\"PoS\",\"PoW/PoS \",\"PoW\",\"PoS\",\"PoW\",\"PoW\",\"PoW/PoS\",\"PoW\",\"PoW\",\"PoS\",\"PoW\",\"PoW/PoS\",\"PoW/PoS\",\"PoW/PoS\",\"PoW\",\"PoS\",\"PoW/PoS\",\"PoW\",\"PoS\",\"PoW/PoS\",\"PoW/PoS\",\"PoW/PoS\",\"PoW/PoS\",\"PoS\",\"PoW/PoS\",\"PoW\",\"PoS\",\"PoW\",\"PoS\",\"PoW/PoS\",\"PoW/PoS\",\"PoS\",\"PoW\",\"PoS\",\"PoW\",\"PoW/PoS\",\"PoW\",\"PoW\",\"PoW\",\"PoW\",\"PoW/PoS\",\"PoW\",\"PoW/PoS\",\"PoW/PoS\",\"PoW\",\"PoW/PoS\",\"PoW\",\"PoW\",\"PoW\",\"PoW/PoS\",\"PoW\",\"PoW/PoS\",\"PoW\",\"PoW\",\"PoW\",\"PoS\",\"PoW\",\"PoW/PoS\",\"PoW\",\"PoW/PoS\",\"PoS\",\"Proof of Authority\",\"PoW\",\"PoS\",\"PoW\",\"PoW\",\"PoW\",\"PoW\",\"PoW\",\"PoW/PoS\",\"PoW/PoS\",\"PoW\",\"PoS\",\"PoS\",\"PoW/PoS\",\"PoW\",\"PoW/PoS\",\"PoW\",\"PoW/PoS\",\"PoW\",\"PoS\",\"PoW\",\"PoW/PoS\",\"PoW/PoS\",\"PoW/PoS\",\"PoW/PoS\",\"PoW\",\"PoW/PoS\",\"PoW/PoS\",\"PoW\",\"PoS\",\"PoW/PoS\",\"PoS\",\"PoW\",\"PoW\",\"PoW\",\"PoW\",\"PoW/PoS\",\"DPoS\",\"PoW/PoS\",\"PoW/PoS\",\"PoW\",\"PoW/PoS\",\"PoW\",\"PoW\",\"PoW\",\"PoS\",\"PoS\",\"PoW\",\"PoW\",\"PoW/PoS\",\"PoW/PoS\",\"PoW\",\"PoW/PoS\",\"PoW\",\"PoW\",\"PoW\",\"PoS\",\"PoW\",\"PoW\",\"PoW/PoS\",\"PoW/PoS\",\"PoS\",\"PoW\",\"PoW\",\"PoW\",\"PoS\",\"PoS\",\"PoW and PoS\",\"PoW\",\"PoW\",\"PoW/PoS\",\"PoW\",\"PoW\",\"PoW\",\"PoW\",\"PoS\",\"POBh\",\"PoW + Hive\",\"PoW\",\"PoW\",\"PoW\",\"PoW/PoS\",\"PoA\",\"PoW/PoS\",\"PoW/PoS\",\"PoS\",\"PoS\",\"PoW\",\"PoW\",\"PoW\",\"PoW\",\"PoW/PoS\",\"PoW/PoS\",\"PoW/PoS\",\"PoW\",\"PoS\",\"PoW\",\"PoS\",\"PoS\",\"PoW/PoS\",\"DPoS\",\"PoW\",\"PoW/PoS\",\"PoS\",\"PoW\",\"PoS\",\"PoW/PoS\",\"PoW\",\"PoW\",\"PoS/PoW\",\"PoW\",\"PoS\",\"PoW\",\"PoW\",\"PoW\",\"PoW\",\"PoW/PoS\",\"PoS\",\"PoW\",\"PoW/PoS\",\"PoW\",\"PoW/PoS\",\"PoS\",\"HPoW\",\"PoS\",\"PoS\",\"PoS\",\"PoW\",\"PoW\",\"PoW\",\"PoW/PoS\",\"PoS\",\"PoW/PoS\",\"PoS\",\"PoW/PoS\",\"PoS\",\"PoW\",\"PoW/PoS\",\"PoW\",\"PoW\",\"PoW\",\"PoW\",\"PoS\",\"PoW/PoS\",\"PoS\",\"PoS\",\"PoW\",\"PoW/PoS\",\"PoS\",\"PoW\",\"PoW/PoS\",\"Zero-Knowledge Proof\",\"PoW\",\"DPOS\",\"PoW\",\"PoS\",\"PoW\",\"PoW\",\"Pos\",\"PoS\",\"PoW\",\"PoW/PoS\",\"PoW\",\"PoW\",\"PoS\",\"PoW\",\"PoW\",\"PoW/PoS\",\"PoW\",\"PoW/PoS\",\"PoW\",\"PoS\",\"PoW/PoS\",\"PoW\",\"PoS\",\"PoW/PoS\",\"PoW/PoS\",\"PoW/PoS\",\"PoW/PoS\",\"PoW\",\"PoW\",\"PoW\",\"PoW/PoS\",\"DPoS\",\"PoW/PoS\",\"PoW\",\"PoW/PoS\",\"PoW\",\"PoW/PoS\",\"PoW\",\"PoW/PoS\",\"PoS\",\"PoW/PoS\",\"PoW/PoS\",\"PoW\",\"PoW/PoS\",\"PoW/PoS\",\"PoW/PoS\",\"PoW\",\"PoW/PoS\",\"PoW\",\"PoW/PoS\",\"PoW\",\"PoW/PoS\",\"PoW/PoS\",\"PoS\",\"PoW\",\"PoW\",\"Proof of Trust\",\"PoW/PoS\",\"DPoS\",\"PoS\",\"PoW/PoS\",\"PoW/PoS\",\"PoW\",\"PoW/PoS\",\"PoW\",\"DPoS\",\"PoW\",\"DPoS\",\"PoS\",\"LPoS\",\"PoS\",\"DPoS\",\"PoS/LPoS\",\"DPoS\",\"PoW/PoS\",\"PoW\",\"PoW\",\"PoS\"],\"TotalCoinSupply\":[\"42\",\"532000000\",\"314159265359\",\"21000000\",\"0\",\"84000000\",\"22000000\",\"0\",\"210000000\",\"21000000\",\"3600570502\",\"21000000000\",\"22000000\",\"12500000\",\"21000000\",\"350000000\",\"20000000\",\"64000000\",\"16768584\",\"0\",\"2000000000\",\"384000000000\",\"169795588\",\"250000000\",\"100000000\",\"0\",\"247000000\",\"84000000\",\"48166000\",\"500000\",\"21000000 \",\"1000000\",\"13140000\",\"18000000\",\"40000000000\",\"4380000\",\"16555000000\",\"21000000000\",\"13500000000\",\"21000000 \",\"299792458\",\"32000000\",\"0\",\"0\",\"11235813\",\"336000000\",\"1420609614\",\"70000000\",\"72245700\",\"120000000\",\"0\",\"90600000000\",\"22000000\",\"21000000\",\"265420800\",\"20000000\",\"1350000\",\"100000000\",\"42000000\",\"200000000\",\"0\",\"10000000\",\"2419200000\",\"16180000\",\"0\",\"15000000000\",\"21000000\",\"337000000\",\"0\",\"3770000\",\"420000000\",\"98000000\",\"0\",\"21000000\",\"250000000\",\"51200000\",\"0\",\"1000\",\"888000000\",\"100000000\",\"47011968\",\"2300000000\",\"10000000\",\"42000000\",\"80000000\",\"250000\",\"0\",\"1600000000\",\"100000000\",\"23000000\",\"0\",\"84000000\",\"265420800\",\"5500000\",\"0\",\"45000000\",\"0\",\"1000000000\",\"184467440735\",\"10000000000\",\"2158812800\",\"500000000\",\"105120000\",\"68000000\",\"0\",\"1680000000\",\"0\",\"166386000\",\"12000000\",\"2628000\",\"500000000\",\"160000000\",\"0\",\"10000000\",\"1000000000\",\"1000000000\",\"20000000\",\"0\",\"0\",\"3371337\",\"20000000\",\"10000000000\",\"1840000000\",\"619478\",\"21000000\",\"92000000000\",\"0\",\"78000000\",\"33000000\",\"65789100\",\"53760000\",\"5060000\",\"21000000\",\"0\",\"210240000\",\"250000000\",\"100000000\",\"16906397\",\"50000000\",\"0\",\"1000000000\",\"26298000\",\"16000000\",\"21000000\",\"21000000\",\"210000000\",\"81962100\",\"22000000\",\"26550000000\",\"84000000\",\"10500000\",\"21626280000 \",\"0\",\"42000000\",\"221052632\",\"84000000\",\"30000000\",\"168351300\",\"24000000\",\"384000000\",\" 99000000000\",\"40000000\",\"2147483647\",\"20000000\",\"20000000\",\"25000000\",\"75000000\",\"222725000\",\"525000000\",\"90000000\",\"139000000\",\"616448\",\"33500000\",\"2000000000\",\"44333333\",\"100000000\",\"200000000\",\"25000000\",\"657000000\",\"200000000\",\"50000000\",\"90000000\",\"10000000\",\"21000000\",\"9736000\",\"3000000\",\"21000000\",\"1200000000\",\"0\",\"200000000\",\"0\",\"10638298\",\"3100000000\",\"30000000\",\"20000000000\",\"74000000\",\"0\",\"1500000000\",\"21400000\",\"39999898\",\"2500124\",\"100000000\",\"301000000\",\"7506000000\",\"26205539\",\"21000000\",\"125000000\",\"30000000\",\"10000000000\",\"500000000\",\"850000000\",\"3853326.77707314\",\"50000000\",\"38540000 \",\"42000000\",\"228000000\",\"20000000\",\"60000000\",\"20000000\",\"33000000\",\"76500000\",\"28000000\",\"650659833\",\"5000000\",\"21000000\",\"144000000\",\"32514916898\",\"13000000\",\"3315789\",\"15000000\",\"78835200\",\"2714286\",\"25000000\",\"9999999\",\"500000000\",\"21000000\",\"9354000\",\"20000000\",\"100000000000\",\"21933333\",\"185000000\",\"55000000\",\"110000000\",\"3360000\",\"14524851.4827\",\"1000000000\",\"17000000\",\"1000000000\",\"100000000 \",\"21000000\",\"34426423\",\"2232901\",\"100000000\",\"36900000\",\"110000000\",\"4000000000\",\"110290030\",\"100000000\",\"48252000\",\"400000000\",\"500000000\",\"21212121\",\"28600000\",\"1000000000\",\"75000000000\",\"40000000\",\"35520400\",\"2000000000\",\"2500000000\",\"30000000\",\"105000000\",\"90000000000\",\"200084200\",\"72000000\",\"100000000\",\"105000000\",\"50000000000\",\"0\",\"340282367\",\"30000000\",\"2000000000\",\"10000000\",\"100000000\",\"120000000\",\"100000000\",\"19276800\",\"30000000\",\" 75000000\",\"60000000\",\"18900000\",\"50000000000\",\"54000000\",\"18898187.6216583\",\"21000000\",\"200000000000\",\"5000000000\",\"137500000\",\"1100000000\",\"100000000\",\"21000000\",\"9507271\",\"17405891.19707116\",\"86712634466\",\"10500000000\",\"61599965\",\"0\",\"20000000\",\"84000000\",\"100000000\",\"100000000\",\"48252000\",\"4200000\",\"88888888\",\"91388946\",\"45000000000\",\"27000000\",\"21000000000\",\"400000000\",\"1800000000\",\"15733333\",\"27000000\",\"24000000\",\"21000000\",\"25000000000\",\"100000000\",\"1200000000\",\"60000000\",\"156306732.71\",\"21000000\",\"200000000\",\"100000000\",\"21000000\",\"14788275.991\",\"9000000000\",\"350000000\",\"45000000\",\"280000000\",\"31800000\",\"144000000\",\"500000000\",\"30000000000\",\"210000000\",\"660000000\",\"210000000\",\"85000000000\",\"12500000\",\"10000000000\",\"27716121\",\"20000000\",\"550000000\",\"999481516\",\"50000000000\",\"150000000\",\"4999999999\",\"50000000\",\" 90000000000\",\"19800000\",\"21000000\",\"120000000\",\"500000000\",\"64000000\",\"900000000\",\"4000000\",\"21000000\",\"23000000\",\"20166000\",\"23000000\",\"25000000\",\"1618033\",\"30000000\",\"1000000000000\",\"16600000\",\"232000000\",\"336000000\",\"10000000000\",\"100000000\",\"1100000000\",\"800000000\",\"5200000000\",\"840000000\",\"40000000\",\"18406979840\",\"500000000\",\"19340594\",\"252460800\",\"25000000\",\"60000000\",\"124000000\",\"1000000000\",\"6500000000\",\"1000000000\",\"21000000\",\"25000000\",\"50000000\",\"3000000\",\"5000000\",\"70000000\",\"500000000\",\"300000000\",\"21000000\",\"88000000\",\"30000000\",\"100000000\",\"100000000\",\"200000000\",\"80000000\",\"18400000\",\"45000000\",\"5121951220\",\"21000000\",\"26280000\",\"21000000\",\"18000000\",\"26000000\",\"10500000\",\"600000518\",\"150000000\",\"184000000000\",\"10200000000\",\"44000000\",\"168000000\",\"100000000\",\"1000000000\",\"84000000\",\"90000000\",\"92000000000\",\"650000000 \",\"100262205\",\"18081806 \",\"22075700\",\"21000000\",\"21000000\",\"82546564\",\"21000000\",\"5151000\",\"16880000000\",\"52500000\",\"100000000\",\"22105263\",\"1000000000\",\"1750000000\",\"88188888\",\"210000000\",\"184470000000\",\"55000000\",\"50000000\",\"260000000\",\"210000000\",\"2100000000\",\"366000000\",\"100000000\",\"25000000\",\"18000000000\",\"1000000000\",\"100000000\",\"1000000000\",\"7600000000\",\"50000000\",\"84000000\",\"21000000\",\"70000000000\",\"0\",\"8080000000\",\"54000000\",\"105120001.44\",\"25228800\",\"105000000\",\"21000000\",\"120000000\",\"21000000\",\"262800000\",\"19035999\",\"30886000\",\"13370000\",\"74800000000\",\"100000000\",\"19700000\",\"84000000\",\"500000000\",\"5000000000\",\"420000000\",\"64000000\",\"2100000\",\"168000000\",\"30000000\",\"1000000000\",\"35000000000\",\"98100000000\",\"0\",\"4000000000\",\"200000000\",\"7000000000\",\"54256119\",\"21000000\",\"0\",\"500000000\",\"1000000000\",\"10500000000\",\"190000000\",\"1000000000\",\"42000000\",\"15000000\",\"50000000000\",\"400000000\",\"105000000\",\"208000000\",\"160000000\",\"9000000\",\"5000000\",\"182000000\",\"16504333\",\"105000000\",\"159918400\",\"10008835635\",\"300000000\",\"60168145\",\"2800000\",\"120000\",\"2100000000\",\"0\",\"24487944\",\"0\",\"1000000000\",\"100000000\",\"8634140\",\"990000000000\",\"1000000000\",\"2000000000\",\"250000000\",\"1400222610\",\"21000000\",\"1000000\"],\"TotalCoinsMined\":{\"__ndarray__\":\"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\",\"dtype\":\"float64\",\"order\":\"little\",\"shape\":[532]}},\"selected\":{\"id\":\"1123\"},\"selection_policy\":{\"id\":\"1157\"}},\"id\":\"1122\",\"type\":\"ColumnDataSource\"},{\"attributes\":{},\"id\":\"1135\",\"type\":\"StringEditor\"},{\"attributes\":{},\"id\":\"1150\",\"type\":\"IntEditor\"},{\"attributes\":{\"editor\":{\"id\":\"1135\"},\"field\":\"ProofType\",\"formatter\":{\"id\":\"1134\"},\"title\":\"ProofType\"},\"id\":\"1136\",\"type\":\"TableColumn\"},{\"attributes\":{},\"id\":\"1140\",\"type\":\"StringEditor\"},{\"attributes\":{\"editor\":{\"id\":\"1145\"},\"field\":\"TotalCoinsMined\",\"formatter\":{\"id\":\"1144\"},\"title\":\"TotalCoinsMined\"},\"id\":\"1146\",\"type\":\"TableColumn\"},{\"attributes\":{\"editor\":{\"id\":\"1140\"},\"field\":\"TotalCoinSupply\",\"formatter\":{\"id\":\"1139\"},\"title\":\"TotalCoinSupply\"},\"id\":\"1141\",\"type\":\"TableColumn\"},{\"attributes\":{\"children\":[{\"id\":\"1121\"},{\"id\":\"1154\"},{\"id\":\"1161\"}],\"margin\":[0,0,0,0],\"name\":\"Row01796\",\"tags\":[\"embedded\"]},\"id\":\"1120\",\"type\":\"Row\"},{\"attributes\":{},\"id\":\"1123\",\"type\":\"Selection\"},{\"attributes\":{},\"id\":\"1145\",\"type\":\"NumberEditor\"},{\"attributes\":{},\"id\":\"1124\",\"type\":\"StringFormatter\"},{\"attributes\":{\"margin\":[5,5,5,5],\"name\":\"HSpacer01801\",\"sizing_mode\":\"stretch_width\"},\"id\":\"1161\",\"type\":\"Spacer\"},{\"attributes\":{},\"id\":\"1149\",\"type\":\"NumberFormatter\"},{\"attributes\":{\"margin\":[5,5,5,5],\"name\":\"HSpacer01800\",\"sizing_mode\":\"stretch_width\"},\"id\":\"1121\",\"type\":\"Spacer\"},{\"attributes\":{\"editor\":{\"id\":\"1150\"},\"field\":\"Class\",\"formatter\":{\"id\":\"1149\"},\"title\":\"Class\"},\"id\":\"1151\",\"type\":\"TableColumn\"},{\"attributes\":{},\"id\":\"1130\",\"type\":\"StringEditor\"},{\"attributes\":{},\"id\":\"1157\",\"type\":\"UnionRenderers\"},{\"attributes\":{\"editor\":{\"id\":\"1125\"},\"field\":\"CoinName\",\"formatter\":{\"id\":\"1124\"},\"title\":\"CoinName\"},\"id\":\"1126\",\"type\":\"TableColumn\"},{\"attributes\":{},\"id\":\"1125\",\"type\":\"StringEditor\"},{\"attributes\":{},\"id\":\"1134\",\"type\":\"StringFormatter\"},{\"attributes\":{\"columns\":[{\"id\":\"1126\"},{\"id\":\"1131\"},{\"id\":\"1136\"},{\"id\":\"1141\"},{\"id\":\"1146\"},{\"id\":\"1151\"}],\"height\":300,\"reorderable\":false,\"source\":{\"id\":\"1122\"},\"view\":{\"id\":\"1156\"},\"width\":700},\"id\":\"1154\",\"type\":\"DataTable\"}],\"root_ids\":[\"1120\"]},\"title\":\"Bokeh Application\",\"version\":\"2.4.2\"}};\n",
       "    var render_items = [{\"docid\":\"96f457eb-8586-4651-a50a-d3b9ac5594e0\",\"root_ids\":[\"1120\"],\"roots\":{\"1120\":\"3ea937c2-bccd-4893-8fcf-45411abf8295\"}}];\n",
       "    root.Bokeh.embed.embed_items_notebook(docs_json, render_items);\n",
       "  }\n",
       "  if (root.Bokeh !== undefined && root.Bokeh.Panel !== undefined) {\n",
       "    embed_document(root);\n",
       "  } else {\n",
       "    var attempts = 0;\n",
       "    var timer = setInterval(function(root) {\n",
       "      if (root.Bokeh !== undefined && root.Bokeh.Panel !== undefined) {\n",
       "        clearInterval(timer);\n",
       "        embed_document(root);\n",
       "      } else if (document.readyState == \"complete\") {\n",
       "        attempts++;\n",
       "        if (attempts > 200) {\n",
       "          clearInterval(timer);\n",
       "          console.log(\"Bokeh: ERROR: Unable to run BokehJS code because BokehJS library is missing\");\n",
       "        }\n",
       "      }\n",
       "    }, 25, root)\n",
       "  }\n",
       "})(window);</script>"
      ],
      "text/plain": [
       ":Table   [CoinName,Algorithm,ProofType,TotalCoinSupply,TotalCoinsMined,Class]"
      ]
     },
     "execution_count": 25,
     "metadata": {
      "application/vnd.holoviews_exec.v0+json": {
       "id": "1120"
      }
     },
     "output_type": "execute_result"
    }
   ],
   "source": [
    "# Create a table with tradable cryptocurrencies.\n",
    "clustered_df.hvplot.table(columns=[\"CoinName\",\"Algorithm\",\"ProofType\",\"TotalCoinSupply\",\"TotalCoinsMined\",\"Class\"], sortable=True, selectable=True)"
   ]
  },
  {
   "cell_type": "code",
   "execution_count": 26,
   "metadata": {},
   "outputs": [
    {
     "name": "stdout",
     "output_type": "stream",
     "text": [
      "532\n"
     ]
    }
   ],
   "source": [
    "# Print the total number of tradable cryptocurrencies.\n",
    "print(len(clustered_df))"
   ]
  },
  {
   "cell_type": "code",
   "execution_count": 27,
   "metadata": {},
   "outputs": [
    {
     "data": {
      "text/plain": [
       "array([[4.20000000e-11, 0.00000000e+00],\n",
       "       [5.32000000e-04, 1.06585544e-03],\n",
       "       [3.14159265e-01, 2.95755135e-02],\n",
       "       ...,\n",
       "       [1.40022261e-03, 9.90135079e-04],\n",
       "       [2.10000000e-05, 7.37028150e-06],\n",
       "       [1.00000000e-06, 1.29582282e-07]])"
      ]
     },
     "execution_count": 27,
     "metadata": {},
     "output_type": "execute_result"
    }
   ],
   "source": [
    "# Scaling data to create the scatter plot with tradable cryptocurrencies.\n",
    "scaler = MinMaxScaler()\n",
    "data = clustered_df[['TotalCoinSupply','TotalCoinsMined']]\n",
    "scaled = scaler.fit_transform(data)\n",
    "\n",
    "scaled"
   ]
  },
  {
   "cell_type": "code",
   "execution_count": 28,
   "metadata": {},
   "outputs": [
    {
     "data": {
      "text/html": [
       "<div>\n",
       "<style scoped>\n",
       "    .dataframe tbody tr th:only-of-type {\n",
       "        vertical-align: middle;\n",
       "    }\n",
       "\n",
       "    .dataframe tbody tr th {\n",
       "        vertical-align: top;\n",
       "    }\n",
       "\n",
       "    .dataframe thead th {\n",
       "        text-align: right;\n",
       "    }\n",
       "</style>\n",
       "<table border=\"1\" class=\"dataframe\">\n",
       "  <thead>\n",
       "    <tr style=\"text-align: right;\">\n",
       "      <th></th>\n",
       "      <th>TotalCoinSupply</th>\n",
       "      <th>TotalCoinsMined</th>\n",
       "      <th>CoinName</th>\n",
       "      <th>Class</th>\n",
       "    </tr>\n",
       "    <tr>\n",
       "      <th>Unnamed: 0</th>\n",
       "      <th></th>\n",
       "      <th></th>\n",
       "      <th></th>\n",
       "      <th></th>\n",
       "    </tr>\n",
       "  </thead>\n",
       "  <tbody>\n",
       "    <tr>\n",
       "      <th>42</th>\n",
       "      <td>4.200000e-11</td>\n",
       "      <td>0.000000</td>\n",
       "      <td>42 Coin</td>\n",
       "      <td>0</td>\n",
       "    </tr>\n",
       "    <tr>\n",
       "      <th>404</th>\n",
       "      <td>5.320000e-04</td>\n",
       "      <td>0.001066</td>\n",
       "      <td>404Coin</td>\n",
       "      <td>0</td>\n",
       "    </tr>\n",
       "    <tr>\n",
       "      <th>1337</th>\n",
       "      <td>3.141593e-01</td>\n",
       "      <td>0.029576</td>\n",
       "      <td>EliteCoin</td>\n",
       "      <td>0</td>\n",
       "    </tr>\n",
       "    <tr>\n",
       "      <th>BTC</th>\n",
       "      <td>2.100000e-05</td>\n",
       "      <td>0.000018</td>\n",
       "      <td>Bitcoin</td>\n",
       "      <td>1</td>\n",
       "    </tr>\n",
       "    <tr>\n",
       "      <th>ETH</th>\n",
       "      <td>0.000000e+00</td>\n",
       "      <td>0.000109</td>\n",
       "      <td>Ethereum</td>\n",
       "      <td>1</td>\n",
       "    </tr>\n",
       "    <tr>\n",
       "      <th>LTC</th>\n",
       "      <td>8.400000e-05</td>\n",
       "      <td>0.000064</td>\n",
       "      <td>Litecoin</td>\n",
       "      <td>1</td>\n",
       "    </tr>\n",
       "    <tr>\n",
       "      <th>DASH</th>\n",
       "      <td>2.200000e-05</td>\n",
       "      <td>0.000009</td>\n",
       "      <td>Dash</td>\n",
       "      <td>0</td>\n",
       "    </tr>\n",
       "    <tr>\n",
       "      <th>XMR</th>\n",
       "      <td>0.000000e+00</td>\n",
       "      <td>0.000017</td>\n",
       "      <td>Monero</td>\n",
       "      <td>1</td>\n",
       "    </tr>\n",
       "    <tr>\n",
       "      <th>ETC</th>\n",
       "      <td>2.100000e-04</td>\n",
       "      <td>0.000115</td>\n",
       "      <td>Ethereum Classic</td>\n",
       "      <td>1</td>\n",
       "    </tr>\n",
       "    <tr>\n",
       "      <th>ZEC</th>\n",
       "      <td>2.100000e-05</td>\n",
       "      <td>0.000007</td>\n",
       "      <td>ZCash</td>\n",
       "      <td>1</td>\n",
       "    </tr>\n",
       "  </tbody>\n",
       "</table>\n",
       "</div>"
      ],
      "text/plain": [
       "            TotalCoinSupply  TotalCoinsMined          CoinName  Class\n",
       "Unnamed: 0                                                           \n",
       "42             4.200000e-11         0.000000           42 Coin      0\n",
       "404            5.320000e-04         0.001066           404Coin      0\n",
       "1337           3.141593e-01         0.029576         EliteCoin      0\n",
       "BTC            2.100000e-05         0.000018           Bitcoin      1\n",
       "ETH            0.000000e+00         0.000109          Ethereum      1\n",
       "LTC            8.400000e-05         0.000064          Litecoin      1\n",
       "DASH           2.200000e-05         0.000009              Dash      0\n",
       "XMR            0.000000e+00         0.000017            Monero      1\n",
       "ETC            2.100000e-04         0.000115  Ethereum Classic      1\n",
       "ZEC            2.100000e-05         0.000007             ZCash      1"
      ]
     },
     "execution_count": 28,
     "metadata": {},
     "output_type": "execute_result"
    }
   ],
   "source": [
    "# Create a new DataFrame that has the scaled data with the clustered_df DataFrame index.\n",
    "scaled_df = pd.DataFrame(\n",
    "            data=scaled, \n",
    "            columns=[\"TotalCoinSupply\",\n",
    "                     \"TotalCoinsMined\"],\n",
    "            index=X.index\n",
    "            )\n",
    "\n",
    "# Add the \"CoinName\" column from the clustered_df DataFrame to the new DataFrame.\n",
    "plot_df = pd.concat([scaled_df, crypto_names], axis=1)\n",
    "\n",
    "# Add the \"Class\" column from the clustered_df DataFrame to the new DataFrame. \n",
    "plot_df['Class'] = predictions\n",
    "\n",
    "plot_df.head(10)"
   ]
  },
  {
   "cell_type": "code",
   "execution_count": 29,
   "metadata": {},
   "outputs": [
    {
     "data": {},
     "metadata": {},
     "output_type": "display_data"
    },
    {
     "data": {
      "application/vnd.holoviews_exec.v0+json": "",
      "text/html": [
       "<div id='1173'>\n",
       "\n",
       "\n",
       "\n",
       "\n",
       "\n",
       "  <div class=\"bk-root\" id=\"3d381290-ec40-4b4e-88bb-6c3a9c8e77b3\" data-root-id=\"1173\"></div>\n",
       "</div>\n",
       "<script type=\"application/javascript\">(function(root) {\n",
       "  function embed_document(root) {\n",
       "    var docs_json = {\"7215f593-a75a-4243-b612-13200bb16c0f\":{\"defs\":[{\"extends\":null,\"module\":null,\"name\":\"ReactiveHTML1\",\"overrides\":[],\"properties\":[]},{\"extends\":null,\"module\":null,\"name\":\"FlexBox1\",\"overrides\":[],\"properties\":[{\"default\":\"flex-start\",\"kind\":null,\"name\":\"align_content\"},{\"default\":\"flex-start\",\"kind\":null,\"name\":\"align_items\"},{\"default\":\"row\",\"kind\":null,\"name\":\"flex_direction\"},{\"default\":\"wrap\",\"kind\":null,\"name\":\"flex_wrap\"},{\"default\":\"flex-start\",\"kind\":null,\"name\":\"justify_content\"}]},{\"extends\":null,\"module\":null,\"name\":\"GridStack1\",\"overrides\":[],\"properties\":[{\"default\":\"warn\",\"kind\":null,\"name\":\"mode\"},{\"default\":null,\"kind\":null,\"name\":\"ncols\"},{\"default\":null,\"kind\":null,\"name\":\"nrows\"},{\"default\":true,\"kind\":null,\"name\":\"allow_resize\"},{\"default\":true,\"kind\":null,\"name\":\"allow_drag\"},{\"default\":[],\"kind\":null,\"name\":\"state\"}]},{\"extends\":null,\"module\":null,\"name\":\"click1\",\"overrides\":[],\"properties\":[{\"default\":\"\",\"kind\":null,\"name\":\"terminal_output\"},{\"default\":\"\",\"kind\":null,\"name\":\"debug_name\"},{\"default\":0,\"kind\":null,\"name\":\"clears\"}]},{\"extends\":null,\"module\":null,\"name\":\"TemplateActions1\",\"overrides\":[],\"properties\":[{\"default\":0,\"kind\":null,\"name\":\"open_modal\"},{\"default\":0,\"kind\":null,\"name\":\"close_modal\"}]},{\"extends\":null,\"module\":null,\"name\":\"MaterialTemplateActions1\",\"overrides\":[],\"properties\":[{\"default\":0,\"kind\":null,\"name\":\"open_modal\"},{\"default\":0,\"kind\":null,\"name\":\"close_modal\"}]}],\"roots\":{\"references\":[{\"attributes\":{},\"id\":\"1261\",\"type\":\"Selection\"},{\"attributes\":{\"label\":{\"value\":\"3\"},\"renderers\":[{\"id\":\"1290\"}]},\"id\":\"1308\",\"type\":\"LegendItem\"},{\"attributes\":{\"label\":{\"value\":\"2\"},\"renderers\":[{\"id\":\"1266\"}]},\"id\":\"1282\",\"type\":\"LegendItem\"},{\"attributes\":{},\"id\":\"1186\",\"type\":\"LinearScale\"},{\"attributes\":{},\"id\":\"1218\",\"type\":\"Selection\"},{\"attributes\":{},\"id\":\"1305\",\"type\":\"UnionRenderers\"},{\"attributes\":{\"fill_alpha\":{\"value\":0.2},\"fill_color\":{\"value\":\"#6d904f\"},\"hatch_alpha\":{\"value\":0.2},\"hatch_color\":{\"value\":\"#6d904f\"},\"line_alpha\":{\"value\":0.2},\"line_color\":{\"value\":\"#6d904f\"},\"size\":{\"value\":5.477225575051661},\"x\":{\"field\":\"TotalCoinsMined\"},\"y\":{\"field\":\"TotalCoinSupply\"}},\"id\":\"1289\",\"type\":\"Scatter\"},{\"attributes\":{\"callback\":null,\"renderers\":[{\"id\":\"1223\"},{\"id\":\"1244\"},{\"id\":\"1266\"},{\"id\":\"1290\"}],\"tags\":[\"hv_created\"],\"tooltips\":[[\"Class\",\"@{Class}\"],[\"TotalCoinsMined\",\"@{TotalCoinsMined}\"],[\"TotalCoinSupply\",\"@{TotalCoinSupply}\"],[\"CoinName\",\"@{CoinName}\"]]},\"id\":\"1177\",\"type\":\"HoverTool\"},{\"attributes\":{\"coordinates\":null,\"data_source\":{\"id\":\"1284\"},\"glyph\":{\"id\":\"1287\"},\"group\":null,\"hover_glyph\":null,\"muted_glyph\":{\"id\":\"1289\"},\"nonselection_glyph\":{\"id\":\"1288\"},\"selection_glyph\":{\"id\":\"1309\"},\"view\":{\"id\":\"1291\"}},\"id\":\"1290\",\"type\":\"GlyphRenderer\"},{\"attributes\":{\"angle\":{\"value\":0.0},\"fill_alpha\":{\"value\":1.0},\"fill_color\":{\"value\":\"#30a2da\"},\"hatch_alpha\":{\"value\":1.0},\"hatch_color\":{\"value\":\"#30a2da\"},\"hatch_scale\":{\"value\":12.0},\"hatch_weight\":{\"value\":1.0},\"line_alpha\":{\"value\":1.0},\"line_cap\":{\"value\":\"butt\"},\"line_color\":{\"value\":\"#30a2da\"},\"line_dash\":{\"value\":[]},\"line_dash_offset\":{\"value\":0},\"line_join\":{\"value\":\"bevel\"},\"line_width\":{\"value\":1},\"marker\":{\"value\":\"circle\"},\"size\":{\"value\":5.477225575051661},\"x\":{\"field\":\"TotalCoinsMined\"},\"y\":{\"field\":\"TotalCoinSupply\"}},\"id\":\"1237\",\"type\":\"Scatter\"},{\"attributes\":{\"source\":{\"id\":\"1284\"}},\"id\":\"1291\",\"type\":\"CDSView\"},{\"attributes\":{\"data\":{\"Class\":[3,3,3,3],\"CoinName\":[\"Vechain\",\"BiblePay\",\"Poa Network\",\"Acute Angle Cloud\"],\"TotalCoinSupply\":{\"__ndarray__\":\"+nQumcwytj+U9gZfmEx1P4RaKOGWizA//Knx0k1iUD8=\",\"dtype\":\"float64\",\"order\":\"little\",\"shape\":[4]},\"TotalCoinsMined\":{\"__ndarray__\":\"zaDgBxGurD+PWA2R2lNdP5wZJXiPEis/ekNDBbiMUD8=\",\"dtype\":\"float64\",\"order\":\"little\",\"shape\":[4]}},\"selected\":{\"id\":\"1285\"},\"selection_policy\":{\"id\":\"1305\"}},\"id\":\"1284\",\"type\":\"ColumnDataSource\"},{\"attributes\":{\"click_policy\":\"mute\",\"coordinates\":null,\"group\":null,\"items\":[{\"id\":\"1236\"},{\"id\":\"1258\"},{\"id\":\"1282\"},{\"id\":\"1308\"}],\"location\":[0,0],\"title\":\"Class\"},\"id\":\"1235\",\"type\":\"Legend\"},{\"attributes\":{\"data\":{\"Class\":[2],\"CoinName\":[\"BitTorrent\"],\"TotalCoinSupply\":{\"__ndarray__\":\"rkfhehSu7z8=\",\"dtype\":\"float64\",\"order\":\"little\",\"shape\":[1]},\"TotalCoinsMined\":{\"__ndarray__\":\"AAAAAAAA8D8=\",\"dtype\":\"float64\",\"order\":\"little\",\"shape\":[1]}},\"selected\":{\"id\":\"1261\"},\"selection_policy\":{\"id\":\"1279\"}},\"id\":\"1260\",\"type\":\"ColumnDataSource\"},{\"attributes\":{},\"id\":\"1188\",\"type\":\"LinearScale\"},{\"attributes\":{\"label\":{\"value\":\"0\"},\"renderers\":[{\"id\":\"1223\"}]},\"id\":\"1236\",\"type\":\"LegendItem\"},{\"attributes\":{},\"id\":\"1239\",\"type\":\"Selection\"},{\"attributes\":{\"data\":{\"Class\":[1,1,1,1,1,1,1,1,1,1,1,1,1,1,1,1,1,1,1,1,1,1,1,1,1,1,1,1,1,1,1,1,1,1,1,1,1,1,1,1,1,1,1,1,1,1,1,1,1,1,1,1,1,1,1,1,1,1,1,1,1,1,1,1,1,1,1,1,1,1,1,1,1,1,1,1,1,1,1,1,1,1,1,1,1,1,1,1,1,1,1,1,1,1,1,1,1,1,1,1,1,1,1,1,1,1,1,1,1,1,1,1,1,1,1,1,1,1,1,1,1,1,1,1,1,1,1,1,1,1,1,1,1,1,1,1,1,1,1,1,1,1,1,1,1,1,1,1,1,1,1,1,1,1,1,1,1,1,1,1,1,1,1,1,1,1,1,1,1,1,1,1,1,1,1,1,1,1,1,1,1,1,1,1,1,1,1,1,1,1,1,1,1,1,1,1,1,1,1,1,1,1,1,1,1,1,1,1,1,1,1,1,1,1,1,1,1,1,1,1,1,1,1,1,1,1,1,1,1,1,1,1,1,1,1,1,1,1,1,1,1],\"CoinName\":[\"Bitcoin\",\"Ethereum\",\"Litecoin\",\"Monero\",\"Ethereum Classic\",\"ZCash\",\"DigiByte\",\"ProsperCoin\",\"Spreadcoin\",\"Argentum\",\"MyriadCoin\",\"MoonCoin\",\"ZetaCoin\",\"SexCoin\",\"Quatloo\",\"QuarkCoin\",\"Riecoin\",\"Digitalcoin \",\"Catcoin\",\"CannaCoin\",\"CryptCoin\",\"CasinoCoin\",\"Verge\",\"DevCoin\",\"EarthCoin\",\"E-Gulden\",\"Einsteinium\",\"Emerald\",\"Franko\",\"FeatherCoin\",\"GrandCoin\",\"GlobalCoin\",\"GoldCoin\",\"Infinite Coin\",\"IXcoin\",\"KrugerCoin\",\"LuckyCoin\",\"Litebar \",\"MegaCoin\",\"MediterraneanCoin\",\"MinCoin\",\"NobleCoin\",\"Namecoin\",\"NyanCoin\",\"RonPaulCoin\",\"StableCoin\",\"SmartCoin\",\"SysCoin\",\"TigerCoin\",\"TerraCoin\",\"UnbreakableCoin\",\"Unobtanium\",\"UroCoin\",\"ViaCoin\",\"Vertcoin\",\"WorldCoin\",\"JouleCoin\",\"ByteCoin\",\"DigitalNote \",\"BurstCoin\",\"MonaCoin\",\"Gulden\",\"PesetaCoin\",\"Wild Beast Coin\",\"Flo\",\"ArtByte\",\"Folding Coin\",\"Unitus\",\"CypherPunkCoin\",\"OmniCron\",\"GreenCoin\",\"Cryptonite\",\"MasterCoin\",\"SoonCoin\",\"1Credit\",\"MarsCoin \",\"Crypto\",\"Anarchists Prime\",\"BowsCoin\",\"Song Coin\",\"BitZeny\",\"Expanse\",\"Siacoin\",\"MindCoin\",\"I0coin\",\"Revolution VR\",\"HOdlcoin\",\"Gamecredits\",\"CarpeDiemCoin\",\"Adzcoin\",\"SoilCoin\",\"YoCoin\",\"SibCoin\",\"Francs\",\"BolivarCoin\",\"Omni\",\"PizzaCoin\",\"Komodo\",\"Karbo\",\"ZayedCoin\",\"Circuits of Value\",\"DopeCoin\",\"DollarCoin\",\"Shilling\",\"ZCoin\",\"Elementrem\",\"ZClassic\",\"KiloCoin\",\"ArtexCoin\",\"Kurrent\",\"Cannabis Industry Coin\",\"OsmiumCoin\",\"Bikercoins\",\"HexxCoin\",\"PacCoin\",\"Citadel\",\"BeaverCoin\",\"VaultCoin\",\"Zero\",\"Canada eCoin\",\"Zoin\",\"DubaiCoin\",\"EB3coin\",\"Coinonat\",\"BenjiRolls\",\"ILCoin\",\"EquiTrader\",\"Quantum Resistant Ledger\",\"Dynamic\",\"Nano\",\"ChanCoin\",\"Dinastycoin\",\"DigitalPrice\",\"Unify\",\"SocialCoin\",\"ArcticCoin\",\"DAS\",\"LeviarCoin\",\"Bitcore\",\"gCn Coin\",\"SmartCash\",\"Onix\",\"Bitcoin Cash\",\"Sojourn Coin\",\"NewYorkCoin\",\"FrazCoin\",\"Kronecoin\",\"AdCoin\",\"Linx\",\"Sumokoin\",\"BitcoinZ\",\"Elements\",\"VIVO Coin\",\"Bitcoin Gold\",\"Pirl\",\"eBoost\",\"Pura\",\"Innova\",\"Ellaism\",\"GoByte\",\"SHIELD\",\"UltraNote\",\"BitCoal\",\"DaxxCoin\",\"AC3\",\"Lethean\",\"PopularCoin\",\"Photon\",\"Sucre\",\"SparksPay\",\"GunCoin\",\"IrishCoin\",\"Pioneer Coin\",\"UnitedBitcoin\",\"Interzone\",\"TurtleCoin\",\"MUNcoin\",\"Niobio Cash\",\"ShareChain\",\"Travelflex\",\"KREDS\",\"BitFlip\",\"LottoCoin\",\"Crypto Improvement Fund\",\"Callisto Network\",\"BitTube\",\"Poseidon\",\"Aidos Kuneen\",\"Bitrolium\",\"Alpenschillling\",\"FuturoCoin\",\"Monero Classic\",\"Jumpcoin\",\"Infinex\",\"KEYCO\",\"GINcoin\",\"PlatinCoin\",\"Loki\",\"Newton Coin\",\"MassGrid\",\"PluraCoin\",\"Motion\",\"PlusOneCoin\",\"Axe\",\"HexCoin\",\"Webchain\",\"Ryo\",\"Urals Coin\",\"Qwertycoin\",\"Project Pai\",\"Azart\",\"Xchange\",\"CrypticCoin\",\"Actinium\",\"Bitcoin SV\",\"FREDEnergy\",\"Universal Molecule\",\"Lithium\",\"PirateCash\",\"Exosis\",\"Block-Logic\",\"Beam\",\"Bithereum\",\"SLICE\",\"BLAST\",\"Bitcoin Rhodium\",\"GlobalToken\",\"SolarCoin\",\"UFO Coin\",\"BlakeCoin\",\"Crypto Escudo\",\"Crown Coin\",\"SmileyCoin\",\"Groestlcoin\",\"Bata\",\"Pakcoin\",\"JoinCoin\",\"Vollar\",\"Reality Clash\",\"Beldex\",\"Horizen\"],\"TotalCoinSupply\":{\"__ndarray__\":\"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\",\"dtype\":\"float64\",\"order\":\"little\",\"shape\":[241]},\"TotalCoinsMined\":{\"__ndarray__\":\"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\",\"dtype\":\"float64\",\"order\":\"little\",\"shape\":[241]}},\"selected\":{\"id\":\"1239\"},\"selection_policy\":{\"id\":\"1255\"}},\"id\":\"1238\",\"type\":\"ColumnDataSource\"},{\"attributes\":{\"fill_alpha\":{\"value\":0.2},\"fill_color\":{\"value\":\"#fc4f30\"},\"hatch_alpha\":{\"value\":0.2},\"hatch_color\":{\"value\":\"#fc4f30\"},\"line_alpha\":{\"value\":0.2},\"line_color\":{\"value\":\"#fc4f30\"},\"size\":{\"value\":5.477225575051661},\"x\":{\"field\":\"TotalCoinsMined\"},\"y\":{\"field\":\"TotalCoinSupply\"}},\"id\":\"1243\",\"type\":\"Scatter\"},{\"attributes\":{\"angle\":{\"value\":0.0},\"fill_alpha\":{\"value\":1.0},\"fill_color\":{\"value\":\"#6d904f\"},\"hatch_alpha\":{\"value\":1.0},\"hatch_color\":{\"value\":\"#6d904f\"},\"hatch_scale\":{\"value\":12.0},\"hatch_weight\":{\"value\":1.0},\"line_alpha\":{\"value\":1.0},\"line_cap\":{\"value\":\"butt\"},\"line_color\":{\"value\":\"#6d904f\"},\"line_dash\":{\"value\":[]},\"line_dash_offset\":{\"value\":0},\"line_join\":{\"value\":\"bevel\"},\"line_width\":{\"value\":1},\"marker\":{\"value\":\"circle\"},\"size\":{\"value\":5.477225575051661},\"x\":{\"field\":\"TotalCoinsMined\"},\"y\":{\"field\":\"TotalCoinSupply\"}},\"id\":\"1309\",\"type\":\"Scatter\"},{\"attributes\":{\"below\":[{\"id\":\"1190\"}],\"center\":[{\"id\":\"1193\"},{\"id\":\"1197\"}],\"height\":300,\"left\":[{\"id\":\"1194\"}],\"margin\":[5,5,5,5],\"min_border_bottom\":10,\"min_border_left\":10,\"min_border_right\":10,\"min_border_top\":10,\"renderers\":[{\"id\":\"1223\"},{\"id\":\"1244\"},{\"id\":\"1266\"},{\"id\":\"1290\"}],\"right\":[{\"id\":\"1235\"}],\"sizing_mode\":\"fixed\",\"title\":{\"id\":\"1182\"},\"toolbar\":{\"id\":\"1204\"},\"width\":700,\"x_range\":{\"id\":\"1175\"},\"x_scale\":{\"id\":\"1186\"},\"y_range\":{\"id\":\"1176\"},\"y_scale\":{\"id\":\"1188\"}},\"id\":\"1181\",\"subtype\":\"Figure\",\"type\":\"Plot\"},{\"attributes\":{\"fill_alpha\":{\"value\":0.1},\"fill_color\":{\"value\":\"#6d904f\"},\"hatch_alpha\":{\"value\":0.1},\"hatch_color\":{\"value\":\"#6d904f\"},\"line_alpha\":{\"value\":0.1},\"line_color\":{\"value\":\"#6d904f\"},\"size\":{\"value\":5.477225575051661},\"x\":{\"field\":\"TotalCoinsMined\"},\"y\":{\"field\":\"TotalCoinSupply\"}},\"id\":\"1288\",\"type\":\"Scatter\"},{\"attributes\":{\"coordinates\":null,\"group\":null,\"text_color\":\"black\",\"text_font_size\":\"12pt\"},\"id\":\"1182\",\"type\":\"Title\"},{\"attributes\":{},\"id\":\"1279\",\"type\":\"UnionRenderers\"},{\"attributes\":{},\"id\":\"1199\",\"type\":\"PanTool\"},{\"attributes\":{\"axis\":{\"id\":\"1190\"},\"coordinates\":null,\"grid_line_color\":null,\"group\":null,\"ticker\":null},\"id\":\"1193\",\"type\":\"Grid\"},{\"attributes\":{\"fill_color\":{\"value\":\"#e5ae38\"},\"hatch_color\":{\"value\":\"#e5ae38\"},\"line_color\":{\"value\":\"#e5ae38\"},\"size\":{\"value\":5.477225575051661},\"x\":{\"field\":\"TotalCoinsMined\"},\"y\":{\"field\":\"TotalCoinSupply\"}},\"id\":\"1263\",\"type\":\"Scatter\"},{\"attributes\":{\"fill_alpha\":{\"value\":0.2},\"fill_color\":{\"value\":\"#e5ae38\"},\"hatch_alpha\":{\"value\":0.2},\"hatch_color\":{\"value\":\"#e5ae38\"},\"line_alpha\":{\"value\":0.2},\"line_color\":{\"value\":\"#e5ae38\"},\"size\":{\"value\":5.477225575051661},\"x\":{\"field\":\"TotalCoinsMined\"},\"y\":{\"field\":\"TotalCoinSupply\"}},\"id\":\"1265\",\"type\":\"Scatter\"},{\"attributes\":{\"axis_label\":\"TotalCoinsMined\",\"coordinates\":null,\"formatter\":{\"id\":\"1212\"},\"group\":null,\"major_label_policy\":{\"id\":\"1213\"},\"ticker\":{\"id\":\"1191\"}},\"id\":\"1190\",\"type\":\"LinearAxis\"},{\"attributes\":{\"fill_alpha\":{\"value\":0.1},\"fill_color\":{\"value\":\"#e5ae38\"},\"hatch_alpha\":{\"value\":0.1},\"hatch_color\":{\"value\":\"#e5ae38\"},\"line_alpha\":{\"value\":0.1},\"line_color\":{\"value\":\"#e5ae38\"},\"size\":{\"value\":5.477225575051661},\"x\":{\"field\":\"TotalCoinsMined\"},\"y\":{\"field\":\"TotalCoinSupply\"}},\"id\":\"1264\",\"type\":\"Scatter\"},{\"attributes\":{\"fill_color\":{\"value\":\"#6d904f\"},\"hatch_color\":{\"value\":\"#6d904f\"},\"line_color\":{\"value\":\"#6d904f\"},\"size\":{\"value\":5.477225575051661},\"x\":{\"field\":\"TotalCoinsMined\"},\"y\":{\"field\":\"TotalCoinSupply\"}},\"id\":\"1287\",\"type\":\"Scatter\"},{\"attributes\":{},\"id\":\"1200\",\"type\":\"WheelZoomTool\"},{\"attributes\":{\"coordinates\":null,\"data_source\":{\"id\":\"1260\"},\"glyph\":{\"id\":\"1263\"},\"group\":null,\"hover_glyph\":null,\"muted_glyph\":{\"id\":\"1265\"},\"nonselection_glyph\":{\"id\":\"1264\"},\"selection_glyph\":{\"id\":\"1283\"},\"view\":{\"id\":\"1267\"}},\"id\":\"1266\",\"type\":\"GlyphRenderer\"},{\"attributes\":{},\"id\":\"1191\",\"type\":\"BasicTicker\"},{\"attributes\":{\"axis_label\":\"TotalCoinSupply\",\"coordinates\":null,\"formatter\":{\"id\":\"1215\"},\"group\":null,\"major_label_policy\":{\"id\":\"1216\"},\"ticker\":{\"id\":\"1195\"}},\"id\":\"1194\",\"type\":\"LinearAxis\"},{\"attributes\":{\"axis\":{\"id\":\"1194\"},\"coordinates\":null,\"dimension\":1,\"grid_line_color\":null,\"group\":null,\"ticker\":null},\"id\":\"1197\",\"type\":\"Grid\"},{\"attributes\":{},\"id\":\"1195\",\"type\":\"BasicTicker\"},{\"attributes\":{\"margin\":[5,5,5,5],\"name\":\"HSpacer01991\",\"sizing_mode\":\"stretch_width\"},\"id\":\"1174\",\"type\":\"Spacer\"},{\"attributes\":{},\"id\":\"1213\",\"type\":\"AllLabels\"},{\"attributes\":{\"data\":{\"Class\":[0,0,0,0,0,0,0,0,0,0,0,0,0,0,0,0,0,0,0,0,0,0,0,0,0,0,0,0,0,0,0,0,0,0,0,0,0,0,0,0,0,0,0,0,0,0,0,0,0,0,0,0,0,0,0,0,0,0,0,0,0,0,0,0,0,0,0,0,0,0,0,0,0,0,0,0,0,0,0,0,0,0,0,0,0,0,0,0,0,0,0,0,0,0,0,0,0,0,0,0,0,0,0,0,0,0,0,0,0,0,0,0,0,0,0,0,0,0,0,0,0,0,0,0,0,0,0,0,0,0,0,0,0,0,0,0,0,0,0,0,0,0,0,0,0,0,0,0,0,0,0,0,0,0,0,0,0,0,0,0,0,0,0,0,0,0,0,0,0,0,0,0,0,0,0,0,0,0,0,0,0,0,0,0,0,0,0,0,0,0,0,0,0,0,0,0,0,0,0,0,0,0,0,0,0,0,0,0,0,0,0,0,0,0,0,0,0,0,0,0,0,0,0,0,0,0,0,0,0,0,0,0,0,0,0,0,0,0,0,0,0,0,0,0,0,0,0,0,0,0,0,0,0,0,0,0,0,0,0,0,0,0,0,0,0,0,0,0,0,0,0,0,0,0,0,0,0,0,0,0,0,0,0,0,0,0],\"CoinName\":[\"42 Coin\",\"404Coin\",\"EliteCoin\",\"Dash\",\"Bitshares\",\"BitcoinDark\",\"PayCoin\",\"KoboCoin\",\"Aurora Coin\",\"BlueCoin\",\"EnergyCoin\",\"BitBar\",\"CryptoBullion\",\"Diamond\",\"Exclusive Coin\",\"FlutterCoin\",\"HoboNickels\",\"HyperStake\",\"IOCoin\",\"MaxCoin\",\"MintCoin\",\"MazaCoin\",\"Nautilus Coin\",\"NavCoin\",\"OpalCoin\",\"Orbitcoin\",\"PotCoin\",\"PhoenixCoin\",\"Reddcoin\",\"SuperCoin\",\"SyncCoin\",\"TeslaCoin\",\"TittieCoin\",\"TorCoin\",\"UnitaryStatus Dollar\",\"UltraCoin\",\"VeriCoin\",\"X11 Coin\",\"Crypti\",\"StealthCoin\",\"ZCC Coin\",\"StorjCoin\",\"Neutron\",\"FairCoin\",\"RubyCoin\",\"Kore\",\"Dnotes\",\"8BIT Coin\",\"Sativa Coin\",\"Ucoin\",\"Vtorrent\",\"IslaCoin\",\"Nexus\",\"Droidz\",\"Squall Coin\",\"Diggits\",\"Paycon\",\"Emercoin\",\"EverGreenCoin\",\"Decred\",\"EDRCoin\",\"Hitcoin\",\"DubaiCoin\",\"PWR Coin\",\"BillaryCoin\",\"GPU Coin\",\"EuropeCoin\",\"ZeitCoin\",\"SwingCoin\",\"SafeExchangeCoin\",\"Nebuchadnezzar\",\"Ratecoin\",\"Revenu\",\"Clockcoin\",\"VIP Tokens\",\"BitSend\",\"Let it Ride\",\"PutinCoin\",\"iBankCoin\",\"Frankywillcoin\",\"MudraCoin\",\"Lutetium Coin\",\"GoldBlocks\",\"CarterCoin\",\"BitTokens\",\"MustangCoin\",\"ZoneCoin\",\"RootCoin\",\"BitCurrency\",\"Swiscoin\",\"BuzzCoin\",\"Opair\",\"PesoBit\",\"Halloween Coin\",\"CoffeeCoin\",\"RoyalCoin\",\"GanjaCoin V2\",\"TeamUP\",\"LanaCoin\",\"ARK\",\"InsaneCoin\",\"EmberCoin\",\"XenixCoin\",\"FreeCoin\",\"PLNCoin\",\"AquariusCoin\",\"Creatio\",\"Eternity\",\"Eurocoin\",\"BitcoinFast\",\"Stakenet\",\"BitConnect Coin\",\"MoneyCoin\",\"Enigma\",\"Russiacoin\",\"PandaCoin\",\"GameUnits\",\"GAKHcoin\",\"Allsafe\",\"LiteCreed\",\"Klingon Empire Darsek\",\"Internet of People\",\"KushCoin\",\"Printerium\",\"Impeach\",\"Zilbercoin\",\"FirstCoin\",\"FindCoin\",\"OpenChat\",\"RenosCoin\",\"VirtacoinPlus\",\"TajCoin\",\"Impact\",\"Atmos\",\"HappyCoin\",\"MacronCoin\",\"Condensate\",\"Independent Money System\",\"ArgusCoin\",\"LomoCoin\",\"ProCurrency\",\"GoldReserve\",\"GrowthCoin\",\"Phreak\",\"Degas Coin\",\"HTML5 Coin\",\"Ultimate Secure Cash\",\"QTUM\",\"Espers\",\"Denarius\",\"Virta Unique Coin\",\"Bitcoin Planet\",\"BritCoin\",\"Linda\",\"DeepOnion\",\"Signatum\",\"Cream\",\"Monoeci\",\"Draftcoin\",\"Stakecoin\",\"CoinonatX\",\"Ethereum Dark\",\"Obsidian\",\"Cardano\",\"Regalcoin\",\"TrezarCoin\",\"TerraNovaCoin\",\"Rupee\",\"WomenCoin\",\"Theresa May Coin\",\"NamoCoin\",\"LUXCoin\",\"Xios\",\"Bitcloud 2.0\",\"KekCoin\",\"BlackholeCoin\",\"Infinity Economics\",\"Magnet\",\"Lamden Tau\",\"Electra\",\"Bitcoin Diamond\",\"Cash & Back Coin\",\"Bulwark\",\"Kalkulus\",\"GermanCoin\",\"LiteCoin Ultra\",\"PhantomX\",\"Digiwage\",\"Trollcoin\",\"Litecoin Plus\",\"Monkey Project\",\"TokenPay\",\"1717 Masonic Commemorative Token\",\"My Big Coin\",\"Unified Society USDEX\",\"Tokyo Coin\",\"LitecoinCash\",\"Stipend\",\"Pushi\",\"Ellerium\",\"Velox\",\"Ontology\",\"Bitspace\",\"Briacoin\",\"Ignition\",\"MedicCoin\",\"Bitcoin Green\",\"Deviant Coin\",\"Abjcoin\",\"Semux\",\"Carebit\",\"Zealium\",\"Proton\",\"iDealCash\",\"Bitcoin Incognito\",\"HollyWoodCoin\",\"Swisscoin\",\"Xt3ch\",\"TheVig\",\"EmaratCoin\",\"Dekado\",\"Lynx\",\"Poseidon Quark\",\"BitcoinWSpectrum\",\"Muse\",\"Trivechain\",\"Dystem\",\"Giant\",\"Peony Coin\",\"Absolute Coin\",\"Vitae\",\"TPCash\",\"ARENON\",\"EUNO\",\"MMOCoin\",\"Ketan\",\"XDNA\",\"PAXEX\",\"ThunderStake\",\"Kcash\",\"Bettex coin\",\"BitMoney\",\"Junson Ming Chan Coin\",\"HerbCoin\",\"Oduwa\",\"Galilel\",\"Crypto Sports\",\"Credit\",\"Dash Platinum\",\"Nasdacoin\",\"Beetle Coin\",\"Titan Coin\",\"Award\",\"Insane Coin\",\"ALAX\",\"LiteDoge\",\"TruckCoin\",\"OrangeCoin\",\"BitstarCoin\",\"NeosCoin\",\"HyperCoin\",\"PinkCoin\",\"AudioCoin\",\"IncaKoin\",\"Piggy Coin\",\"Genstake\",\"XiaoMiCoin\",\"CapriCoin\",\" ClubCoin\",\"Radium\",\"Creditbit \",\"OKCash\",\"Lisk\",\"HiCoin\",\"WhiteCoin\",\"FriendshipCoin\",\"Triangles Coin\",\"EOS\",\"Oxycoin\",\"TigerCash\",\"Waves\",\"Particl\",\"Nxt\",\"ZEPHYR\",\"Gapcoin\",\"BitcoinPlus\"],\"TotalCoinSupply\":{\"__ndarray__\":\"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\",\"dtype\":\"float64\",\"order\":\"little\",\"shape\":[286]},\"TotalCoinsMined\":{\"__ndarray__\":\"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\",\"dtype\":\"float64\",\"order\":\"little\",\"shape\":[286]}},\"selected\":{\"id\":\"1218\"},\"selection_policy\":{\"id\":\"1232\"}},\"id\":\"1217\",\"type\":\"ColumnDataSource\"},{\"attributes\":{},\"id\":\"1198\",\"type\":\"SaveTool\"},{\"attributes\":{\"source\":{\"id\":\"1260\"}},\"id\":\"1267\",\"type\":\"CDSView\"},{\"attributes\":{\"overlay\":{\"id\":\"1203\"}},\"id\":\"1201\",\"type\":\"BoxZoomTool\"},{\"attributes\":{},\"id\":\"1202\",\"type\":\"ResetTool\"},{\"attributes\":{\"label\":{\"value\":\"1\"},\"renderers\":[{\"id\":\"1244\"}]},\"id\":\"1258\",\"type\":\"LegendItem\"},{\"attributes\":{\"fill_color\":{\"value\":\"#fc4f30\"},\"hatch_color\":{\"value\":\"#fc4f30\"},\"line_color\":{\"value\":\"#fc4f30\"},\"size\":{\"value\":5.477225575051661},\"x\":{\"field\":\"TotalCoinsMined\"},\"y\":{\"field\":\"TotalCoinSupply\"}},\"id\":\"1241\",\"type\":\"Scatter\"},{\"attributes\":{\"children\":[{\"id\":\"1174\"},{\"id\":\"1181\"},{\"id\":\"1454\"}],\"margin\":[0,0,0,0],\"name\":\"Row01987\",\"tags\":[\"embedded\"]},\"id\":\"1173\",\"type\":\"Row\"},{\"attributes\":{\"bottom_units\":\"screen\",\"coordinates\":null,\"fill_alpha\":0.5,\"fill_color\":\"lightgrey\",\"group\":null,\"left_units\":\"screen\",\"level\":\"overlay\",\"line_alpha\":1.0,\"line_color\":\"black\",\"line_dash\":[4,4],\"line_width\":2,\"right_units\":\"screen\",\"syncable\":false,\"top_units\":\"screen\"},\"id\":\"1203\",\"type\":\"BoxAnnotation\"},{\"attributes\":{},\"id\":\"1232\",\"type\":\"UnionRenderers\"},{\"attributes\":{\"fill_alpha\":{\"value\":0.1},\"fill_color\":{\"value\":\"#fc4f30\"},\"hatch_alpha\":{\"value\":0.1},\"hatch_color\":{\"value\":\"#fc4f30\"},\"line_alpha\":{\"value\":0.1},\"line_color\":{\"value\":\"#fc4f30\"},\"size\":{\"value\":5.477225575051661},\"x\":{\"field\":\"TotalCoinsMined\"},\"y\":{\"field\":\"TotalCoinSupply\"}},\"id\":\"1242\",\"type\":\"Scatter\"},{\"attributes\":{\"coordinates\":null,\"data_source\":{\"id\":\"1238\"},\"glyph\":{\"id\":\"1241\"},\"group\":null,\"hover_glyph\":null,\"muted_glyph\":{\"id\":\"1243\"},\"nonselection_glyph\":{\"id\":\"1242\"},\"selection_glyph\":{\"id\":\"1259\"},\"view\":{\"id\":\"1245\"}},\"id\":\"1244\",\"type\":\"GlyphRenderer\"},{\"attributes\":{},\"id\":\"1216\",\"type\":\"AllLabels\"},{\"attributes\":{},\"id\":\"1255\",\"type\":\"UnionRenderers\"},{\"attributes\":{\"fill_alpha\":{\"value\":0.1},\"fill_color\":{\"value\":\"#30a2da\"},\"hatch_alpha\":{\"value\":0.1},\"hatch_color\":{\"value\":\"#30a2da\"},\"line_alpha\":{\"value\":0.1},\"line_color\":{\"value\":\"#30a2da\"},\"size\":{\"value\":5.477225575051661},\"x\":{\"field\":\"TotalCoinsMined\"},\"y\":{\"field\":\"TotalCoinSupply\"}},\"id\":\"1221\",\"type\":\"Scatter\"},{\"attributes\":{\"source\":{\"id\":\"1238\"}},\"id\":\"1245\",\"type\":\"CDSView\"},{\"attributes\":{\"fill_alpha\":{\"value\":0.2},\"fill_color\":{\"value\":\"#30a2da\"},\"hatch_alpha\":{\"value\":0.2},\"hatch_color\":{\"value\":\"#30a2da\"},\"line_alpha\":{\"value\":0.2},\"line_color\":{\"value\":\"#30a2da\"},\"size\":{\"value\":5.477225575051661},\"x\":{\"field\":\"TotalCoinsMined\"},\"y\":{\"field\":\"TotalCoinSupply\"}},\"id\":\"1222\",\"type\":\"Scatter\"},{\"attributes\":{\"source\":{\"id\":\"1217\"}},\"id\":\"1224\",\"type\":\"CDSView\"},{\"attributes\":{\"tools\":[{\"id\":\"1177\"},{\"id\":\"1198\"},{\"id\":\"1199\"},{\"id\":\"1200\"},{\"id\":\"1201\"},{\"id\":\"1202\"}]},\"id\":\"1204\",\"type\":\"Toolbar\"},{\"attributes\":{\"angle\":{\"value\":0.0},\"fill_alpha\":{\"value\":1.0},\"fill_color\":{\"value\":\"#e5ae38\"},\"hatch_alpha\":{\"value\":1.0},\"hatch_color\":{\"value\":\"#e5ae38\"},\"hatch_scale\":{\"value\":12.0},\"hatch_weight\":{\"value\":1.0},\"line_alpha\":{\"value\":1.0},\"line_cap\":{\"value\":\"butt\"},\"line_color\":{\"value\":\"#e5ae38\"},\"line_dash\":{\"value\":[]},\"line_dash_offset\":{\"value\":0},\"line_join\":{\"value\":\"bevel\"},\"line_width\":{\"value\":1},\"marker\":{\"value\":\"circle\"},\"size\":{\"value\":5.477225575051661},\"x\":{\"field\":\"TotalCoinsMined\"},\"y\":{\"field\":\"TotalCoinSupply\"}},\"id\":\"1283\",\"type\":\"Scatter\"},{\"attributes\":{},\"id\":\"1215\",\"type\":\"BasicTickFormatter\"},{\"attributes\":{},\"id\":\"1285\",\"type\":\"Selection\"},{\"attributes\":{\"coordinates\":null,\"data_source\":{\"id\":\"1217\"},\"glyph\":{\"id\":\"1220\"},\"group\":null,\"hover_glyph\":null,\"muted_glyph\":{\"id\":\"1222\"},\"nonselection_glyph\":{\"id\":\"1221\"},\"selection_glyph\":{\"id\":\"1237\"},\"view\":{\"id\":\"1224\"}},\"id\":\"1223\",\"type\":\"GlyphRenderer\"},{\"attributes\":{\"margin\":[5,5,5,5],\"name\":\"HSpacer01992\",\"sizing_mode\":\"stretch_width\"},\"id\":\"1454\",\"type\":\"Spacer\"},{\"attributes\":{\"fill_color\":{\"value\":\"#30a2da\"},\"hatch_color\":{\"value\":\"#30a2da\"},\"line_color\":{\"value\":\"#30a2da\"},\"size\":{\"value\":5.477225575051661},\"x\":{\"field\":\"TotalCoinsMined\"},\"y\":{\"field\":\"TotalCoinSupply\"}},\"id\":\"1220\",\"type\":\"Scatter\"},{\"attributes\":{\"end\":1.1,\"reset_end\":1.1,\"reset_start\":-0.1,\"start\":-0.1,\"tags\":[[[\"TotalCoinSupply\",\"TotalCoinSupply\",null]]]},\"id\":\"1176\",\"type\":\"Range1d\"},{\"attributes\":{\"angle\":{\"value\":0.0},\"fill_alpha\":{\"value\":1.0},\"fill_color\":{\"value\":\"#fc4f30\"},\"hatch_alpha\":{\"value\":1.0},\"hatch_color\":{\"value\":\"#fc4f30\"},\"hatch_scale\":{\"value\":12.0},\"hatch_weight\":{\"value\":1.0},\"line_alpha\":{\"value\":1.0},\"line_cap\":{\"value\":\"butt\"},\"line_color\":{\"value\":\"#fc4f30\"},\"line_dash\":{\"value\":[]},\"line_dash_offset\":{\"value\":0},\"line_join\":{\"value\":\"bevel\"},\"line_width\":{\"value\":1},\"marker\":{\"value\":\"circle\"},\"size\":{\"value\":5.477225575051661},\"x\":{\"field\":\"TotalCoinsMined\"},\"y\":{\"field\":\"TotalCoinSupply\"}},\"id\":\"1259\",\"type\":\"Scatter\"},{\"attributes\":{},\"id\":\"1212\",\"type\":\"BasicTickFormatter\"},{\"attributes\":{\"end\":1.042857142857143,\"reset_end\":1.042857142857143,\"reset_start\":-0.04285714285714286,\"start\":-0.04285714285714286,\"tags\":[[[\"TotalCoinsMined\",\"TotalCoinsMined\",null]]]},\"id\":\"1175\",\"type\":\"Range1d\"}],\"root_ids\":[\"1173\"]},\"title\":\"Bokeh Application\",\"version\":\"2.4.2\"}};\n",
       "    var render_items = [{\"docid\":\"7215f593-a75a-4243-b612-13200bb16c0f\",\"root_ids\":[\"1173\"],\"roots\":{\"1173\":\"3d381290-ec40-4b4e-88bb-6c3a9c8e77b3\"}}];\n",
       "    root.Bokeh.embed.embed_items_notebook(docs_json, render_items);\n",
       "  }\n",
       "  if (root.Bokeh !== undefined && root.Bokeh.Panel !== undefined) {\n",
       "    embed_document(root);\n",
       "  } else {\n",
       "    var attempts = 0;\n",
       "    var timer = setInterval(function(root) {\n",
       "      if (root.Bokeh !== undefined && root.Bokeh.Panel !== undefined) {\n",
       "        clearInterval(timer);\n",
       "        embed_document(root);\n",
       "      } else if (document.readyState == \"complete\") {\n",
       "        attempts++;\n",
       "        if (attempts > 200) {\n",
       "          clearInterval(timer);\n",
       "          console.log(\"Bokeh: ERROR: Unable to run BokehJS code because BokehJS library is missing\");\n",
       "        }\n",
       "      }\n",
       "    }, 25, root)\n",
       "  }\n",
       "})(window);</script>"
      ],
      "text/plain": [
       ":NdOverlay   [Class]\n",
       "   :Scatter   [TotalCoinsMined]   (TotalCoinSupply,CoinName)"
      ]
     },
     "execution_count": 29,
     "metadata": {
      "application/vnd.holoviews_exec.v0+json": {
       "id": "1173"
      }
     },
     "output_type": "execute_result"
    }
   ],
   "source": [
    "# Create a hvplot.scatter plot using x=\"TotalCoinsMined\" and y=\"TotalCoinSupply\".\n",
    "plot_df.hvplot.scatter(\n",
    "                x=\"TotalCoinsMined\",\n",
    "                y=\"TotalCoinSupply\",\n",
    "                by=\"Class\",\n",
    "                hover_cols=\"CoinName\")\n"
   ]
  },
  {
   "cell_type": "code",
   "execution_count": null,
   "metadata": {},
   "outputs": [],
   "source": []
  }
 ],
 "metadata": {
  "file_extension": ".py",
  "kernelspec": {
   "display_name": "PythonData",
   "language": "python",
   "name": "pythondata"
  },
  "language_info": {
   "codemirror_mode": {
    "name": "ipython",
    "version": 3
   },
   "file_extension": ".py",
   "mimetype": "text/x-python",
   "name": "python",
   "nbconvert_exporter": "python",
   "pygments_lexer": "ipython3",
   "version": "3.9.7"
  },
  "latex_envs": {
   "LaTeX_envs_menu_present": true,
   "autoclose": false,
   "autocomplete": true,
   "bibliofile": "biblio.bib",
   "cite_by": "apalike",
   "current_citInitial": 1,
   "eqLabelWithNumbers": true,
   "eqNumInitial": 1,
   "hotkeys": {
    "equation": "Ctrl-E",
    "itemize": "Ctrl-I"
   },
   "labels_anchors": false,
   "latex_user_defs": false,
   "report_style_numbering": false,
   "user_envs_cfg": false
  },
  "mimetype": "text/x-python",
  "name": "python",
  "npconvert_exporter": "python",
  "pygments_lexer": "ipython3",
  "version": 3
 },
 "nbformat": 4,
 "nbformat_minor": 4
}
